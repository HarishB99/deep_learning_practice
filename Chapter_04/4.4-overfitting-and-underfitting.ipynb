{
 "cells": [
  {
   "cell_type": "code",
   "execution_count": 1,
   "metadata": {},
   "outputs": [
    {
     "name": "stderr",
     "output_type": "stream",
     "text": [
      "Using TensorFlow backend.\n"
     ]
    },
    {
     "data": {
      "text/plain": [
       "'2.2.4'"
      ]
     },
     "execution_count": 1,
     "metadata": {},
     "output_type": "execute_result"
    }
   ],
   "source": [
    "import keras\n",
    "keras.__version__"
   ]
  },
  {
   "cell_type": "markdown",
   "metadata": {},
   "source": [
    "# Overfitting and underfitting\n",
    "\n",
    "This notebook contains the code samples found in Chapter 3, Section 6 of [Deep Learning with Python](https://www.manning.com/books/deep-learning-with-python?a_aid=keras&a_bid=76564dff). Note that the original text features far more content, in particular further explanations and figures: in this notebook, you will only find source code and related comments.\n",
    "\n",
    "----\n",
    "\n",
    "\n",
    "In all the examples we saw in the previous chapter -- movie review sentiment prediction, topic classification, and house price regression -- \n",
    "we could notice that the performance of our model on the held-out validation data would always peak after a few epochs and would then start \n",
    "degrading, i.e. our model would quickly start to _overfit_ to the training data. Overfitting happens in every single machine learning \n",
    "problem. Learning how to deal with overfitting is essential to mastering machine learning.\n",
    "\n",
    "The fundamental issue in machine learning is the tension between optimization and generalization. \"Optimization\" refers to the process of \n",
    "adjusting a model to get the best performance possible on the training data (the \"learning\" in \"machine learning\"), while \"generalization\" \n",
    "refers to how well the trained model would perform on data it has never seen before. The goal of the game is to get good generalization, of \n",
    "course, but you do not control generalization; you can only adjust the model based on its training data.\n",
    "\n",
    "At the beginning of training, optimization and generalization are correlated: the lower your loss on training data, the lower your loss on \n",
    "test data. While this is happening, your model is said to be _under-fit_: there is still progress to be made; the network hasn't yet \n",
    "modeled all relevant patterns in the training data. But after a certain number of iterations on the training data, generalization stops \n",
    "improving, validation metrics stall then start degrading: the model is then starting to over-fit, i.e. is it starting to learn patterns \n",
    "that are specific to the training data but that are misleading or irrelevant when it comes to new data.\n",
    "\n",
    "To prevent a model from learning misleading or irrelevant patterns found in the training data, _the best solution is of course to get \n",
    "more training data_. A model trained on more data will naturally generalize better. When that is no longer possible, the next best solution \n",
    "is to modulate the quantity of information that your model is allowed to store, or to add constraints on what information it is allowed to \n",
    "store. If a network can only afford to memorize a small number of patterns, the optimization process will force it to focus on the most \n",
    "prominent patterns, which have a better chance of generalizing well.\n",
    "\n",
    "The processing of fighting overfitting in this way is called _regularization_. Let's review some of the most common regularization \n",
    "techniques, and let's apply them in practice to improve our movie classification model from  the previous chapter."
   ]
  },
  {
   "cell_type": "markdown",
   "metadata": {},
   "source": [
    "Note: in this notebook we will be using the IMDB test set as our validation set. It doesn't matter in this context.\n",
    "\n",
    "Let's prepare the data using the code from Chapter 3, Section 5:"
   ]
  },
  {
   "cell_type": "code",
   "execution_count": 2,
   "metadata": {},
   "outputs": [],
   "source": [
    "from keras.datasets import imdb\n",
    "import numpy as np\n",
    "\n",
    "(train_data, train_labels), (test_data, test_labels) = imdb.load_data(num_words=10000)\n",
    "\n",
    "def vectorize_sequences(sequences, dimension=10000):\n",
    "    # Create an all-zero matrix of shape (len(sequences), dimension)\n",
    "    results = np.zeros((len(sequences), dimension))\n",
    "    for i, sequence in enumerate(sequences):\n",
    "        results[i, sequence] = 1.  # set specific indices of results[i] to 1s\n",
    "    return results\n",
    "\n",
    "# Our vectorized training data\n",
    "x_train = vectorize_sequences(train_data)\n",
    "# Our vectorized test data\n",
    "x_test = vectorize_sequences(test_data)\n",
    "# Our vectorized labels\n",
    "y_train = np.asarray(train_labels).astype('float32')\n",
    "y_test = np.asarray(test_labels).astype('float32')"
   ]
  },
  {
   "cell_type": "markdown",
   "metadata": {},
   "source": [
    "# Fighting overfitting\n",
    "\n",
    "## Reducing the network's size\n",
    "\n",
    "\n",
    "The simplest way to prevent overfitting is to reduce the size of the model, i.e. the number of learnable parameters in the model (which is \n",
    "determined by the number of layers and the number of units per layer). In deep learning, the number of learnable parameters in a model is \n",
    "often referred to as the model's \"capacity\". Intuitively, a model with more parameters will have more \"memorization capacity\" and therefore \n",
    "will be able to easily learn a perfect dictionary-like mapping between training samples and their targets, a mapping without any \n",
    "generalization power. For instance, a model with 500,000 binary parameters could easily be made to learn the class of every digits in the \n",
    "MNIST training set: we would only need 10 binary parameters for each of the 50,000 digits. Such a model would be useless for classifying \n",
    "new digit samples. Always keep this in mind: deep learning models tend to be good at fitting to the training data, but the real challenge \n",
    "is generalization, not fitting.\n",
    "\n",
    "On the other hand, if the network has limited memorization resources, it will not be able to learn this mapping as easily, and thus, in \n",
    "order to minimize its loss, it will have to resort to learning compressed representations that have predictive power regarding the targets \n",
    "-- precisely the type of representations that we are interested in. At the same time, keep in mind that you should be using models that have \n",
    "enough parameters that they won't be underfitting: your model shouldn't be starved for memorization resources. There is a compromise to be \n",
    "found between \"too much capacity\" and \"not enough capacity\".\n",
    "\n",
    "Unfortunately, there is no magical formula to determine what the right number of layers is, or what the right size for each layer is. You \n",
    "will have to evaluate an array of different architectures (on your validation set, not on your test set, of course) in order to find the \n",
    "right model size for your data. The general workflow to find an appropriate model size is to start with relatively few layers and \n",
    "parameters, and start increasing the size of the layers or adding new layers until you see diminishing returns with regard to the \n",
    "validation loss.\n",
    "\n",
    "Let's try this on our movie review classification network. Our original network was as such:"
   ]
  },
  {
   "cell_type": "code",
   "execution_count": 3,
   "metadata": {},
   "outputs": [],
   "source": [
    "from keras import models\n",
    "from keras import layers\n",
    "\n",
    "original_model = models.Sequential()\n",
    "original_model.add(layers.Dense(16, activation='relu', input_shape=(10000,)))\n",
    "original_model.add(layers.Dense(16, activation='relu'))\n",
    "original_model.add(layers.Dense(1, activation='sigmoid'))\n",
    "\n",
    "original_model.compile(optimizer='rmsprop',\n",
    "                       loss='binary_crossentropy',\n",
    "                       metrics=['acc'])"
   ]
  },
  {
   "cell_type": "markdown",
   "metadata": {},
   "source": [
    "Now let's try to replace it with this smaller network:"
   ]
  },
  {
   "cell_type": "code",
   "execution_count": 14,
   "metadata": {},
   "outputs": [],
   "source": [
    "smaller_model = models.Sequential()\n",
    "smaller_model.add(layers.Dense(2, activation='relu', input_shape=(10000,)))\n",
    "smaller_model.add(layers.Dense(2, activation='relu'))\n",
    "smaller_model.add(layers.Dense(1, activation='sigmoid'))\n",
    "\n",
    "smaller_model.compile(optimizer='rmsprop',\n",
    "                      loss='binary_crossentropy',\n",
    "                      metrics=['acc'])"
   ]
  },
  {
   "cell_type": "markdown",
   "metadata": {},
   "source": [
    "\n",
    "Here's a comparison of the validation losses of the original network and the smaller network. The dots are the validation loss values of \n",
    "the smaller network, and the crosses are the initial network (remember: a lower validation loss signals a better model)."
   ]
  },
  {
   "cell_type": "code",
   "execution_count": 5,
   "metadata": {},
   "outputs": [
    {
     "name": "stdout",
     "output_type": "stream",
     "text": [
      "Train on 25000 samples, validate on 25000 samples\n",
      "Epoch 1/20\n",
      "25000/25000 [==============================] - 4s 142us/step - loss: 0.4438 - acc: 0.8251 - val_loss: 0.3286 - val_acc: 0.8837\n",
      "Epoch 2/20\n",
      "25000/25000 [==============================] - 3s 110us/step - loss: 0.2576 - acc: 0.9080 - val_loss: 0.2862 - val_acc: 0.8886\n",
      "Epoch 3/20\n",
      "25000/25000 [==============================] - 3s 110us/step - loss: 0.1998 - acc: 0.9285 - val_loss: 0.2818 - val_acc: 0.8884\n",
      "Epoch 4/20\n",
      "25000/25000 [==============================] - 3s 108us/step - loss: 0.1674 - acc: 0.9408 - val_loss: 0.2929 - val_acc: 0.8846\n",
      "Epoch 5/20\n",
      "25000/25000 [==============================] - 2s 96us/step - loss: 0.1445 - acc: 0.9495 - val_loss: 0.3102 - val_acc: 0.8810\n",
      "Epoch 6/20\n",
      "25000/25000 [==============================] - 3s 105us/step - loss: 0.1270 - acc: 0.9549 - val_loss: 0.3462 - val_acc: 0.8727\n",
      "Epoch 7/20\n",
      "25000/25000 [==============================] - 2s 98us/step - loss: 0.1125 - acc: 0.9614 - val_loss: 0.3561 - val_acc: 0.8734\n",
      "Epoch 8/20\n",
      "25000/25000 [==============================] - 2s 96us/step - loss: 0.0999 - acc: 0.9662 - val_loss: 0.3901 - val_acc: 0.8668\n",
      "Epoch 9/20\n",
      "25000/25000 [==============================] - 2s 94us/step - loss: 0.0866 - acc: 0.9710 - val_loss: 0.4189 - val_acc: 0.8648\n",
      "Epoch 10/20\n",
      "25000/25000 [==============================] - 2s 97us/step - loss: 0.0783 - acc: 0.9746 - val_loss: 0.4889 - val_acc: 0.8531\n",
      "Epoch 11/20\n",
      "25000/25000 [==============================] - 3s 120us/step - loss: 0.0720 - acc: 0.9766 - val_loss: 0.4768 - val_acc: 0.8597\n",
      "Epoch 12/20\n",
      "25000/25000 [==============================] - 3s 110us/step - loss: 0.0602 - acc: 0.9816 - val_loss: 0.5109 - val_acc: 0.8575\n",
      "Epoch 13/20\n",
      "25000/25000 [==============================] - 3s 102us/step - loss: 0.0545 - acc: 0.9831 - val_loss: 0.5266 - val_acc: 0.8594\n",
      "Epoch 14/20\n",
      "25000/25000 [==============================] - 3s 104us/step - loss: 0.0457 - acc: 0.9867 - val_loss: 0.5970 - val_acc: 0.8497\n",
      "Epoch 15/20\n",
      "25000/25000 [==============================] - 3s 103us/step - loss: 0.0410 - acc: 0.9878 - val_loss: 0.5966 - val_acc: 0.8551\n",
      "Epoch 16/20\n",
      "25000/25000 [==============================] - 2s 84us/step - loss: 0.0333 - acc: 0.9909 - val_loss: 0.6397 - val_acc: 0.8512\n",
      "Epoch 17/20\n",
      "25000/25000 [==============================] - 2s 89us/step - loss: 0.0300 - acc: 0.9921 - val_loss: 0.6752 - val_acc: 0.8512\n",
      "Epoch 18/20\n",
      "25000/25000 [==============================] - 3s 112us/step - loss: 0.0238 - acc: 0.9940 - val_loss: 0.7197 - val_acc: 0.8489\n",
      "Epoch 19/20\n",
      "25000/25000 [==============================] - 2s 99us/step - loss: 0.0223 - acc: 0.9942 - val_loss: 0.7372 - val_acc: 0.8502\n",
      "Epoch 20/20\n",
      "25000/25000 [==============================] - 2s 93us/step - loss: 0.0172 - acc: 0.9957 - val_loss: 0.9173 - val_acc: 0.8346\n"
     ]
    }
   ],
   "source": [
    "original_hist = original_model.fit(x_train, y_train,\n",
    "                                   epochs=20,\n",
    "                                   batch_size=512,\n",
    "                                   validation_data=(x_test, y_test))"
   ]
  },
  {
   "cell_type": "code",
   "execution_count": 15,
   "metadata": {},
   "outputs": [
    {
     "name": "stdout",
     "output_type": "stream",
     "text": [
      "Train on 25000 samples, validate on 25000 samples\n",
      "Epoch 1/20\n",
      "25000/25000 [==============================] - 3s 138us/step - loss: 0.5997 - acc: 0.6982 - val_loss: 0.5540 - val_acc: 0.7466\n",
      "Epoch 2/20\n",
      "25000/25000 [==============================] - 3s 106us/step - loss: 0.5095 - acc: 0.8238 - val_loss: 0.5083 - val_acc: 0.8216\n",
      "Epoch 3/20\n",
      "25000/25000 [==============================] - 3s 107us/step - loss: 0.4645 - acc: 0.8709 - val_loss: 0.4818 - val_acc: 0.8524\n",
      "Epoch 4/20\n",
      "25000/25000 [==============================] - 2s 90us/step - loss: 0.4327 - acc: 0.8960 - val_loss: 0.4641 - val_acc: 0.8701\n",
      "Epoch 5/20\n",
      "25000/25000 [==============================] - 2s 88us/step - loss: 0.4071 - acc: 0.9126 - val_loss: 0.4519 - val_acc: 0.8733\n",
      "Epoch 6/20\n",
      "25000/25000 [==============================] - 3s 119us/step - loss: 0.3852 - acc: 0.9260 - val_loss: 0.4428 - val_acc: 0.8765\n",
      "Epoch 7/20\n",
      "25000/25000 [==============================] - 3s 122us/step - loss: 0.3657 - acc: 0.9354 - val_loss: 0.4362 - val_acc: 0.8772\n",
      "Epoch 8/20\n",
      "25000/25000 [==============================] - 3s 118us/step - loss: 0.3477 - acc: 0.9430 - val_loss: 0.4410 - val_acc: 0.8694\n",
      "Epoch 9/20\n",
      "25000/25000 [==============================] - 3s 117us/step - loss: 0.3318 - acc: 0.9490 - val_loss: 0.4372 - val_acc: 0.8708\n",
      "Epoch 10/20\n",
      "25000/25000 [==============================] - 3s 121us/step - loss: 0.3167 - acc: 0.9537 - val_loss: 0.4309 - val_acc: 0.8728\n",
      "Epoch 11/20\n",
      "25000/25000 [==============================] - 3s 124us/step - loss: 0.3020 - acc: 0.9594 - val_loss: 0.4360 - val_acc: 0.8709\n",
      "Epoch 12/20\n",
      "25000/25000 [==============================] - 3s 116us/step - loss: 0.2890 - acc: 0.9628 - val_loss: 0.4296 - val_acc: 0.8714\n",
      "Epoch 13/20\n",
      "25000/25000 [==============================] - 3s 114us/step - loss: 0.2758 - acc: 0.9660 - val_loss: 0.4295 - val_acc: 0.8712\n",
      "Epoch 14/20\n",
      "25000/25000 [==============================] - 3s 119us/step - loss: 0.2637 - acc: 0.9689 - val_loss: 0.4406 - val_acc: 0.8682\n",
      "Epoch 15/20\n",
      "25000/25000 [==============================] - 3s 118us/step - loss: 0.2527 - acc: 0.9706 - val_loss: 0.4450 - val_acc: 0.8672\n",
      "Epoch 16/20\n",
      "25000/25000 [==============================] - 3s 121us/step - loss: 0.2415 - acc: 0.9733 - val_loss: 0.4649 - val_acc: 0.8651\n",
      "Epoch 17/20\n",
      "25000/25000 [==============================] - 3s 115us/step - loss: 0.2316 - acc: 0.9754 - val_loss: 0.4563 - val_acc: 0.8655\n",
      "Epoch 18/20\n",
      "25000/25000 [==============================] - 3s 122us/step - loss: 0.2217 - acc: 0.9774 - val_loss: 0.4546 - val_acc: 0.8650\n",
      "Epoch 19/20\n",
      "25000/25000 [==============================] - 3s 117us/step - loss: 0.2119 - acc: 0.9786 - val_loss: 0.4713 - val_acc: 0.8628\n",
      "Epoch 20/20\n",
      "25000/25000 [==============================] - 3s 127us/step - loss: 0.2033 - acc: 0.9790 - val_loss: 0.4704 - val_acc: 0.8633\n"
     ]
    }
   ],
   "source": [
    "smaller_model_hist = smaller_model.fit(x_train, y_train,\n",
    "                                       epochs=20,\n",
    "                                       batch_size=512,\n",
    "                                       validation_data=(x_test, y_test))"
   ]
  },
  {
   "cell_type": "code",
   "execution_count": 16,
   "metadata": {},
   "outputs": [],
   "source": [
    "epochs = range(1, 21)\n",
    "original_val_loss = original_hist.history['val_loss']\n",
    "smaller_model_val_loss = smaller_model_hist.history['val_loss']"
   ]
  },
  {
   "cell_type": "code",
   "execution_count": 17,
   "metadata": {},
   "outputs": [
    {
     "data": {
      "image/png": "[encoded data removed]",
      "text/plain": [
       "<Figure size 432x288 with 1 Axes>"
      ]
     },
     "metadata": {
      "needs_background": "light"
     },
     "output_type": "display_data"
    }
   ],
   "source": [
    "import matplotlib.pyplot as plt\n",
    "\n",
    "# b+ is for \"blue cross\"\n",
    "plt.plot(epochs, original_val_loss, 'b+', label='Original model')\n",
    "# \"bo\" is for \"blue dot\"\n",
    "plt.plot(epochs, smaller_model_val_loss, 'ro', label='Smaller model')\n",
    "plt.xlabel('Epochs')\n",
    "plt.ylabel('Validation loss')\n",
    "plt.legend()\n",
    "\n",
    "plt.show()"
   ]
  },
  {
   "cell_type": "markdown",
   "metadata": {},
   "source": [
    "\n",
    "As you can see, the smaller network starts overfitting later than the reference one (after 6 epochs rather than 4) and its performance \n",
    "degrades much more slowly once it starts overfitting.\n",
    "\n",
    "Now, for kicks, let's add to this benchmark a network that has much more capacity, far more than the problem would warrant:"
   ]
  },
  {
   "cell_type": "code",
   "execution_count": 18,
   "metadata": {},
   "outputs": [],
   "source": [
    "bigger_model = models.Sequential()\n",
    "bigger_model.add(layers.Dense(512, activation='relu', input_shape=(10000,)))\n",
    "bigger_model.add(layers.Dense(512, activation='relu'))\n",
    "bigger_model.add(layers.Dense(1, activation='sigmoid'))\n",
    "\n",
    "bigger_model.compile(optimizer='rmsprop',\n",
    "                     loss='binary_crossentropy',\n",
    "                     metrics=['acc'])"
   ]
  },
  {
   "cell_type": "code",
   "execution_count": 19,
   "metadata": {},
   "outputs": [
    {
     "name": "stdout",
     "output_type": "stream",
     "text": [
      "Train on 25000 samples, validate on 25000 samples\n",
      "Epoch 1/20\n",
      "25000/25000 [==============================] - 10s 419us/step - loss: 0.5786 - acc: 0.6884 - val_loss: 0.7637 - val_acc: 0.6759\n",
      "Epoch 2/20\n",
      "25000/25000 [==============================] - 9s 342us/step - loss: 0.3552 - acc: 0.8478 - val_loss: 0.4847 - val_acc: 0.7884\n",
      "Epoch 3/20\n",
      "25000/25000 [==============================] - 8s 328us/step - loss: 0.2902 - acc: 0.8776 - val_loss: 0.3087 - val_acc: 0.8740\n",
      "Epoch 4/20\n",
      "25000/25000 [==============================] - 9s 345us/step - loss: 0.2661 - acc: 0.8874 - val_loss: 0.2896 - val_acc: 0.8853\n",
      "Epoch 5/20\n",
      "25000/25000 [==============================] - 9s 357us/step - loss: 0.2264 - acc: 0.9055 - val_loss: 0.3222 - val_acc: 0.8741\n",
      "Epoch 6/20\n",
      "25000/25000 [==============================] - 8s 337us/step - loss: 0.1975 - acc: 0.9136 - val_loss: 0.3087 - val_acc: 0.8774\n",
      "Epoch 7/20\n",
      "25000/25000 [==============================] - 8s 328us/step - loss: 0.1929 - acc: 0.9223 - val_loss: 0.4700 - val_acc: 0.8458\n",
      "Epoch 8/20\n",
      "25000/25000 [==============================] - 8s 329us/step - loss: 0.1705 - acc: 0.9307 - val_loss: 0.4155 - val_acc: 0.8694\n",
      "Epoch 9/20\n",
      "25000/25000 [==============================] - 9s 362us/step - loss: 0.1691 - acc: 0.9284 - val_loss: 0.3927 - val_acc: 0.8782\n",
      "Epoch 10/20\n",
      "25000/25000 [==============================] - 9s 353us/step - loss: 0.1316 - acc: 0.9438 - val_loss: 0.4646 - val_acc: 0.8756\n",
      "Epoch 11/20\n",
      "25000/25000 [==============================] - 9s 358us/step - loss: 0.1438 - acc: 0.9407 - val_loss: 0.5309 - val_acc: 0.8744\n",
      "Epoch 12/20\n",
      "25000/25000 [==============================] - 9s 357us/step - loss: 0.1441 - acc: 0.9522 - val_loss: 0.5544 - val_acc: 0.8665\n",
      "Epoch 13/20\n",
      "25000/25000 [==============================] - 9s 358us/step - loss: 0.1384 - acc: 0.9507 - val_loss: 1.0419 - val_acc: 0.7848\n",
      "Epoch 14/20\n",
      "25000/25000 [==============================] - 9s 355us/step - loss: 0.1213 - acc: 0.9530 - val_loss: 0.6095 - val_acc: 0.8662\n",
      "Epoch 15/20\n",
      "25000/25000 [==============================] - 9s 354us/step - loss: 0.1262 - acc: 0.9593 - val_loss: 0.5836 - val_acc: 0.8711\n",
      "Epoch 16/20\n",
      "25000/25000 [==============================] - 8s 329us/step - loss: 0.1098 - acc: 0.9657 - val_loss: 0.6978 - val_acc: 0.8647\n",
      "Epoch 17/20\n",
      "25000/25000 [==============================] - 8s 329us/step - loss: 0.1246 - acc: 0.9637 - val_loss: 0.7027 - val_acc: 0.8676\n",
      "Epoch 18/20\n",
      "25000/25000 [==============================] - 8s 337us/step - loss: 0.1279 - acc: 0.9684 - val_loss: 0.6271 - val_acc: 0.8674\n",
      "Epoch 19/20\n",
      "25000/25000 [==============================] - 9s 358us/step - loss: 0.0831 - acc: 0.9808 - val_loss: 0.8153 - val_acc: 0.8623\n",
      "Epoch 20/20\n",
      "25000/25000 [==============================] - 10s 389us/step - loss: 0.1038 - acc: 0.9828 - val_loss: 1.0344 - val_acc: 0.8490\n"
     ]
    }
   ],
   "source": [
    "bigger_model_hist = bigger_model.fit(x_train, y_train,\n",
    "                                     epochs=20,\n",
    "                                     batch_size=512,\n",
    "                                     validation_data=(x_test, y_test))"
   ]
  },
  {
   "cell_type": "markdown",
   "metadata": {},
   "source": [
    "Here's how the bigger network fares compared to the reference one. The dots are the validation loss values of the bigger network, and the \n",
    "crosses are the initial network."
   ]
  },
  {
   "cell_type": "code",
   "execution_count": 20,
   "metadata": {},
   "outputs": [
    {
     "data": {
      "image/png": "[encoded data removed]",
      "text/plain": [
       "<Figure size 432x288 with 1 Axes>"
      ]
     },
     "metadata": {
      "needs_background": "light"
     },
     "output_type": "display_data"
    }
   ],
   "source": [
    "bigger_model_val_loss = bigger_model_hist.history['val_loss']\n",
    "\n",
    "plt.plot(epochs, original_val_loss, 'b+', label='Original model')\n",
    "plt.plot(epochs, bigger_model_val_loss, 'bo', label='Bigger model')\n",
    "plt.xlabel('Epochs')\n",
    "plt.ylabel('Validation loss')\n",
    "plt.legend()\n",
    "\n",
    "plt.show()"
   ]
  },
  {
   "cell_type": "markdown",
   "metadata": {},
   "source": [
    "\n",
    "The bigger network starts overfitting almost right away, after just one epoch, and overfits much more severely. Its validation loss is also \n",
    "more noisy.\n",
    "\n",
    "Meanwhile, here are the training losses for our two networks:"
   ]
  },
  {
   "cell_type": "code",
   "execution_count": 21,
   "metadata": {},
   "outputs": [
    {
     "data": {
      "image/png": "[encoded data removed]",
      "text/plain": [
       "<Figure size 432x288 with 1 Axes>"
      ]
     },
     "metadata": {
      "needs_background": "light"
     },
     "output_type": "display_data"
    }
   ],
   "source": [
    "original_train_loss = original_hist.history['loss']\n",
    "bigger_model_train_loss = bigger_model_hist.history['loss']\n",
    "\n",
    "plt.plot(epochs, original_train_loss, 'b+', label='Original model')\n",
    "plt.plot(epochs, bigger_model_train_loss, 'bo', label='Bigger model')\n",
    "plt.xlabel('Epochs')\n",
    "plt.ylabel('Training loss')\n",
    "plt.legend()\n",
    "\n",
    "plt.show()"
   ]
  },
  {
   "cell_type": "markdown",
   "metadata": {},
   "source": [
    "As you can see, the bigger network gets its training loss near zero very quickly. The more capacity the network has, the quicker it will be \n",
    "able to model the training data (resulting in a low training loss), but the more susceptible it is to overfitting (resulting in a large \n",
    "difference between the training and validation loss)."
   ]
  },
  {
   "cell_type": "markdown",
   "metadata": {},
   "source": [
    "## Adding weight regularization\n",
    "\n",
    "\n",
    "You may be familiar with _Occam's Razor_ principle: given two explanations for something, the explanation most likely to be correct is the \n",
    "\"simplest\" one, the one that makes the least amount of assumptions. This also applies to the models learned by neural networks: given some \n",
    "training data and a network architecture, there are multiple sets of weights values (multiple _models_) that could explain the data, and \n",
    "simpler models are less likely to overfit than complex ones.\n",
    "\n",
    "A \"simple model\" in this context is a model where the distribution of parameter values has less entropy (or a model with fewer \n",
    "parameters altogether, as we saw in the section above). Thus a common way to mitigate overfitting is to put constraints on the complexity \n",
    "of a network by forcing its weights to only take small values, which makes the distribution of weight values more \"regular\". This is called \n",
    "\"weight regularization\", and it is done by adding to the loss function of the network a _cost_ associated with having large weights. This \n",
    "cost comes in two flavors:\n",
    "\n",
    "* L1 regularization, where the cost added is proportional to the _absolute value of the weights coefficients_ (i.e. to what is called the \n",
    "\"L1 norm\" of the weights).\n",
    "* L2 regularization, where the cost added is proportional to the _square of the value of the weights coefficients_ (i.e. to what is called \n",
    "the \"L2 norm\" of the weights). L2 regularization is also called _weight decay_ in the context of neural networks. Don't let the different \n",
    "name confuse you: weight decay is mathematically the exact same as L2 regularization.\n",
    "\n",
    "In Keras, weight regularization is added by passing _weight regularizer instances_ to layers as keyword arguments. Let's add L2 weight \n",
    "regularization to our movie review classification network:"
   ]
  },
  {
   "cell_type": "code",
   "execution_count": 22,
   "metadata": {},
   "outputs": [],
   "source": [
    "from keras import regularizers\n",
    "\n",
    "l2_model = models.Sequential()\n",
    "l2_model.add(layers.Dense(16, kernel_regularizer=regularizers.l2(0.001),\n",
    "                          activation='relu', input_shape=(10000,)))\n",
    "l2_model.add(layers.Dense(16, kernel_regularizer=regularizers.l2(0.001),\n",
    "                          activation='relu'))\n",
    "l2_model.add(layers.Dense(1, activation='sigmoid'))"
   ]
  },
  {
   "cell_type": "code",
   "execution_count": 23,
   "metadata": {},
   "outputs": [],
   "source": [
    "l2_model.compile(optimizer='rmsprop',\n",
    "                 loss='binary_crossentropy',\n",
    "                 metrics=['acc'])"
   ]
  },
  {
   "cell_type": "markdown",
   "metadata": {},
   "source": [
    "`l2(0.001)` means that every coefficient in the weight matrix of the layer will add `0.001 * weight_coefficient_value` to the total loss of \n",
    "the network. Note that because this penalty is _only added at training time_, the loss for this network will be much higher at training \n",
    "than at test time.\n",
    "\n",
    "Here's the impact of our L2 regularization penalty:"
   ]
  },
  {
   "cell_type": "code",
   "execution_count": 24,
   "metadata": {},
   "outputs": [
    {
     "name": "stdout",
     "output_type": "stream",
     "text": [
      "Train on 25000 samples, validate on 25000 samples\n",
      "Epoch 1/20\n",
      "25000/25000 [==============================] - 4s 149us/step - loss: 0.4822 - acc: 0.8206 - val_loss: 0.3837 - val_acc: 0.8685\n",
      "Epoch 2/20\n",
      "25000/25000 [==============================] - 3s 122us/step - loss: 0.3084 - acc: 0.9067 - val_loss: 0.3374 - val_acc: 0.8862\n",
      "Epoch 3/20\n",
      "25000/25000 [==============================] - 4s 148us/step - loss: 0.2659 - acc: 0.9216 - val_loss: 0.3512 - val_acc: 0.8787\n",
      "Epoch 4/20\n",
      "25000/25000 [==============================] - 4s 151us/step - loss: 0.2507 - acc: 0.9266 - val_loss: 0.3370 - val_acc: 0.8859\n",
      "Epoch 5/20\n",
      "25000/25000 [==============================] - 3s 137us/step - loss: 0.2366 - acc: 0.9335 - val_loss: 0.3609 - val_acc: 0.8781\n",
      "Epoch 6/20\n",
      "25000/25000 [==============================] - 3s 134us/step - loss: 0.2299 - acc: 0.9374 - val_loss: 0.3561 - val_acc: 0.8807\n",
      "Epoch 7/20\n",
      "25000/25000 [==============================] - 4s 142us/step - loss: 0.2217 - acc: 0.9395 - val_loss: 0.3678 - val_acc: 0.8777\n",
      "Epoch 8/20\n",
      "25000/25000 [==============================] - 3s 138us/step - loss: 0.2228 - acc: 0.9384 - val_loss: 0.3679 - val_acc: 0.8791\n",
      "Epoch 9/20\n",
      "25000/25000 [==============================] - 4s 144us/step - loss: 0.2154 - acc: 0.9441 - val_loss: 0.3751 - val_acc: 0.8759\n",
      "Epoch 10/20\n",
      "25000/25000 [==============================] - 3s 133us/step - loss: 0.2100 - acc: 0.9457 - val_loss: 0.3821 - val_acc: 0.8746\n",
      "Epoch 11/20\n",
      "25000/25000 [==============================] - 4s 147us/step - loss: 0.2064 - acc: 0.9466 - val_loss: 0.3908 - val_acc: 0.8733\n",
      "Epoch 12/20\n",
      "25000/25000 [==============================] - 3s 138us/step - loss: 0.2024 - acc: 0.9482 - val_loss: 0.4297 - val_acc: 0.8608\n",
      "Epoch 13/20\n",
      "25000/25000 [==============================] - 3s 133us/step - loss: 0.2068 - acc: 0.9445 - val_loss: 0.4063 - val_acc: 0.8699\n",
      "Epoch 14/20\n",
      "25000/25000 [==============================] - 3s 135us/step - loss: 0.2000 - acc: 0.9482 - val_loss: 0.4016 - val_acc: 0.8711\n",
      "Epoch 15/20\n",
      "25000/25000 [==============================] - 3s 132us/step - loss: 0.1997 - acc: 0.9480 - val_loss: 0.4361 - val_acc: 0.8648\n",
      "Epoch 16/20\n",
      "25000/25000 [==============================] - 3s 135us/step - loss: 0.1949 - acc: 0.9502 - val_loss: 0.4279 - val_acc: 0.8668\n",
      "Epoch 17/20\n",
      "25000/25000 [==============================] - 3s 133us/step - loss: 0.1955 - acc: 0.9501 - val_loss: 0.4143 - val_acc: 0.8709\n",
      "Epoch 18/20\n",
      "25000/25000 [==============================] - 3s 133us/step - loss: 0.1910 - acc: 0.9510 - val_loss: 0.4453 - val_acc: 0.8610\n",
      "Epoch 19/20\n",
      "25000/25000 [==============================] - 3s 137us/step - loss: 0.1905 - acc: 0.9510 - val_loss: 0.4414 - val_acc: 0.8620\n",
      "Epoch 20/20\n",
      "25000/25000 [==============================] - 3s 125us/step - loss: 0.1891 - acc: 0.9510 - val_loss: 0.4758 - val_acc: 0.8588\n"
     ]
    }
   ],
   "source": [
    "l2_model_hist = l2_model.fit(x_train, y_train,\n",
    "                             epochs=20,\n",
    "                             batch_size=512,\n",
    "                             validation_data=(x_test, y_test))"
   ]
  },
  {
   "cell_type": "code",
   "execution_count": 25,
   "metadata": {},
   "outputs": [
    {
     "data": {
      "image/png": "[encoded data removed]",
      "text/plain": [
       "<Figure size 432x288 with 1 Axes>"
      ]
     },
     "metadata": {
      "needs_background": "light"
     },
     "output_type": "display_data"
    }
   ],
   "source": [
    "l2_model_val_loss = l2_model_hist.history['val_loss']\n",
    "\n",
    "plt.plot(epochs, original_val_loss, 'b+', label='Original model')\n",
    "plt.plot(epochs, l2_model_val_loss, 'bo', label='L2-regularized model')\n",
    "plt.xlabel('Epochs')\n",
    "plt.ylabel('Validation loss')\n",
    "plt.legend()\n",
    "\n",
    "plt.show()"
   ]
  },
  {
   "cell_type": "markdown",
   "metadata": {},
   "source": [
    "\n",
    "\n",
    "As you can see, the model with L2 regularization (dots) has become much more resistant to overfitting than the reference model (crosses), \n",
    "even though both models have the same number of parameters.\n",
    "\n",
    "As alternatives to L2 regularization, you could use one of the following Keras weight regularizers:"
   ]
  },
  {
   "cell_type": "code",
   "execution_count": 26,
   "metadata": {},
   "outputs": [
    {
     "data": {
      "text/plain": [
       "<keras.regularizers.L1L2 at 0x7fe6d4ebceb8>"
      ]
     },
     "execution_count": 26,
     "metadata": {},
     "output_type": "execute_result"
    }
   ],
   "source": [
    "from keras import regularizers\n",
    "\n",
    "# L1 regularization\n",
    "regularizers.l1(0.001)\n",
    "\n",
    "# L1 and L2 regularization at the same time\n",
    "regularizers.l1_l2(l1=0.001, l2=0.001)"
   ]
  },
  {
   "cell_type": "markdown",
   "metadata": {},
   "source": [
    "## Adding dropout\n",
    "\n",
    "\n",
    "Dropout is one of the most effective and most commonly used regularization techniques for neural networks, developed by Hinton and his \n",
    "students at the University of Toronto. Dropout, applied to a layer, consists of randomly \"dropping out\" (i.e. setting to zero) a number of \n",
    "output features of the layer during training. Let's say a given layer would normally have returned a vector `[0.2, 0.5, 1.3, 0.8, 1.1]` for a \n",
    "given input sample during training; after applying dropout, this vector will have a few zero entries distributed at random, e.g. `[0, 0.5, \n",
    "1.3, 0, 1.1]`. The \"dropout rate\" is the fraction of the features that are being zeroed-out; it is usually set between 0.2 and 0.5. At test \n",
    "time, no units are dropped out, and instead the layer's output values are scaled down by a factor equal to the dropout rate, so as to \n",
    "balance for the fact that more units are active than at training time.\n",
    "\n",
    "Consider a Numpy matrix containing the output of a layer, `layer_output`, of shape `(batch_size, features)`. At training time, we would be \n",
    "zero-ing out at random a fraction of the values in the matrix:"
   ]
  },
  {
   "cell_type": "code",
   "execution_count": null,
   "metadata": {},
   "outputs": [],
   "source": [
    "# At training time: we drop out 50% of the units in the output\n",
    "layer_output *= np.randint(0, high=2, size=layer_output.shape)"
   ]
  },
  {
   "cell_type": "markdown",
   "metadata": {},
   "source": [
    "\n",
    "At test time, we would be scaling the output down by the dropout rate. Here we scale by 0.5 (because we were previous dropping half the \n",
    "units):"
   ]
  },
  {
   "cell_type": "code",
   "execution_count": null,
   "metadata": {},
   "outputs": [],
   "source": [
    "# At test time:\n",
    "layer_output *= 0.5"
   ]
  },
  {
   "cell_type": "markdown",
   "metadata": {},
   "source": [
    "\n",
    "Note that this process can be implemented by doing both operations at training time and leaving the output unchanged at test time, which is \n",
    "often the way it is implemented in practice:"
   ]
  },
  {
   "cell_type": "code",
   "execution_count": null,
   "metadata": {
    "collapsed": true
   },
   "outputs": [],
   "source": [
    "# At training time:\n",
    "layer_output *= np.randint(0, high=2, size=layer_output.shape)\n",
    "# Note that we are scaling *up* rather scaling *down* in this case\n",
    "layer_output /= 0.5"
   ]
  },
  {
   "cell_type": "markdown",
   "metadata": {},
   "source": [
    "\n",
    "This technique may seem strange and arbitrary. Why would this help reduce overfitting? Geoff Hinton has said that he was inspired, among \n",
    "other things, by a fraud prevention mechanism used by banks -- in his own words: _\"I went to my bank. The tellers kept changing and I asked \n",
    "one of them why. He said he didn’t know but they got moved around a lot. I figured it must be because it would require cooperation \n",
    "between employees to successfully defraud the bank. This made me realize that randomly removing a different subset of neurons on each \n",
    "example would prevent conspiracies and thus reduce overfitting\"_.\n",
    "\n",
    "The core idea is that introducing noise in the output values of a layer can break up happenstance patterns that are not significant (what \n",
    "Hinton refers to as \"conspiracies\"), which the network would start memorizing if no noise was present. \n",
    "\n",
    "In Keras you can introduce dropout in a network via the `Dropout` layer, which gets applied to the output of layer right before it, e.g.:"
   ]
  },
  {
   "cell_type": "code",
   "execution_count": null,
   "metadata": {
    "collapsed": true
   },
   "outputs": [],
   "source": [
    "model.add(layers.Dropout(0.5))"
   ]
  },
  {
   "cell_type": "markdown",
   "metadata": {},
   "source": [
    "Let's add two `Dropout` layers in our IMDB network to see how well they do at reducing overfitting:"
   ]
  },
  {
   "cell_type": "code",
   "execution_count": 28,
   "metadata": {},
   "outputs": [],
   "source": [
    "dpt_model = models.Sequential()\n",
    "dpt_model.add(layers.Dense(16, activation='relu', input_shape=(10000,)))\n",
    "dpt_model.add(layers.Dropout(0.5))\n",
    "dpt_model.add(layers.Dense(16, activation='relu'))\n",
    "dpt_model.add(layers.Dropout(0.5))\n",
    "dpt_model.add(layers.Dense(1, activation='sigmoid'))\n",
    "\n",
    "dpt_model.compile(optimizer='rmsprop',\n",
    "                  loss='binary_crossentropy',\n",
    "                  metrics=['acc'])"
   ]
  },
  {
   "cell_type": "code",
   "execution_count": 29,
   "metadata": {},
   "outputs": [
    {
     "name": "stdout",
     "output_type": "stream",
     "text": [
      "Train on 25000 samples, validate on 25000 samples\n",
      "Epoch 1/20\n",
      "25000/25000 [==============================] - 3s 137us/step - loss: 0.5962 - acc: 0.6720 - val_loss: 0.4549 - val_acc: 0.8582\n",
      "Epoch 2/20\n",
      "25000/25000 [==============================] - 2s 99us/step - loss: 0.4441 - acc: 0.8177 - val_loss: 0.3410 - val_acc: 0.8834\n",
      "Epoch 3/20\n",
      "25000/25000 [==============================] - 2s 97us/step - loss: 0.3575 - acc: 0.8688 - val_loss: 0.2951 - val_acc: 0.8893\n",
      "Epoch 4/20\n",
      "25000/25000 [==============================] - 2s 97us/step - loss: 0.2970 - acc: 0.9002 - val_loss: 0.2866 - val_acc: 0.8872\n",
      "Epoch 5/20\n",
      "25000/25000 [==============================] - 2s 87us/step - loss: 0.2582 - acc: 0.9135 - val_loss: 0.2817 - val_acc: 0.8902\n",
      "Epoch 6/20\n",
      "25000/25000 [==============================] - 2s 94us/step - loss: 0.2300 - acc: 0.9251 - val_loss: 0.2865 - val_acc: 0.8877\n",
      "Epoch 7/20\n",
      "25000/25000 [==============================] - 3s 101us/step - loss: 0.2073 - acc: 0.9344 - val_loss: 0.3157 - val_acc: 0.8866\n",
      "Epoch 8/20\n",
      "25000/25000 [==============================] - 3s 111us/step - loss: 0.1869 - acc: 0.9400 - val_loss: 0.3254 - val_acc: 0.8846\n",
      "Epoch 9/20\n",
      "25000/25000 [==============================] - 2s 94us/step - loss: 0.1705 - acc: 0.9459 - val_loss: 0.3495 - val_acc: 0.8828\n",
      "Epoch 10/20\n",
      "25000/25000 [==============================] - 2s 82us/step - loss: 0.1574 - acc: 0.9520 - val_loss: 0.3797 - val_acc: 0.8820\n",
      "Epoch 11/20\n",
      "25000/25000 [==============================] - 2s 98us/step - loss: 0.1490 - acc: 0.9526 - val_loss: 0.3928 - val_acc: 0.8808\n",
      "Epoch 12/20\n",
      "25000/25000 [==============================] - 2s 96us/step - loss: 0.1413 - acc: 0.9552 - val_loss: 0.4100 - val_acc: 0.8802\n",
      "Epoch 13/20\n",
      "25000/25000 [==============================] - 2s 93us/step - loss: 0.1352 - acc: 0.9581 - val_loss: 0.4393 - val_acc: 0.8763\n",
      "Epoch 14/20\n",
      "25000/25000 [==============================] - 2s 94us/step - loss: 0.1219 - acc: 0.9621 - val_loss: 0.4666 - val_acc: 0.8788\n",
      "Epoch 15/20\n",
      "25000/25000 [==============================] - 2s 90us/step - loss: 0.1243 - acc: 0.9621 - val_loss: 0.4922 - val_acc: 0.8767\n",
      "Epoch 16/20\n",
      "25000/25000 [==============================] - 2s 83us/step - loss: 0.1181 - acc: 0.9636 - val_loss: 0.5076 - val_acc: 0.8748\n",
      "Epoch 17/20\n",
      "25000/25000 [==============================] - 2s 99us/step - loss: 0.1158 - acc: 0.9643 - val_loss: 0.4923 - val_acc: 0.8730\n",
      "Epoch 18/20\n",
      "25000/25000 [==============================] - 2s 97us/step - loss: 0.1110 - acc: 0.9670 - val_loss: 0.5266 - val_acc: 0.8728\n",
      "Epoch 19/20\n",
      "25000/25000 [==============================] - 3s 102us/step - loss: 0.1074 - acc: 0.9662 - val_loss: 0.5590 - val_acc: 0.8734\n",
      "Epoch 20/20\n",
      "25000/25000 [==============================] - 2s 85us/step - loss: 0.1048 - acc: 0.9674 - val_loss: 0.5785 - val_acc: 0.8726\n"
     ]
    }
   ],
   "source": [
    "dpt_model_hist = dpt_model.fit(x_train, y_train,\n",
    "                               epochs=20,\n",
    "                               batch_size=512,\n",
    "                               validation_data=(x_test, y_test))"
   ]
  },
  {
   "cell_type": "markdown",
   "metadata": {},
   "source": [
    "Let's plot the results:"
   ]
  },
  {
   "cell_type": "code",
   "execution_count": 30,
   "metadata": {},
   "outputs": [
    {
     "data": {
      "image/png": "[encoded data removed]",
      "text/plain": [
       "<Figure size 432x288 with 1 Axes>"
      ]
     },
     "metadata": {
      "needs_background": "light"
     },
     "output_type": "display_data"
    }
   ],
   "source": [
    "dpt_model_val_loss = dpt_model_hist.history['val_loss']\n",
    "\n",
    "plt.plot(epochs, original_val_loss, 'b+', label='Original model')\n",
    "plt.plot(epochs, dpt_model_val_loss, 'bo', label='Dropout-regularized model')\n",
    "plt.xlabel('Epochs')\n",
    "plt.ylabel('Validation loss')\n",
    "plt.legend()\n",
    "\n",
    "plt.show()"
   ]
  },
  {
   "cell_type": "markdown",
   "metadata": {},
   "source": [
    "\n",
    "Again, a clear improvement over the reference network.\n",
    "\n",
    "To recap: here the most common ways to prevent overfitting in neural networks:\n",
    "\n",
    "* Getting more training data.\n",
    "* Reducing the capacity of the network.\n",
    "* Adding weight regularization.\n",
    "* Adding dropout."
   ]
  }
 ],
 "metadata": {
  "kernelspec": {
   "display_name": "Python 3",
   "language": "python",
   "name": "python3"
  },
  "language_info": {
   "codemirror_mode": {
    "name": "ipython",
    "version": 3
   },
   "file_extension": ".py",
   "mimetype": "text/x-python",
   "name": "python",
   "nbconvert_exporter": "python",
   "pygments_lexer": "ipython3",
   "version": "3.6.6"
  }
 },
 "nbformat": 4,
 "nbformat_minor": 2
}
