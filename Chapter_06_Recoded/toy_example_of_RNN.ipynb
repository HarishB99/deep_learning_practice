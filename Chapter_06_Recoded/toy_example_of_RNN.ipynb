{
 "cells": [
  {
   "cell_type": "markdown",
   "metadata": {},
   "source": [
    "Pseudocode for RNN\n",
    "\n",
    "    # The state at t\n",
    "    state_t = 0\n",
    "    # Iterates over sequence elements\n",
    "    for input_t in input_sequence:\n",
    "        # Iterates over sequence elements\n",
    "        output_t = f(input_t, state_t)\n",
    "        # The previous output becomes the state for the \n",
    "        # next iteration.\n",
    "        state_t = output_t"
   ]
  },
  {
   "cell_type": "markdown",
   "metadata": {},
   "source": [
    "Mode detailed pseudocode for RNN\n",
    "\n",
    "    state_t = 0\n",
    "    for input_t in input_sequence:\n",
    "        output_t = activation(do(W, input_t) + dot(U, state_t) + b)\n",
    "        state_t = output_t"
   ]
  },
  {
   "cell_type": "markdown",
   "metadata": {},
   "source": [
    "A naive Numpy implementation of the forward pass of the Simple RNN"
   ]
  },
  {
   "cell_type": "markdown",
   "metadata": {},
   "source": [
    "This toy RNN takes as input a sequence of vectors, which will be encoded as a 2D tensor of size `(timestamps, input_features)`. It loops over timesteps, and at each timestep, it considers its current state at `t` and the input at `t` (of shape `(input_features,)`), and combines them to obtain the output at `t`. The state for the next step will then be set as this previous output. For the first timestep, the previous output is not defined; hence, there is no current state. Therefore, the state will be initialised as an all-zero vector called the *initial state* of the network"
   ]
  },
  {
   "cell_type": "code",
   "execution_count": 1,
   "metadata": {
    "collapsed": true
   },
   "outputs": [],
   "source": [
    "import numpy as np"
   ]
  },
  {
   "cell_type": "code",
   "execution_count": 2,
   "metadata": {
    "collapsed": true
   },
   "outputs": [],
   "source": [
    "# Number of timesteps in \n",
    "# the input sequence\n",
    "timesteps = 100\n",
    "# Dimensionality of the \n",
    "# input feature space\n",
    "input_features = 32\n",
    "# Dimensionality of the \n",
    "# output feature space\n",
    "output_features = 64"
   ]
  },
  {
   "cell_type": "code",
   "execution_count": 3,
   "metadata": {
    "collapsed": true
   },
   "outputs": [],
   "source": [
    "# Input data: random noise \n",
    "# for the sake of this example\n",
    "inputs = np.random.random((timesteps, input_features))"
   ]
  },
  {
   "cell_type": "code",
   "execution_count": 4,
   "metadata": {
    "collapsed": true
   },
   "outputs": [],
   "source": [
    "# Initial state: an all-zero vector\n",
    "state_t = np.zeros((output_features,))"
   ]
  },
  {
   "cell_type": "code",
   "execution_count": 5,
   "metadata": {
    "collapsed": true
   },
   "outputs": [],
   "source": [
    "# Creates random weight matrices\n",
    "W = np.random.random((output_features, input_features))\n",
    "U = np.random.random((output_features, output_features))\n",
    "b = np.random.random((output_features,))"
   ]
  },
  {
   "cell_type": "code",
   "execution_count": 6,
   "metadata": {
    "collapsed": true
   },
   "outputs": [],
   "source": [
    "successive_outputs = []"
   ]
  },
  {
   "cell_type": "code",
   "execution_count": 7,
   "metadata": {
    "collapsed": true
   },
   "outputs": [],
   "source": [
    "# input_t is a vector of shape (input_features,).\n",
    "for input_t in inputs:\n",
    "    # Combines the input with the current state (the previous output) \n",
    "    # to obtain the current output\n",
    "    output_t = np.tanh(np.dot(W, input_t) + np.dot(U, state_t) + b)\n",
    "    successive_outputs.append(output_t)\n",
    "    # Updates the state of the next timestamp\n",
    "    state_t = output_t"
   ]
  },
  {
   "cell_type": "code",
   "execution_count": 15,
   "metadata": {
    "collapsed": true
   },
   "outputs": [],
   "source": [
    "# The final output is a 2D sensor of shape (timesteps, output_features)\n",
    "final_output_sequence = np.stack(successive_outputs, axis=0)"
   ]
  }
 ],
 "metadata": {
  "kernelspec": {
   "display_name": "Python 3",
   "language": "python",
   "name": "python3"
  },
  "language_info": {
   "codemirror_mode": {
    "name": "ipython",
    "version": 3
   },
   "file_extension": ".py",
   "mimetype": "text/x-python",
   "name": "python",
   "nbconvert_exporter": "python",
   "pygments_lexer": "ipython3",
   "version": "3.6.7"
  }
 },
 "nbformat": 4,
 "nbformat_minor": 2
}
