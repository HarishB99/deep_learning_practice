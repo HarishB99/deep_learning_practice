{
 "cells": [
  {
   "cell_type": "code",
   "execution_count": 1,
   "metadata": {
    "collapsed": true
   },
   "outputs": [],
   "source": [
    "import os"
   ]
  },
  {
   "cell_type": "code",
   "execution_count": 2,
   "metadata": {
    "collapsed": true
   },
   "outputs": [],
   "source": [
    "data_dir = '../../Downloads/jena_climate/'\n",
    "fname = os.path.join(data_dir, 'jena_climate_2009_2016.csv')"
   ]
  },
  {
   "cell_type": "code",
   "execution_count": 3,
   "metadata": {
    "collapsed": true
   },
   "outputs": [],
   "source": [
    "f = open(fname)\n",
    "data = f.read()\n",
    "f.close()"
   ]
  },
  {
   "cell_type": "code",
   "execution_count": 4,
   "metadata": {
    "collapsed": true
   },
   "outputs": [],
   "source": [
    "lines = data.split('\\n')\n",
    "header = lines[0].split(',')\n",
    "lines = lines[1:]"
   ]
  },
  {
   "cell_type": "code",
   "execution_count": 5,
   "metadata": {},
   "outputs": [
    {
     "name": "stdout",
     "output_type": "stream",
     "text": [
      "['\"Date Time\"', '\"p (mbar)\"', '\"T (degC)\"', '\"Tpot (K)\"', '\"Tdew (degC)\"', '\"rh (%)\"', '\"VPmax (mbar)\"', '\"VPact (mbar)\"', '\"VPdef (mbar)\"', '\"sh (g/kg)\"', '\"H2OC (mmol/mol)\"', '\"rho (g/m**3)\"', '\"wv (m/s)\"', '\"max. wv (m/s)\"', '\"wd (deg)\"']\n"
     ]
    }
   ],
   "source": [
    "print(header)"
   ]
  },
  {
   "cell_type": "code",
   "execution_count": 6,
   "metadata": {},
   "outputs": [
    {
     "name": "stdout",
     "output_type": "stream",
     "text": [
      "420551\n"
     ]
    }
   ],
   "source": [
    "print(len(lines))"
   ]
  },
  {
   "cell_type": "code",
   "execution_count": 7,
   "metadata": {
    "collapsed": true
   },
   "outputs": [],
   "source": [
    "import pandas as pd"
   ]
  },
  {
   "cell_type": "code",
   "execution_count": 8,
   "metadata": {
    "collapsed": true
   },
   "outputs": [],
   "source": [
    "data = pd.read_csv(fname)"
   ]
  },
  {
   "cell_type": "code",
   "execution_count": 21,
   "metadata": {},
   "outputs": [
    {
     "data": {
      "text/plain": [
       "(15,)"
      ]
     },
     "execution_count": 21,
     "metadata": {},
     "output_type": "execute_result"
    }
   ],
   "source": [
    "data.axes[1].get_values().shape"
   ]
  },
  {
   "cell_type": "code",
   "execution_count": 24,
   "metadata": {},
   "outputs": [
    {
     "data": {
      "text/plain": [
       "(420551, 15)"
      ]
     },
     "execution_count": 24,
     "metadata": {},
     "output_type": "execute_result"
    }
   ],
   "source": [
    "data.get_values().shape"
   ]
  },
  {
   "cell_type": "code",
   "execution_count": 25,
   "metadata": {
    "collapsed": true
   },
   "outputs": [],
   "source": [
    "import numpy as np"
   ]
  },
  {
   "cell_type": "code",
   "execution_count": 26,
   "metadata": {
    "collapsed": true
   },
   "outputs": [],
   "source": [
    "float_data = np.zeros(( len(lines), len(header) - 1 ))"
   ]
  },
  {
   "cell_type": "code",
   "execution_count": 27,
   "metadata": {
    "collapsed": true
   },
   "outputs": [],
   "source": [
    "for i, line in enumerate(lines):\n",
    "    values = [float(x) for x in line.split(',')[1:]]\n",
    "    float_data[i, :] = values"
   ]
  },
  {
   "cell_type": "code",
   "execution_count": 28,
   "metadata": {
    "collapsed": true
   },
   "outputs": [],
   "source": [
    "import matplotlib.pyplot as plt"
   ]
  },
  {
   "cell_type": "code",
   "execution_count": 31,
   "metadata": {
    "collapsed": true
   },
   "outputs": [],
   "source": [
    "%matplotlib inline"
   ]
  },
  {
   "cell_type": "code",
   "execution_count": 38,
   "metadata": {},
   "outputs": [
    {
     "data": {
      "text/plain": [
       "[<matplotlib.lines.Line2D at 0x7f174df292b0>]"
      ]
     },
     "execution_count": 38,
     "metadata": {},
     "output_type": "execute_result"
    },
    {
     "data": {
      "image/png": "[encoded data removed]",
      "text/plain": [
       "<Figure size 432x288 with 1 Axes>"
      ]
     },
     "metadata": {},
     "output_type": "display_data"
    }
   ],
   "source": [
    "temp = float_data[:, 1]\n",
    "plt.plot(range(len(temp)), temp, 'b')"
   ]
  },
  {
   "cell_type": "code",
   "execution_count": 37,
   "metadata": {},
   "outputs": [
    {
     "data": {
      "text/plain": [
       "[<matplotlib.lines.Line2D at 0x7f174e1cdc88>]"
      ]
     },
     "execution_count": 37,
     "metadata": {},
     "output_type": "execute_result"
    },
    {
     "data": {
      "image/png": "[encoded data removed]",
      "text/plain": [
       "<Figure size 432x288 with 1 Axes>"
      ]
     },
     "metadata": {},
     "output_type": "display_data"
    }
   ],
   "source": [
    "temp = float_data[:, 1]\n",
    "plt.plot(range(1440), temp[:1440], 'b')"
   ]
  },
  {
   "cell_type": "markdown",
   "metadata": {},
   "source": [
    "Normalise the data"
   ]
  },
  {
   "cell_type": "code",
   "execution_count": 39,
   "metadata": {
    "collapsed": true
   },
   "outputs": [],
   "source": [
    "mean = float_data[:200000].mean(axis=0)\n",
    "float_data -= mean\n",
    "std = float_data[:200000].std(axis=0)\n",
    "float_data /= std"
   ]
  },
  {
   "cell_type": "code",
   "execution_count": 48,
   "metadata": {
    "collapsed": true
   },
   "outputs": [],
   "source": [
    "def generator(data, lookback, delay, min_index, max_index, \n",
    "              shuffle=False, batch_size=128, step=6):\n",
    "    if max_index is None:\n",
    "        max_index = len(data) - delay - 1\n",
    "    i = min_index + lookback\n",
    "    while 1:\n",
    "        if shuffle:\n",
    "            rows = np.random.randint(\n",
    "                min_index + lookback, max_index, size=batch_size)\n",
    "        else:\n",
    "            if i + batch_size >= max_index:\n",
    "                i = min_index + lookback\n",
    "            rows = np.arange(i, min(i + batch_size, max_index))\n",
    "            i += len(rows)\n",
    "        \n",
    "        samples = np.zeros((len(rows), \n",
    "                            lookback // step, \n",
    "                            data.shape[-1]))\n",
    "        targets = np.zeros((len(rows),))\n",
    "        for j, row in enumerate(rows):\n",
    "            indices = range(rows[j] - lookback, rows[j], step)\n",
    "            samples[j] = data[indices]\n",
    "            targets[j] = data[rows[j] + delay][1]\n",
    "        yield samples, targets"
   ]
  },
  {
   "cell_type": "code",
   "execution_count": 49,
   "metadata": {
    "collapsed": true
   },
   "outputs": [],
   "source": [
    "lookback = 1440\n",
    "step = 6\n",
    "delay = 144\n",
    "batch_size = 128"
   ]
  },
  {
   "cell_type": "code",
   "execution_count": 50,
   "metadata": {
    "collapsed": true
   },
   "outputs": [],
   "source": [
    "train_gen = generator(float_data, \n",
    "                      lookback=lookback, \n",
    "                      delay=delay, \n",
    "                      min_index=0, \n",
    "                      max_index=200000, \n",
    "                      shuffle=True, \n",
    "                      step=step, \n",
    "                      batch_size=batch_size)"
   ]
  },
  {
   "cell_type": "code",
   "execution_count": 51,
   "metadata": {
    "collapsed": true
   },
   "outputs": [],
   "source": [
    "val_gen = generator(float_data, \n",
    "                    lookback=lookback, \n",
    "                    delay=delay, \n",
    "                    min_index=200001, \n",
    "                    max_index=300000, \n",
    "                    step=step, \n",
    "                    batch_size=batch_size)"
   ]
  },
  {
   "cell_type": "code",
   "execution_count": 52,
   "metadata": {
    "collapsed": true
   },
   "outputs": [],
   "source": [
    "test_gen = generator(float_data, \n",
    "                     lookback=lookback, \n",
    "                     delay=delay, \n",
    "                     min_index=300001, \n",
    "                     max_index=None, \n",
    "                     step=step, \n",
    "                     batch_size=batch_size)"
   ]
  },
  {
   "cell_type": "code",
   "execution_count": 53,
   "metadata": {
    "collapsed": true
   },
   "outputs": [],
   "source": [
    "val_steps = (300000 - 200001 - lookback) // batch_size\n",
    "test_steps = (len(float_data) - 300001 - lookback) // batch_size"
   ]
  },
  {
   "cell_type": "code",
   "execution_count": 54,
   "metadata": {
    "collapsed": true
   },
   "outputs": [],
   "source": [
    "def evaluate_naive_method():\n",
    "    batch_maes = []\n",
    "    for step in range(val_steps):\n",
    "        samples, targets = next(val_gen)\n",
    "        preds = samples[:, -1, 1]\n",
    "        mae = np.mean(np.abs(preds - targets))\n",
    "        batch_maes.append(mae)\n",
    "    print(np.mean(batch_maes))"
   ]
  },
  {
   "cell_type": "code",
   "execution_count": 55,
   "metadata": {},
   "outputs": [
    {
     "name": "stdout",
     "output_type": "stream",
     "text": [
      "0.2897359729905486\n"
     ]
    }
   ],
   "source": [
    "evaluate_naive_method()"
   ]
  },
  {
   "cell_type": "code",
   "execution_count": 56,
   "metadata": {
    "collapsed": true
   },
   "outputs": [],
   "source": [
    "celsius_mae = 0.29 * std[1]"
   ]
  },
  {
   "cell_type": "code",
   "execution_count": 58,
   "metadata": {
    "collapsed": true
   },
   "outputs": [],
   "source": [
    "from keras.models import Sequential\n",
    "from keras.layers import Flatten, Dense\n",
    "from keras.optimizers import RMSprop"
   ]
  },
  {
   "cell_type": "code",
   "execution_count": 59,
   "metadata": {
    "collapsed": true
   },
   "outputs": [],
   "source": [
    "model = Sequential()\n",
    "model.add(Flatten(input_shape=(lookback // step, float_data.shape[-1])))\n",
    "model.add(Dense(32, activation='relu'))\n",
    "model.add(Dense(1))\n",
    "model.compile(optimizer=RMSprop(), loss='mae')"
   ]
  },
  {
   "cell_type": "code",
   "execution_count": 60,
   "metadata": {},
   "outputs": [
    {
     "name": "stdout",
     "output_type": "stream",
     "text": [
      "Epoch 1/20\n",
      "500/500 [==============================] - 15s - loss: 1.2993 - val_loss: 0.8456\n",
      "Epoch 2/20\n",
      "500/500 [==============================] - 14s - loss: 0.4055 - val_loss: 0.3251\n",
      "Epoch 3/20\n",
      "500/500 [==============================] - 15s - loss: 0.2845 - val_loss: 0.3246\n",
      "Epoch 4/20\n",
      "500/500 [==============================] - 11s - loss: 0.2629 - val_loss: 0.3169\n",
      "Epoch 5/20\n",
      "500/500 [==============================] - 12s - loss: 0.2524 - val_loss: 0.3595\n",
      "Epoch 6/20\n",
      "500/500 [==============================] - 12s - loss: 0.2418 - val_loss: 0.3038\n",
      "Epoch 7/20\n",
      "500/500 [==============================] - 13s - loss: 0.2361 - val_loss: 0.3200\n",
      "Epoch 8/20\n",
      "500/500 [==============================] - 11s - loss: 0.2321 - val_loss: 0.3285\n",
      "Epoch 9/20\n",
      "500/500 [==============================] - 11s - loss: 0.2262 - val_loss: 0.3214\n",
      "Epoch 10/20\n",
      "500/500 [==============================] - 12s - loss: 0.2218 - val_loss: 0.3216\n",
      "Epoch 11/20\n",
      "500/500 [==============================] - 11s - loss: 0.2186 - val_loss: 0.3292\n",
      "Epoch 12/20\n",
      "500/500 [==============================] - 12s - loss: 0.2150 - val_loss: 0.3174\n",
      "Epoch 13/20\n",
      "500/500 [==============================] - 12s - loss: 0.2127 - val_loss: 0.3315\n",
      "Epoch 14/20\n",
      "500/500 [==============================] - 12s - loss: 0.2106 - val_loss: 0.3187\n",
      "Epoch 15/20\n",
      "500/500 [==============================] - 12s - loss: 0.2087 - val_loss: 0.3248\n",
      "Epoch 16/20\n",
      "500/500 [==============================] - 12s - loss: 0.2063 - val_loss: 0.3242\n",
      "Epoch 17/20\n",
      "500/500 [==============================] - 12s - loss: 0.2053 - val_loss: 0.3218\n",
      "Epoch 18/20\n",
      "500/500 [==============================] - 12s - loss: 0.2036 - val_loss: 0.3215\n",
      "Epoch 19/20\n",
      "500/500 [==============================] - 11s - loss: 0.2008 - val_loss: 0.3469\n",
      "Epoch 20/20\n",
      "500/500 [==============================] - 11s - loss: 0.1976 - val_loss: 0.3469\n"
     ]
    }
   ],
   "source": [
    "history = model.fit_generator(train_gen, \n",
    "                              steps_per_epoch=500, \n",
    "                              epochs=20, \n",
    "                              validation_data=val_gen, \n",
    "                              validation_steps=val_steps)"
   ]
  },
  {
   "cell_type": "code",
   "execution_count": 62,
   "metadata": {
    "collapsed": true
   },
   "outputs": [],
   "source": [
    "loss, val_loss = pd.Series(history.history)"
   ]
  },
  {
   "cell_type": "code",
   "execution_count": 63,
   "metadata": {
    "collapsed": true
   },
   "outputs": [],
   "source": [
    "epochs = range(1, len(loss) + 1)"
   ]
  },
  {
   "cell_type": "code",
   "execution_count": 64,
   "metadata": {},
   "outputs": [
    {
     "data": {
      "text/plain": [
       "<Figure size 432x288 with 0 Axes>"
      ]
     },
     "execution_count": 64,
     "metadata": {},
     "output_type": "execute_result"
    },
    {
     "data": {
      "text/plain": [
       "<Figure size 432x288 with 0 Axes>"
      ]
     },
     "metadata": {},
     "output_type": "display_data"
    }
   ],
   "source": [
    "plt.figure()"
   ]
  },
  {
   "cell_type": "code",
   "execution_count": 66,
   "metadata": {},
   "outputs": [
    {
     "data": {
      "image/png": "[encoded data removed]",
      "text/plain": [
       "<Figure size 432x288 with 1 Axes>"
      ]
     },
     "metadata": {},
     "output_type": "display_data"
    }
   ],
   "source": [
    "plt.plot(epochs, loss, 'bo', label='Training loss')\n",
    "plt.plot(epochs, val_loss, 'b', label='Validation loss')\n",
    "plt.title('Training and validation loss')\n",
    "plt.legend()\n",
    "\n",
    "plt.show()"
   ]
  },
  {
   "cell_type": "code",
   "execution_count": 67,
   "metadata": {},
   "outputs": [
    {
     "data": {
      "image/png": "[encoded data removed]",
      "text/plain": [
       "<Figure size 432x288 with 1 Axes>"
      ]
     },
     "metadata": {},
     "output_type": "display_data"
    }
   ],
   "source": [
    "plt.plot(range(1, len(loss[1:]) + 1), loss[1:], 'bo', label='Training loss')\n",
    "plt.plot(range(1, len(loss[1:]) + 1), val_loss[1:], 'b', label='Validation loss')\n",
    "plt.title('Training and validation loss')\n",
    "plt.legend()\n",
    "\n",
    "plt.show()"
   ]
  },
  {
   "cell_type": "code",
   "execution_count": 68,
   "metadata": {
    "collapsed": true
   },
   "outputs": [],
   "source": [
    "from keras.layers import GRU"
   ]
  },
  {
   "cell_type": "code",
   "execution_count": 69,
   "metadata": {
    "collapsed": true
   },
   "outputs": [],
   "source": [
    "model = Sequential()\n",
    "model.add(GRU(32, input_shape=(None, float_data.shape[-1])))\n",
    "model.add(Dense(1))"
   ]
  },
  {
   "cell_type": "code",
   "execution_count": 70,
   "metadata": {
    "collapsed": true
   },
   "outputs": [
    {
     "name": "stdout",
     "output_type": "stream",
     "text": [
      "Epoch 1/20\n",
      "500/500 [==============================] - 237s - loss: 0.2992 - val_loss: 0.2746\n",
      "Epoch 2/20\n",
      "500/500 [==============================] - 234s - loss: 0.2834 - val_loss: 0.2686\n",
      "Epoch 3/20\n",
      "500/500 [==============================] - 214s - loss: 0.2773 - val_loss: 0.2653\n",
      "Epoch 4/20\n",
      "500/500 [==============================] - 218s - loss: 0.2736 - val_loss: 0.2708\n",
      "Epoch 5/20\n",
      "500/500 [==============================] - 215s - loss: 0.2679 - val_loss: 0.2673\n",
      "Epoch 6/20\n",
      "500/500 [==============================] - 216s - loss: 0.2634 - val_loss: 0.2644\n",
      "Epoch 7/20\n",
      "500/500 [==============================] - 213s - loss: 0.2583 - val_loss: 0.2627\n",
      "Epoch 8/20\n",
      "500/500 [==============================] - 218s - loss: 0.2534 - val_loss: 0.2691\n",
      "Epoch 9/20\n",
      "500/500 [==============================] - 213s - loss: 0.2483 - val_loss: 0.2735\n",
      "Epoch 10/20\n",
      "500/500 [==============================] - 213s - loss: 0.2436 - val_loss: 0.2712\n",
      "Epoch 11/20\n",
      "500/500 [==============================] - 214s - loss: 0.2394 - val_loss: 0.2754\n",
      "Epoch 12/20\n",
      "500/500 [==============================] - 218s - loss: 0.2353 - val_loss: 0.2808\n",
      "Epoch 13/20\n",
      "500/500 [==============================] - 215s - loss: 0.2309 - val_loss: 0.2772\n",
      "Epoch 14/20\n",
      "500/500 [==============================] - 214s - loss: 0.2283 - val_loss: 0.2850\n",
      "Epoch 15/20\n",
      "500/500 [==============================] - 215s - loss: 0.2232 - val_loss: 0.2829\n",
      "Epoch 16/20\n",
      "500/500 [==============================] - 217s - loss: 0.2205 - val_loss: 0.2863\n",
      "Epoch 17/20\n",
      "500/500 [==============================] - 215s - loss: 0.2159 - val_loss: 0.2882\n",
      "Epoch 18/20\n",
      "500/500 [==============================] - 211s - loss: 0.2136 - val_loss: 0.2927\n",
      "Epoch 19/20\n",
      "500/500 [==============================] - 210s - loss: 0.2086 - val_loss: 0.2916\n",
      "Epoch 20/20\n",
      "500/500 [==============================] - 212s - loss: 0.2080 - val_loss: 0.2943\n"
     ]
    }
   ],
   "source": [
    "model.compile(optimizer=RMSprop(), loss='mae')\n",
    "history2 = model.fit_generator(train_gen, \n",
    "                               steps_per_epoch=500, \n",
    "                               epochs=20, \n",
    "                               validation_data=val_gen, \n",
    "                               validation_steps=val_steps)"
   ]
  },
  {
   "cell_type": "code",
   "execution_count": 71,
   "metadata": {
    "collapsed": true
   },
   "outputs": [],
   "source": [
    "loss, val_loss = pd.Series(history2.history)"
   ]
  },
  {
   "cell_type": "code",
   "execution_count": 72,
   "metadata": {
    "collapsed": true
   },
   "outputs": [],
   "source": [
    "epochs = range(1, len(loss) + 1)"
   ]
  },
  {
   "cell_type": "code",
   "execution_count": 73,
   "metadata": {},
   "outputs": [
    {
     "data": {
      "text/plain": [
       "<Figure size 432x288 with 0 Axes>"
      ]
     },
     "execution_count": 73,
     "metadata": {},
     "output_type": "execute_result"
    },
    {
     "data": {
      "text/plain": [
       "<Figure size 432x288 with 0 Axes>"
      ]
     },
     "metadata": {},
     "output_type": "display_data"
    }
   ],
   "source": [
    "plt.figure()"
   ]
  },
  {
   "cell_type": "code",
   "execution_count": 74,
   "metadata": {
    "collapsed": true
   },
   "outputs": [
    {
     "data": {
      "image/png": "[encoded data removed]",
      "text/plain": [
       "<Figure size 432x288 with 1 Axes>"
      ]
     },
     "metadata": {},
     "output_type": "display_data"
    }
   ],
   "source": [
    "plt.plot(epochs, loss, 'bo', label='Training loss')\n",
    "plt.plot(epochs, val_loss, 'b', label='Validation loss')\n",
    "plt.title('Training and validation loss')\n",
    "plt.legend()\n",
    "\n",
    "plt.show()"
   ]
  },
  {
   "cell_type": "code",
   "execution_count": 76,
   "metadata": {
    "collapsed": true
   },
   "outputs": [],
   "source": [
    "model = Sequential()\n",
    "model.add(GRU(32, \n",
    "              dropout=0.2, \n",
    "              recurrent_dropout=0.2,\n",
    "              input_shape=(None, float_data.shape[-1])))\n",
    "model.add(Dense(1))"
   ]
  },
  {
   "cell_type": "code",
   "execution_count": 77,
   "metadata": {},
   "outputs": [
    {
     "name": "stdout",
     "output_type": "stream",
     "text": [
      "Epoch 1/40\n",
      "500/500 [==============================] - 227s - loss: 0.3434 - val_loss: 0.2757\n",
      "Epoch 2/40\n",
      "500/500 [==============================] - 225s - loss: 0.3146 - val_loss: 0.2763\n",
      "Epoch 3/40\n",
      "500/500 [==============================] - 226s - loss: 0.3093 - val_loss: 0.2730\n",
      "Epoch 4/40\n",
      "500/500 [==============================] - 226s - loss: 0.3068 - val_loss: 0.2746\n",
      "Epoch 5/40\n",
      "500/500 [==============================] - 226s - loss: 0.3013 - val_loss: 0.2729\n",
      "Epoch 6/40\n",
      "500/500 [==============================] - 226s - loss: 0.2994 - val_loss: 0.2716\n",
      "Epoch 7/40\n",
      "500/500 [==============================] - 225s - loss: 0.2967 - val_loss: 0.2673\n",
      "Epoch 8/40\n",
      "500/500 [==============================] - 224s - loss: 0.2947 - val_loss: 0.2658\n",
      "Epoch 9/40\n",
      "500/500 [==============================] - 226s - loss: 0.2942 - val_loss: 0.2644\n",
      "Epoch 10/40\n",
      "500/500 [==============================] - 225s - loss: 0.2913 - val_loss: 0.2719\n",
      "Epoch 11/40\n",
      "500/500 [==============================] - 227s - loss: 0.2909 - val_loss: 0.2666\n",
      "Epoch 12/40\n",
      "500/500 [==============================] - 224s - loss: 0.2889 - val_loss: 0.2660\n",
      "Epoch 13/40\n",
      "500/500 [==============================] - 226s - loss: 0.2876 - val_loss: 0.2649\n",
      "Epoch 14/40\n",
      "500/500 [==============================] - 227s - loss: 0.2874 - val_loss: 0.2646\n",
      "Epoch 15/40\n",
      "500/500 [==============================] - 226s - loss: 0.2853 - val_loss: 0.2738\n",
      "Epoch 16/40\n",
      "500/500 [==============================] - 225s - loss: 0.2847 - val_loss: 0.2641\n",
      "Epoch 17/40\n",
      "500/500 [==============================] - 225s - loss: 0.2831 - val_loss: 0.2673\n",
      "Epoch 18/40\n",
      "500/500 [==============================] - 224s - loss: 0.2833 - val_loss: 0.2645\n",
      "Epoch 19/40\n",
      "500/500 [==============================] - 225s - loss: 0.2814 - val_loss: 0.2634\n",
      "Epoch 20/40\n",
      "500/500 [==============================] - 226s - loss: 0.2798 - val_loss: 0.2637\n",
      "Epoch 21/40\n",
      "500/500 [==============================] - 224s - loss: 0.2793 - val_loss: 0.2601\n",
      "Epoch 22/40\n",
      "500/500 [==============================] - 227s - loss: 0.2805 - val_loss: 0.2611\n",
      "Epoch 23/40\n",
      "500/500 [==============================] - 225s - loss: 0.2782 - val_loss: 0.2658\n",
      "Epoch 24/40\n",
      "500/500 [==============================] - 225s - loss: 0.2777 - val_loss: 0.2647\n",
      "Epoch 25/40\n",
      "500/500 [==============================] - 222s - loss: 0.2754 - val_loss: 0.2630\n",
      "Epoch 26/40\n",
      "500/500 [==============================] - 225s - loss: 0.2769 - val_loss: 0.2648\n",
      "Epoch 27/40\n",
      "500/500 [==============================] - 225s - loss: 0.2744 - val_loss: 0.2670\n",
      "Epoch 28/40\n",
      "500/500 [==============================] - 224s - loss: 0.2750 - val_loss: 0.2682\n",
      "Epoch 29/40\n",
      "500/500 [==============================] - 226s - loss: 0.2741 - val_loss: 0.2673\n",
      "Epoch 30/40\n",
      "500/500 [==============================] - 224s - loss: 0.2738 - val_loss: 0.2630\n",
      "Epoch 31/40\n",
      "500/500 [==============================] - 224s - loss: 0.2730 - val_loss: 0.2672\n",
      "Epoch 32/40\n",
      "500/500 [==============================] - 224s - loss: 0.2736 - val_loss: 0.2629\n",
      "Epoch 33/40\n",
      "500/500 [==============================] - 224s - loss: 0.2710 - val_loss: 0.2667\n",
      "Epoch 34/40\n",
      "500/500 [==============================] - 224s - loss: 0.2746 - val_loss: 0.2636\n",
      "Epoch 35/40\n",
      "500/500 [==============================] - 225s - loss: 0.2714 - val_loss: 0.2699\n",
      "Epoch 36/40\n",
      "500/500 [==============================] - 224s - loss: 0.2703 - val_loss: 0.2679\n",
      "Epoch 37/40\n",
      "500/500 [==============================] - 226s - loss: 0.2704 - val_loss: 0.2674\n",
      "Epoch 38/40\n",
      "500/500 [==============================] - 225s - loss: 0.2686 - val_loss: 0.2660\n",
      "Epoch 39/40\n",
      "500/500 [==============================] - 225s - loss: 0.2704 - val_loss: 0.2688\n",
      "Epoch 40/40\n",
      "500/500 [==============================] - 225s - loss: 0.2690 - val_loss: 0.2636\n"
     ]
    }
   ],
   "source": [
    "model.compile(optimizer=RMSprop(), loss='mae')\n",
    "history3 = model.fit_generator(train_gen, \n",
    "                               steps_per_epoch=500, \n",
    "                               epochs=40, \n",
    "                               validation_data=val_gen, \n",
    "                               validation_steps=val_steps)"
   ]
  },
  {
   "cell_type": "code",
   "execution_count": 78,
   "metadata": {
    "collapsed": true
   },
   "outputs": [],
   "source": [
    "loss, val_loss = pd.Series(history3.history)"
   ]
  },
  {
   "cell_type": "code",
   "execution_count": 79,
   "metadata": {
    "collapsed": true
   },
   "outputs": [],
   "source": [
    "epochs = range(1, len(loss) + 1)"
   ]
  },
  {
   "cell_type": "code",
   "execution_count": 80,
   "metadata": {},
   "outputs": [
    {
     "data": {
      "text/plain": [
       "<Figure size 432x288 with 0 Axes>"
      ]
     },
     "execution_count": 80,
     "metadata": {},
     "output_type": "execute_result"
    },
    {
     "data": {
      "text/plain": [
       "<Figure size 432x288 with 0 Axes>"
      ]
     },
     "metadata": {},
     "output_type": "display_data"
    }
   ],
   "source": [
    "plt.figure()"
   ]
  },
  {
   "cell_type": "code",
   "execution_count": 81,
   "metadata": {},
   "outputs": [
    {
     "data": {
      "image/png": "[encoded data removed]",
      "text/plain": [
       "<Figure size 432x288 with 1 Axes>"
      ]
     },
     "metadata": {},
     "output_type": "display_data"
    }
   ],
   "source": [
    "plt.plot(epochs, loss, 'bo', label='Training loss')\n",
    "plt.plot(epochs, val_loss, 'b', label='Validation loss')\n",
    "plt.title('Training and validation loss')\n",
    "plt.legend()\n",
    "\n",
    "plt.show()"
   ]
  },
  {
   "cell_type": "code",
   "execution_count": 82,
   "metadata": {
    "collapsed": true
   },
   "outputs": [],
   "source": [
    "model = Sequential()\n",
    "model.add(GRU(32, \n",
    "              dropout=0.1, \n",
    "              recurrent_dropout=0.5,\n",
    "              return_sequences=True,\n",
    "              input_shape=(None, float_data.shape[-1])))\n",
    "model.add(GRU(64, activation='relu', \n",
    "              dropout=0.1, \n",
    "              recurrent_dropout=0.5))\n",
    "model.add(Dense(1))"
   ]
  },
  {
   "cell_type": "code",
   "execution_count": 83,
   "metadata": {},
   "outputs": [
    {
     "name": "stdout",
     "output_type": "stream",
     "text": [
      "Epoch 1/40\n",
      "500/500 [==============================] - 406s - loss: 0.3329 - val_loss: 0.2808\n",
      "Epoch 2/40\n",
      "500/500 [==============================] - 404s - loss: 0.3119 - val_loss: 0.2772\n",
      "Epoch 3/40\n",
      "500/500 [==============================] - 404s - loss: 0.3062 - val_loss: 0.2698\n",
      "Epoch 4/40\n",
      "500/500 [==============================] - 401s - loss: 0.3031 - val_loss: 0.2692\n",
      "Epoch 5/40\n",
      "500/500 [==============================] - 401s - loss: 0.3000 - val_loss: 0.2714\n",
      "Epoch 6/40\n",
      "500/500 [==============================] - 400s - loss: 0.2953 - val_loss: 0.2685\n",
      "Epoch 7/40\n",
      "500/500 [==============================] - 401s - loss: 0.2917 - val_loss: 0.2757\n",
      "Epoch 8/40\n",
      "500/500 [==============================] - 401s - loss: 0.2889 - val_loss: 0.2682\n",
      "Epoch 9/40\n",
      "500/500 [==============================] - 402s - loss: 0.2873 - val_loss: 0.2664\n",
      "Epoch 10/40\n",
      "500/500 [==============================] - 402s - loss: 0.2857 - val_loss: 0.2672\n",
      "Epoch 11/40\n",
      "500/500 [==============================] - 399s - loss: 0.2846 - val_loss: 0.2645\n",
      "Epoch 12/40\n",
      "500/500 [==============================] - 402s - loss: 0.2824 - val_loss: 0.2727\n",
      "Epoch 13/40\n",
      "500/500 [==============================] - 402s - loss: 0.2794 - val_loss: 0.2624\n",
      "Epoch 14/40\n",
      "500/500 [==============================] - 404s - loss: 0.2789 - val_loss: 0.2716\n",
      "Epoch 15/40\n",
      "500/500 [==============================] - 398s - loss: 0.2775 - val_loss: 0.2654\n",
      "Epoch 16/40\n",
      "500/500 [==============================] - 402s - loss: 0.2758 - val_loss: 0.2641\n",
      "Epoch 17/40\n",
      "500/500 [==============================] - 401s - loss: 0.2737 - val_loss: 0.2651\n",
      "Epoch 18/40\n",
      "500/500 [==============================] - 399s - loss: 0.2718 - val_loss: 0.2696\n",
      "Epoch 19/40\n",
      "500/500 [==============================] - 403s - loss: 0.2700 - val_loss: 0.2670\n",
      "Epoch 20/40\n",
      "500/500 [==============================] - 398s - loss: 0.2678 - val_loss: 0.2643\n",
      "Epoch 21/40\n",
      " 54/500 [==>...........................] - ETA: 268s - loss: 0.2652"
     ]
    },
    {
     "ename": "KeyboardInterrupt",
     "evalue": "",
     "output_type": "error",
     "traceback": [
      "\u001b[0;31m---------------------------------------------------------------------------\u001b[0m",
      "\u001b[0;31mKeyboardInterrupt\u001b[0m                         Traceback (most recent call last)",
      "\u001b[0;32m<ipython-input-83-125c86f6d07b>\u001b[0m in \u001b[0;36m<module>\u001b[0;34m()\u001b[0m\n\u001b[1;32m      4\u001b[0m                                \u001b[0mepochs\u001b[0m\u001b[0;34m=\u001b[0m\u001b[0;36m40\u001b[0m\u001b[0;34m,\u001b[0m\u001b[0;34m\u001b[0m\u001b[0;34m\u001b[0m\u001b[0m\n\u001b[1;32m      5\u001b[0m                                \u001b[0mvalidation_data\u001b[0m\u001b[0;34m=\u001b[0m\u001b[0mval_gen\u001b[0m\u001b[0;34m,\u001b[0m\u001b[0;34m\u001b[0m\u001b[0;34m\u001b[0m\u001b[0m\n\u001b[0;32m----> 6\u001b[0;31m                                validation_steps=val_steps)\n\u001b[0m",
      "\u001b[0;32m/opt/anaconda3/lib/python3.6/site-packages/keras/legacy/interfaces.py\u001b[0m in \u001b[0;36mwrapper\u001b[0;34m(*args, **kwargs)\u001b[0m\n\u001b[1;32m     85\u001b[0m                 warnings.warn('Update your `' + object_name +\n\u001b[1;32m     86\u001b[0m                               '` call to the Keras 2 API: ' + signature, stacklevel=2)\n\u001b[0;32m---> 87\u001b[0;31m             \u001b[0;32mreturn\u001b[0m \u001b[0mfunc\u001b[0m\u001b[0;34m(\u001b[0m\u001b[0;34m*\u001b[0m\u001b[0margs\u001b[0m\u001b[0;34m,\u001b[0m \u001b[0;34m**\u001b[0m\u001b[0mkwargs\u001b[0m\u001b[0;34m)\u001b[0m\u001b[0;34m\u001b[0m\u001b[0;34m\u001b[0m\u001b[0m\n\u001b[0m\u001b[1;32m     88\u001b[0m         \u001b[0mwrapper\u001b[0m\u001b[0;34m.\u001b[0m\u001b[0m_original_function\u001b[0m \u001b[0;34m=\u001b[0m \u001b[0mfunc\u001b[0m\u001b[0;34m\u001b[0m\u001b[0;34m\u001b[0m\u001b[0m\n\u001b[1;32m     89\u001b[0m         \u001b[0;32mreturn\u001b[0m \u001b[0mwrapper\u001b[0m\u001b[0;34m\u001b[0m\u001b[0;34m\u001b[0m\u001b[0m\n",
      "\u001b[0;32m/opt/anaconda3/lib/python3.6/site-packages/keras/models.py\u001b[0m in \u001b[0;36mfit_generator\u001b[0;34m(self, generator, steps_per_epoch, epochs, verbose, callbacks, validation_data, validation_steps, class_weight, max_queue_size, workers, use_multiprocessing, initial_epoch)\u001b[0m\n\u001b[1;32m   1119\u001b[0m                                         \u001b[0mworkers\u001b[0m\u001b[0;34m=\u001b[0m\u001b[0mworkers\u001b[0m\u001b[0;34m,\u001b[0m\u001b[0;34m\u001b[0m\u001b[0;34m\u001b[0m\u001b[0m\n\u001b[1;32m   1120\u001b[0m                                         \u001b[0muse_multiprocessing\u001b[0m\u001b[0;34m=\u001b[0m\u001b[0muse_multiprocessing\u001b[0m\u001b[0;34m,\u001b[0m\u001b[0;34m\u001b[0m\u001b[0;34m\u001b[0m\u001b[0m\n\u001b[0;32m-> 1121\u001b[0;31m                                         initial_epoch=initial_epoch)\n\u001b[0m\u001b[1;32m   1122\u001b[0m \u001b[0;34m\u001b[0m\u001b[0m\n\u001b[1;32m   1123\u001b[0m     \u001b[0;34m@\u001b[0m\u001b[0minterfaces\u001b[0m\u001b[0;34m.\u001b[0m\u001b[0mlegacy_generator_methods_support\u001b[0m\u001b[0;34m\u001b[0m\u001b[0;34m\u001b[0m\u001b[0m\n",
      "\u001b[0;32m/opt/anaconda3/lib/python3.6/site-packages/keras/legacy/interfaces.py\u001b[0m in \u001b[0;36mwrapper\u001b[0;34m(*args, **kwargs)\u001b[0m\n\u001b[1;32m     85\u001b[0m                 warnings.warn('Update your `' + object_name +\n\u001b[1;32m     86\u001b[0m                               '` call to the Keras 2 API: ' + signature, stacklevel=2)\n\u001b[0;32m---> 87\u001b[0;31m             \u001b[0;32mreturn\u001b[0m \u001b[0mfunc\u001b[0m\u001b[0;34m(\u001b[0m\u001b[0;34m*\u001b[0m\u001b[0margs\u001b[0m\u001b[0;34m,\u001b[0m \u001b[0;34m**\u001b[0m\u001b[0mkwargs\u001b[0m\u001b[0;34m)\u001b[0m\u001b[0;34m\u001b[0m\u001b[0;34m\u001b[0m\u001b[0m\n\u001b[0m\u001b[1;32m     88\u001b[0m         \u001b[0mwrapper\u001b[0m\u001b[0;34m.\u001b[0m\u001b[0m_original_function\u001b[0m \u001b[0;34m=\u001b[0m \u001b[0mfunc\u001b[0m\u001b[0;34m\u001b[0m\u001b[0;34m\u001b[0m\u001b[0m\n\u001b[1;32m     89\u001b[0m         \u001b[0;32mreturn\u001b[0m \u001b[0mwrapper\u001b[0m\u001b[0;34m\u001b[0m\u001b[0;34m\u001b[0m\u001b[0m\n",
      "\u001b[0;32m/opt/anaconda3/lib/python3.6/site-packages/keras/engine/training.py\u001b[0m in \u001b[0;36mfit_generator\u001b[0;34m(self, generator, steps_per_epoch, epochs, verbose, callbacks, validation_data, validation_steps, class_weight, max_queue_size, workers, use_multiprocessing, shuffle, initial_epoch)\u001b[0m\n\u001b[1;32m   2040\u001b[0m                     outs = self.train_on_batch(x, y,\n\u001b[1;32m   2041\u001b[0m                                                \u001b[0msample_weight\u001b[0m\u001b[0;34m=\u001b[0m\u001b[0msample_weight\u001b[0m\u001b[0;34m,\u001b[0m\u001b[0;34m\u001b[0m\u001b[0;34m\u001b[0m\u001b[0m\n\u001b[0;32m-> 2042\u001b[0;31m                                                class_weight=class_weight)\n\u001b[0m\u001b[1;32m   2043\u001b[0m \u001b[0;34m\u001b[0m\u001b[0m\n\u001b[1;32m   2044\u001b[0m                     \u001b[0;32mif\u001b[0m \u001b[0;32mnot\u001b[0m \u001b[0misinstance\u001b[0m\u001b[0;34m(\u001b[0m\u001b[0mouts\u001b[0m\u001b[0;34m,\u001b[0m \u001b[0mlist\u001b[0m\u001b[0;34m)\u001b[0m\u001b[0;34m:\u001b[0m\u001b[0;34m\u001b[0m\u001b[0;34m\u001b[0m\u001b[0m\n",
      "\u001b[0;32m/opt/anaconda3/lib/python3.6/site-packages/keras/engine/training.py\u001b[0m in \u001b[0;36mtrain_on_batch\u001b[0;34m(self, x, y, sample_weight, class_weight)\u001b[0m\n\u001b[1;32m   1760\u001b[0m             \u001b[0mins\u001b[0m \u001b[0;34m=\u001b[0m \u001b[0mx\u001b[0m \u001b[0;34m+\u001b[0m \u001b[0my\u001b[0m \u001b[0;34m+\u001b[0m \u001b[0msample_weights\u001b[0m\u001b[0;34m\u001b[0m\u001b[0;34m\u001b[0m\u001b[0m\n\u001b[1;32m   1761\u001b[0m         \u001b[0mself\u001b[0m\u001b[0;34m.\u001b[0m\u001b[0m_make_train_function\u001b[0m\u001b[0;34m(\u001b[0m\u001b[0;34m)\u001b[0m\u001b[0;34m\u001b[0m\u001b[0;34m\u001b[0m\u001b[0m\n\u001b[0;32m-> 1762\u001b[0;31m         \u001b[0moutputs\u001b[0m \u001b[0;34m=\u001b[0m \u001b[0mself\u001b[0m\u001b[0;34m.\u001b[0m\u001b[0mtrain_function\u001b[0m\u001b[0;34m(\u001b[0m\u001b[0mins\u001b[0m\u001b[0;34m)\u001b[0m\u001b[0;34m\u001b[0m\u001b[0;34m\u001b[0m\u001b[0m\n\u001b[0m\u001b[1;32m   1763\u001b[0m         \u001b[0;32mif\u001b[0m \u001b[0mlen\u001b[0m\u001b[0;34m(\u001b[0m\u001b[0moutputs\u001b[0m\u001b[0;34m)\u001b[0m \u001b[0;34m==\u001b[0m \u001b[0;36m1\u001b[0m\u001b[0;34m:\u001b[0m\u001b[0;34m\u001b[0m\u001b[0;34m\u001b[0m\u001b[0m\n\u001b[1;32m   1764\u001b[0m             \u001b[0;32mreturn\u001b[0m \u001b[0moutputs\u001b[0m\u001b[0;34m[\u001b[0m\u001b[0;36m0\u001b[0m\u001b[0;34m]\u001b[0m\u001b[0;34m\u001b[0m\u001b[0;34m\u001b[0m\u001b[0m\n",
      "\u001b[0;32m/opt/anaconda3/lib/python3.6/site-packages/keras/backend/tensorflow_backend.py\u001b[0m in \u001b[0;36m__call__\u001b[0;34m(self, inputs)\u001b[0m\n\u001b[1;32m   2271\u001b[0m         updated = session.run(self.outputs + [self.updates_op],\n\u001b[1;32m   2272\u001b[0m                               \u001b[0mfeed_dict\u001b[0m\u001b[0;34m=\u001b[0m\u001b[0mfeed_dict\u001b[0m\u001b[0;34m,\u001b[0m\u001b[0;34m\u001b[0m\u001b[0;34m\u001b[0m\u001b[0m\n\u001b[0;32m-> 2273\u001b[0;31m                               **self.session_kwargs)\n\u001b[0m\u001b[1;32m   2274\u001b[0m         \u001b[0;32mreturn\u001b[0m \u001b[0mupdated\u001b[0m\u001b[0;34m[\u001b[0m\u001b[0;34m:\u001b[0m\u001b[0mlen\u001b[0m\u001b[0;34m(\u001b[0m\u001b[0mself\u001b[0m\u001b[0;34m.\u001b[0m\u001b[0moutputs\u001b[0m\u001b[0;34m)\u001b[0m\u001b[0;34m]\u001b[0m\u001b[0;34m\u001b[0m\u001b[0;34m\u001b[0m\u001b[0m\n\u001b[1;32m   2275\u001b[0m \u001b[0;34m\u001b[0m\u001b[0m\n",
      "\u001b[0;32m/opt/anaconda3/lib/python3.6/site-packages/tensorflow/python/client/session.py\u001b[0m in \u001b[0;36mrun\u001b[0;34m(self, fetches, feed_dict, options, run_metadata)\u001b[0m\n\u001b[1;32m    887\u001b[0m     \u001b[0;32mtry\u001b[0m\u001b[0;34m:\u001b[0m\u001b[0;34m\u001b[0m\u001b[0;34m\u001b[0m\u001b[0m\n\u001b[1;32m    888\u001b[0m       result = self._run(None, fetches, feed_dict, options_ptr,\n\u001b[0;32m--> 889\u001b[0;31m                          run_metadata_ptr)\n\u001b[0m\u001b[1;32m    890\u001b[0m       \u001b[0;32mif\u001b[0m \u001b[0mrun_metadata\u001b[0m\u001b[0;34m:\u001b[0m\u001b[0;34m\u001b[0m\u001b[0;34m\u001b[0m\u001b[0m\n\u001b[1;32m    891\u001b[0m         \u001b[0mproto_data\u001b[0m \u001b[0;34m=\u001b[0m \u001b[0mtf_session\u001b[0m\u001b[0;34m.\u001b[0m\u001b[0mTF_GetBuffer\u001b[0m\u001b[0;34m(\u001b[0m\u001b[0mrun_metadata_ptr\u001b[0m\u001b[0;34m)\u001b[0m\u001b[0;34m\u001b[0m\u001b[0;34m\u001b[0m\u001b[0m\n",
      "\u001b[0;32m/opt/anaconda3/lib/python3.6/site-packages/tensorflow/python/client/session.py\u001b[0m in \u001b[0;36m_run\u001b[0;34m(self, handle, fetches, feed_dict, options, run_metadata)\u001b[0m\n\u001b[1;32m   1118\u001b[0m     \u001b[0;32mif\u001b[0m \u001b[0mfinal_fetches\u001b[0m \u001b[0;32mor\u001b[0m \u001b[0mfinal_targets\u001b[0m \u001b[0;32mor\u001b[0m \u001b[0;34m(\u001b[0m\u001b[0mhandle\u001b[0m \u001b[0;32mand\u001b[0m \u001b[0mfeed_dict_tensor\u001b[0m\u001b[0;34m)\u001b[0m\u001b[0;34m:\u001b[0m\u001b[0;34m\u001b[0m\u001b[0;34m\u001b[0m\u001b[0m\n\u001b[1;32m   1119\u001b[0m       results = self._do_run(handle, final_targets, final_fetches,\n\u001b[0;32m-> 1120\u001b[0;31m                              feed_dict_tensor, options, run_metadata)\n\u001b[0m\u001b[1;32m   1121\u001b[0m     \u001b[0;32melse\u001b[0m\u001b[0;34m:\u001b[0m\u001b[0;34m\u001b[0m\u001b[0;34m\u001b[0m\u001b[0m\n\u001b[1;32m   1122\u001b[0m       \u001b[0mresults\u001b[0m \u001b[0;34m=\u001b[0m \u001b[0;34m[\u001b[0m\u001b[0;34m]\u001b[0m\u001b[0;34m\u001b[0m\u001b[0;34m\u001b[0m\u001b[0m\n",
      "\u001b[0;32m/opt/anaconda3/lib/python3.6/site-packages/tensorflow/python/client/session.py\u001b[0m in \u001b[0;36m_do_run\u001b[0;34m(self, handle, target_list, fetch_list, feed_dict, options, run_metadata)\u001b[0m\n\u001b[1;32m   1315\u001b[0m     \u001b[0;32mif\u001b[0m \u001b[0mhandle\u001b[0m \u001b[0;32mis\u001b[0m \u001b[0;32mNone\u001b[0m\u001b[0;34m:\u001b[0m\u001b[0;34m\u001b[0m\u001b[0;34m\u001b[0m\u001b[0m\n\u001b[1;32m   1316\u001b[0m       return self._do_call(_run_fn, self._session, feeds, fetches, targets,\n\u001b[0;32m-> 1317\u001b[0;31m                            options, run_metadata)\n\u001b[0m\u001b[1;32m   1318\u001b[0m     \u001b[0;32melse\u001b[0m\u001b[0;34m:\u001b[0m\u001b[0;34m\u001b[0m\u001b[0;34m\u001b[0m\u001b[0m\n\u001b[1;32m   1319\u001b[0m       \u001b[0;32mreturn\u001b[0m \u001b[0mself\u001b[0m\u001b[0;34m.\u001b[0m\u001b[0m_do_call\u001b[0m\u001b[0;34m(\u001b[0m\u001b[0m_prun_fn\u001b[0m\u001b[0;34m,\u001b[0m \u001b[0mself\u001b[0m\u001b[0;34m.\u001b[0m\u001b[0m_session\u001b[0m\u001b[0;34m,\u001b[0m \u001b[0mhandle\u001b[0m\u001b[0;34m,\u001b[0m \u001b[0mfeeds\u001b[0m\u001b[0;34m,\u001b[0m \u001b[0mfetches\u001b[0m\u001b[0;34m)\u001b[0m\u001b[0;34m\u001b[0m\u001b[0;34m\u001b[0m\u001b[0m\n",
      "\u001b[0;32m/opt/anaconda3/lib/python3.6/site-packages/tensorflow/python/client/session.py\u001b[0m in \u001b[0;36m_do_call\u001b[0;34m(self, fn, *args)\u001b[0m\n\u001b[1;32m   1321\u001b[0m   \u001b[0;32mdef\u001b[0m \u001b[0m_do_call\u001b[0m\u001b[0;34m(\u001b[0m\u001b[0mself\u001b[0m\u001b[0;34m,\u001b[0m \u001b[0mfn\u001b[0m\u001b[0;34m,\u001b[0m \u001b[0;34m*\u001b[0m\u001b[0margs\u001b[0m\u001b[0;34m)\u001b[0m\u001b[0;34m:\u001b[0m\u001b[0;34m\u001b[0m\u001b[0;34m\u001b[0m\u001b[0m\n\u001b[1;32m   1322\u001b[0m     \u001b[0;32mtry\u001b[0m\u001b[0;34m:\u001b[0m\u001b[0;34m\u001b[0m\u001b[0;34m\u001b[0m\u001b[0m\n\u001b[0;32m-> 1323\u001b[0;31m       \u001b[0;32mreturn\u001b[0m \u001b[0mfn\u001b[0m\u001b[0;34m(\u001b[0m\u001b[0;34m*\u001b[0m\u001b[0margs\u001b[0m\u001b[0;34m)\u001b[0m\u001b[0;34m\u001b[0m\u001b[0;34m\u001b[0m\u001b[0m\n\u001b[0m\u001b[1;32m   1324\u001b[0m     \u001b[0;32mexcept\u001b[0m \u001b[0merrors\u001b[0m\u001b[0;34m.\u001b[0m\u001b[0mOpError\u001b[0m \u001b[0;32mas\u001b[0m \u001b[0me\u001b[0m\u001b[0;34m:\u001b[0m\u001b[0;34m\u001b[0m\u001b[0;34m\u001b[0m\u001b[0m\n\u001b[1;32m   1325\u001b[0m       \u001b[0mmessage\u001b[0m \u001b[0;34m=\u001b[0m \u001b[0mcompat\u001b[0m\u001b[0;34m.\u001b[0m\u001b[0mas_text\u001b[0m\u001b[0;34m(\u001b[0m\u001b[0me\u001b[0m\u001b[0;34m.\u001b[0m\u001b[0mmessage\u001b[0m\u001b[0;34m)\u001b[0m\u001b[0;34m\u001b[0m\u001b[0;34m\u001b[0m\u001b[0m\n",
      "\u001b[0;32m/opt/anaconda3/lib/python3.6/site-packages/tensorflow/python/client/session.py\u001b[0m in \u001b[0;36m_run_fn\u001b[0;34m(session, feed_dict, fetch_list, target_list, options, run_metadata)\u001b[0m\n\u001b[1;32m   1300\u001b[0m           return tf_session.TF_Run(session, options,\n\u001b[1;32m   1301\u001b[0m                                    \u001b[0mfeed_dict\u001b[0m\u001b[0;34m,\u001b[0m \u001b[0mfetch_list\u001b[0m\u001b[0;34m,\u001b[0m \u001b[0mtarget_list\u001b[0m\u001b[0;34m,\u001b[0m\u001b[0;34m\u001b[0m\u001b[0;34m\u001b[0m\u001b[0m\n\u001b[0;32m-> 1302\u001b[0;31m                                    status, run_metadata)\n\u001b[0m\u001b[1;32m   1303\u001b[0m \u001b[0;34m\u001b[0m\u001b[0m\n\u001b[1;32m   1304\u001b[0m     \u001b[0;32mdef\u001b[0m \u001b[0m_prun_fn\u001b[0m\u001b[0;34m(\u001b[0m\u001b[0msession\u001b[0m\u001b[0;34m,\u001b[0m \u001b[0mhandle\u001b[0m\u001b[0;34m,\u001b[0m \u001b[0mfeed_dict\u001b[0m\u001b[0;34m,\u001b[0m \u001b[0mfetch_list\u001b[0m\u001b[0;34m)\u001b[0m\u001b[0;34m:\u001b[0m\u001b[0;34m\u001b[0m\u001b[0;34m\u001b[0m\u001b[0m\n",
      "\u001b[0;31mKeyboardInterrupt\u001b[0m: "
     ]
    }
   ],
   "source": [
    "model.compile(optimizer=RMSprop(), loss='mae')\n",
    "history4 = model.fit_generator(train_gen, \n",
    "                               steps_per_epoch=500, \n",
    "                               epochs=40, \n",
    "                               validation_data=val_gen, \n",
    "                               validation_steps=val_steps)"
   ]
  },
  {
   "cell_type": "code",
   "execution_count": 78,
   "metadata": {
    "collapsed": true
   },
   "outputs": [],
   "source": [
    "loss, val_loss = pd.Series(history4.history)"
   ]
  },
  {
   "cell_type": "code",
   "execution_count": 79,
   "metadata": {
    "collapsed": true
   },
   "outputs": [],
   "source": [
    "epochs = range(1, len(loss) + 1)"
   ]
  },
  {
   "cell_type": "code",
   "execution_count": 80,
   "metadata": {},
   "outputs": [
    {
     "data": {
      "text/plain": [
       "<Figure size 432x288 with 0 Axes>"
      ]
     },
     "execution_count": 80,
     "metadata": {},
     "output_type": "execute_result"
    },
    {
     "data": {
      "text/plain": [
       "<Figure size 432x288 with 0 Axes>"
      ]
     },
     "metadata": {},
     "output_type": "display_data"
    }
   ],
   "source": [
    "plt.figure()"
   ]
  },
  {
   "cell_type": "code",
   "execution_count": 81,
   "metadata": {},
   "outputs": [
    {
     "data": {
      "image/png": "[encoded data removed]",
      "text/plain": [
       "<Figure size 432x288 with 1 Axes>"
      ]
     },
     "metadata": {},
     "output_type": "display_data"
    }
   ],
   "source": [
    "plt.plot(epochs, loss, 'bo', label='Training loss')\n",
    "plt.plot(epochs, val_loss, 'b', label='Validation loss')\n",
    "plt.title('Training and validation loss')\n",
    "plt.legend()\n",
    "\n",
    "plt.show()"
   ]
  },
  {
   "cell_type": "markdown",
   "metadata": {},
   "source": [
    "Training and evaluating an LSTM using reversed sequences"
   ]
  },
  {
   "cell_type": "code",
   "execution_count": 84,
   "metadata": {
    "collapsed": true
   },
   "outputs": [],
   "source": [
    "from keras.datasets import imdb\n",
    "from keras.preprocessing import sequence"
   ]
  },
  {
   "cell_type": "code",
   "execution_count": 85,
   "metadata": {
    "collapsed": true
   },
   "outputs": [],
   "source": [
    "max_features = 10000\n",
    "maxlen = 500\n",
    "\n",
    "(train_data, train_labels), (test_data, test_labels) = imdb.load_data(\n",
    "    num_words=max_features)"
   ]
  },
  {
   "cell_type": "markdown",
   "metadata": {},
   "source": [
    "Reverse sequences"
   ]
  },
  {
   "cell_type": "code",
   "execution_count": 86,
   "metadata": {
    "collapsed": true
   },
   "outputs": [],
   "source": [
    "train_data = [x[::-1] for x in train_data]\n",
    "test_data = [x[::-1] for x in test_data]"
   ]
  },
  {
   "cell_type": "code",
   "execution_count": 87,
   "metadata": {
    "collapsed": true
   },
   "outputs": [],
   "source": [
    "train_data = sequence.pad_sequences(train_data, maxlen=maxlen)\n",
    "test_data = sequence.pad_sequences(test_data, maxlen=maxlen)"
   ]
  },
  {
   "cell_type": "code",
   "execution_count": 88,
   "metadata": {
    "collapsed": true
   },
   "outputs": [],
   "source": [
    "from keras.layers import Embedding"
   ]
  },
  {
   "cell_type": "code",
   "execution_count": 89,
   "metadata": {
    "collapsed": true
   },
   "outputs": [],
   "source": [
    "from keras.layers import LSTM"
   ]
  },
  {
   "cell_type": "code",
   "execution_count": 90,
   "metadata": {
    "collapsed": true
   },
   "outputs": [],
   "source": [
    "model = Sequential()\n",
    "model.add(Embedding(max_features, 128))\n",
    "model.add(LSTM(32))\n",
    "model.add(Dense(1, activation='sigmoid'))\n",
    "model.compile(optimizer='rmsprop', \n",
    "              loss='binary_crossentropy', \n",
    "              metrics=['acc'])"
   ]
  },
  {
   "cell_type": "code",
   "execution_count": 92,
   "metadata": {},
   "outputs": [
    {
     "name": "stdout",
     "output_type": "stream",
     "text": [
      "Train on 20000 samples, validate on 5000 samples\n",
      "Epoch 1/10\n",
      "20000/20000 [==============================] - 35s - loss: 0.5215 - acc: 0.7652 - val_loss: 0.4062 - val_acc: 0.8366\n",
      "Epoch 2/10\n",
      "20000/20000 [==============================] - 35s - loss: 0.3638 - acc: 0.8542 - val_loss: 0.5448 - val_acc: 0.7438\n",
      "Epoch 3/10\n",
      "20000/20000 [==============================] - 35s - loss: 0.3027 - acc: 0.8825 - val_loss: 0.3244 - val_acc: 0.8730\n",
      "Epoch 4/10\n",
      "20000/20000 [==============================] - 34s - loss: 0.2605 - acc: 0.9013 - val_loss: 0.4319 - val_acc: 0.8442\n",
      "Epoch 5/10\n",
      "20000/20000 [==============================] - 35s - loss: 0.2312 - acc: 0.9131 - val_loss: 0.3315 - val_acc: 0.8842\n",
      "Epoch 6/10\n",
      "20000/20000 [==============================] - 34s - loss: 0.2146 - acc: 0.9218 - val_loss: 0.3669 - val_acc: 0.8412\n",
      "Epoch 7/10\n",
      "20000/20000 [==============================] - 35s - loss: 0.1951 - acc: 0.9286 - val_loss: 0.3666 - val_acc: 0.8560\n",
      "Epoch 8/10\n",
      "20000/20000 [==============================] - 35s - loss: 0.1719 - acc: 0.9378 - val_loss: 0.4202 - val_acc: 0.8698\n",
      "Epoch 9/10\n",
      "20000/20000 [==============================] - 35s - loss: 0.1616 - acc: 0.9405 - val_loss: 0.4425 - val_acc: 0.8772\n",
      "Epoch 10/10\n",
      "20000/20000 [==============================] - 36s - loss: 0.1580 - acc: 0.9429 - val_loss: 0.4439 - val_acc: 0.8366\n"
     ]
    }
   ],
   "source": [
    "history5 = model.fit(train_data, train_labels, \n",
    "                     epochs=10, batch_size=512, validation_split=0.2)"
   ]
  },
  {
   "cell_type": "code",
   "execution_count": 96,
   "metadata": {},
   "outputs": [
    {
     "name": "stdout",
     "output_type": "stream",
     "text": [
      "25000/25000 [==============================] - 123s   \n"
     ]
    },
    {
     "data": {
      "text/plain": [
       "[0.5353564680480957, 0.80316]"
      ]
     },
     "execution_count": 96,
     "metadata": {},
     "output_type": "execute_result"
    }
   ],
   "source": [
    "model.evaluate(test_data, test_labels)"
   ]
  },
  {
   "cell_type": "code",
   "execution_count": 97,
   "metadata": {
    "collapsed": true
   },
   "outputs": [],
   "source": [
    "from keras.layers import Bidirectional"
   ]
  },
  {
   "cell_type": "code",
   "execution_count": 98,
   "metadata": {},
   "outputs": [
    {
     "name": "stdout",
     "output_type": "stream",
     "text": [
      "Train on 20000 samples, validate on 5000 samples\n",
      "Epoch 1/10\n",
      "20000/20000 [==============================] - 229s - loss: 0.5460 - acc: 0.7323 - val_loss: 0.4145 - val_acc: 0.8468\n",
      "Epoch 2/10\n",
      "20000/20000 [==============================] - 229s - loss: 0.3367 - acc: 0.8727 - val_loss: 0.3134 - val_acc: 0.8822\n",
      "Epoch 3/10\n",
      "20000/20000 [==============================] - 231s - loss: 0.2686 - acc: 0.9023 - val_loss: 0.4974 - val_acc: 0.8428\n",
      "Epoch 4/10\n",
      "20000/20000 [==============================] - 232s - loss: 0.2304 - acc: 0.9170 - val_loss: 0.3421 - val_acc: 0.8842\n",
      "Epoch 5/10\n",
      "20000/20000 [==============================] - 230s - loss: 0.2119 - acc: 0.9268 - val_loss: 0.3143 - val_acc: 0.8896\n",
      "Epoch 6/10\n",
      "20000/20000 [==============================] - 229s - loss: 0.1760 - acc: 0.9388 - val_loss: 0.3921 - val_acc: 0.8660\n",
      "Epoch 7/10\n",
      "20000/20000 [==============================] - 232s - loss: 0.1763 - acc: 0.9420 - val_loss: 0.3206 - val_acc: 0.8768\n",
      "Epoch 8/10\n",
      "20000/20000 [==============================] - 233s - loss: 0.1523 - acc: 0.9494 - val_loss: 0.4797 - val_acc: 0.8206\n",
      "Epoch 9/10\n",
      "20000/20000 [==============================] - 233s - loss: 0.1391 - acc: 0.9533 - val_loss: 0.3595 - val_acc: 0.8826\n",
      "Epoch 10/10\n",
      "20000/20000 [==============================] - 232s - loss: 0.1295 - acc: 0.9562 - val_loss: 0.5322 - val_acc: 0.8450\n"
     ]
    }
   ],
   "source": [
    "model = Sequential()\n",
    "model.add(Embedding(max_features, 32))\n",
    "model.add(Bidirectional(LSTM(32)))\n",
    "model.add(Dense(1, activation='sigmoid'))\n",
    "model.compile(optimizer='rmsprop', \n",
    "              loss='binary_crossentropy', \n",
    "              metrics=['acc'])\n",
    "history6 = model.fit(train_data, train_labels, \n",
    "                     epochs=10, \n",
    "                     batch_size=128, \n",
    "                     validation_split=0.2)"
   ]
  },
  {
   "cell_type": "code",
   "execution_count": 99,
   "metadata": {},
   "outputs": [
    {
     "name": "stdout",
     "output_type": "stream",
     "text": [
      "25000/25000 [==============================] - 223s   \n"
     ]
    },
    {
     "data": {
      "text/plain": [
       "[0.5816463341331481, 0.827]"
      ]
     },
     "execution_count": 99,
     "metadata": {},
     "output_type": "execute_result"
    }
   ],
   "source": [
    "model.evaluate(test_data, test_labels)"
   ]
  },
  {
   "cell_type": "code",
   "execution_count": 100,
   "metadata": {},
   "outputs": [
    {
     "name": "stdout",
     "output_type": "stream",
     "text": [
      "Loading data...\n",
      "25000 train sequences\n",
      "25000 test sequences\n"
     ]
    }
   ],
   "source": [
    "from keras.datasets import imdb\n",
    "from keras.preprocessing import sequence\n",
    "\n",
    "max_features = 10000\n",
    "max_len = 500\n",
    "\n",
    "print('Loading data...')\n",
    "(x_train, y_train), (x_test, y_test) = imdb.load_data(num_words=max_features)\n",
    "print(len(x_train), 'train sequences')\n",
    "print(len(x_test), 'test sequences')"
   ]
  },
  {
   "cell_type": "code",
   "execution_count": 101,
   "metadata": {},
   "outputs": [
    {
     "name": "stdout",
     "output_type": "stream",
     "text": [
      "Pad sequences (samples x time)\n",
      "x_train shape: (25000, 500)\n",
      "x_test shape: (25000, 500)\n"
     ]
    }
   ],
   "source": [
    "print('Pad sequences (samples x time)')\n",
    "x_train = sequence.pad_sequences(x_train, maxlen=max_len)\n",
    "x_test = sequence.pad_sequences(x_test, maxlen=max_len)\n",
    "print('x_train shape:', x_train.shape)\n",
    "print('x_test shape:', x_test.shape)"
   ]
  },
  {
   "cell_type": "code",
   "execution_count": 102,
   "metadata": {
    "collapsed": true
   },
   "outputs": [],
   "source": [
    "from keras.models import Sequential\n",
    "from keras import layers\n",
    "from keras.optimizers import RMSprop"
   ]
  },
  {
   "cell_type": "code",
   "execution_count": 103,
   "metadata": {},
   "outputs": [
    {
     "name": "stdout",
     "output_type": "stream",
     "text": [
      "_________________________________________________________________\n",
      "Layer (type)                 Output Shape              Param #   \n",
      "=================================================================\n",
      "embedding_3 (Embedding)      (None, 500, 128)          1280000   \n",
      "_________________________________________________________________\n",
      "conv1d_1 (Conv1D)            (None, 494, 32)           28704     \n",
      "_________________________________________________________________\n",
      "max_pooling1d_1 (MaxPooling1 (None, 98, 32)            0         \n",
      "_________________________________________________________________\n",
      "conv1d_2 (Conv1D)            (None, 92, 32)            7200      \n",
      "_________________________________________________________________\n",
      "global_max_pooling1d_1 (Glob (None, 32)                0         \n",
      "_________________________________________________________________\n",
      "dense_8 (Dense)              (None, 1)                 33        \n",
      "=================================================================\n",
      "Total params: 1,315,937\n",
      "Trainable params: 1,315,937\n",
      "Non-trainable params: 0\n",
      "_________________________________________________________________\n"
     ]
    }
   ],
   "source": [
    "model = Sequential()\n",
    "model.add(layers.Embedding(max_features, 128, input_length=max_len))\n",
    "model.add(layers.Conv1D(32, 7, activation='relu'))\n",
    "model.add(layers.MaxPooling1D(5))\n",
    "model.add(layers.Conv1D(32, 7, activation='relu'))\n",
    "model.add(layers.GlobalMaxPooling1D())\n",
    "model.add(layers.Dense(1))\n",
    "\n",
    "model.summary()"
   ]
  },
  {
   "cell_type": "code",
   "execution_count": 104,
   "metadata": {},
   "outputs": [
    {
     "name": "stdout",
     "output_type": "stream",
     "text": [
      "Train on 20000 samples, validate on 5000 samples\n",
      "Epoch 1/10\n",
      "20000/20000 [==============================] - 3s - loss: 0.7699 - acc: 0.5304 - val_loss: 0.6821 - val_acc: 0.5988\n",
      "Epoch 2/10\n",
      "20000/20000 [==============================] - 1s - loss: 0.6631 - acc: 0.6771 - val_loss: 0.6574 - val_acc: 0.6648\n",
      "Epoch 3/10\n",
      "20000/20000 [==============================] - 1s - loss: 0.6123 - acc: 0.7606 - val_loss: 0.5946 - val_acc: 0.7192\n",
      "Epoch 4/10\n",
      "20000/20000 [==============================] - 1s - loss: 0.5127 - acc: 0.8136 - val_loss: 0.4800 - val_acc: 0.8014\n",
      "Epoch 5/10\n",
      "20000/20000 [==============================] - 1s - loss: 0.4075 - acc: 0.8479 - val_loss: 0.4122 - val_acc: 0.8384\n",
      "Epoch 6/10\n",
      "20000/20000 [==============================] - 1s - loss: 0.3445 - acc: 0.8639 - val_loss: 0.3954 - val_acc: 0.8438\n",
      "Epoch 7/10\n",
      "20000/20000 [==============================] - 1s - loss: 0.3032 - acc: 0.8594 - val_loss: 0.3947 - val_acc: 0.8284\n",
      "Epoch 8/10\n",
      "20000/20000 [==============================] - 1s - loss: 0.2755 - acc: 0.8475 - val_loss: 0.4232 - val_acc: 0.8046\n",
      "Epoch 9/10\n",
      "20000/20000 [==============================] - 1s - loss: 0.2494 - acc: 0.8266 - val_loss: 0.4318 - val_acc: 0.7854\n",
      "Epoch 10/10\n",
      "20000/20000 [==============================] - 1s - loss: 0.2295 - acc: 0.8078 - val_loss: 0.4537 - val_acc: 0.7540\n"
     ]
    }
   ],
   "source": [
    "model.compile(optimizer=RMSprop(lr=1e-4), \n",
    "              loss='binary_crossentropy', \n",
    "              metrics=['acc'])\n",
    "history7 = model.fit(x_train, y_train, \n",
    "                     epochs=10, \n",
    "                     batch_size=128, \n",
    "                     validation_split=0.2)"
   ]
  },
  {
   "cell_type": "code",
   "execution_count": 106,
   "metadata": {},
   "outputs": [],
   "source": [
    "acc, loss, val_acc, val_loss = pd.Series(history7.history)"
   ]
  },
  {
   "cell_type": "code",
   "execution_count": 108,
   "metadata": {
    "collapsed": true
   },
   "outputs": [],
   "source": [
    "epochs = range(1, len(acc) + 1)"
   ]
  },
  {
   "cell_type": "code",
   "execution_count": 109,
   "metadata": {},
   "outputs": [
    {
     "data": {
      "text/plain": [
       "<Figure size 432x288 with 0 Axes>"
      ]
     },
     "execution_count": 109,
     "metadata": {},
     "output_type": "execute_result"
    },
    {
     "data": {
      "image/png": "[encoded data removed]",
      "text/plain": [
       "<Figure size 432x288 with 1 Axes>"
      ]
     },
     "metadata": {},
     "output_type": "display_data"
    },
    {
     "data": {
      "text/plain": [
       "<Figure size 432x288 with 0 Axes>"
      ]
     },
     "metadata": {},
     "output_type": "display_data"
    }
   ],
   "source": [
    "plt.plot(epochs, acc, 'bo', label='Training acc')\n",
    "plt.plot(epochs, val_acc, 'b', label='Validation acc')\n",
    "plt.title('Training and validation accuracy')\n",
    "plt.legend()\n",
    "\n",
    "plt.figure()"
   ]
  },
  {
   "cell_type": "code",
   "execution_count": 110,
   "metadata": {},
   "outputs": [
    {
     "data": {
      "image/png": "[encoded data removed]",
      "text/plain": [
       "<Figure size 432x288 with 1 Axes>"
      ]
     },
     "metadata": {},
     "output_type": "display_data"
    }
   ],
   "source": [
    "plt.plot(epochs, loss, 'bo', label='Training loss')\n",
    "plt.plot(epochs, val_loss, 'b', label='Validation loss')\n",
    "plt.title('Training and validation loss')\n",
    "plt.legend()\n",
    "\n",
    "plt.show()"
   ]
  },
  {
   "cell_type": "code",
   "execution_count": 111,
   "metadata": {},
   "outputs": [
    {
     "name": "stdout",
     "output_type": "stream",
     "text": [
      "Epoch 1/20\n",
      "500/500 [==============================] - 13s - loss: 0.4106 - val_loss: 0.4379\n",
      "Epoch 2/20\n",
      "500/500 [==============================] - 13s - loss: 0.3576 - val_loss: 0.4380\n",
      "Epoch 3/20\n",
      "500/500 [==============================] - 12s - loss: 0.3345 - val_loss: 0.4416\n",
      "Epoch 4/20\n",
      "500/500 [==============================] - 12s - loss: 0.3203 - val_loss: 0.4355\n",
      "Epoch 5/20\n",
      "500/500 [==============================] - 12s - loss: 0.3070 - val_loss: 0.4608\n",
      "Epoch 6/20\n",
      "500/500 [==============================] - 13s - loss: 0.2995 - val_loss: 0.4646\n",
      "Epoch 7/20\n",
      "500/500 [==============================] - 13s - loss: 0.2898 - val_loss: 0.4575\n",
      "Epoch 8/20\n",
      "500/500 [==============================] - 12s - loss: 0.2851 - val_loss: 0.4476\n",
      "Epoch 9/20\n",
      "500/500 [==============================] - 13s - loss: 0.2780 - val_loss: 0.4533\n",
      "Epoch 10/20\n",
      "500/500 [==============================] - 13s - loss: 0.2714 - val_loss: 0.4503\n",
      "Epoch 11/20\n",
      "500/500 [==============================] - 14s - loss: 0.2696 - val_loss: 0.4723\n",
      "Epoch 12/20\n",
      "500/500 [==============================] - 13s - loss: 0.2643 - val_loss: 0.4343\n",
      "Epoch 13/20\n",
      "500/500 [==============================] - 13s - loss: 0.2589 - val_loss: 0.4554\n",
      "Epoch 14/20\n",
      "500/500 [==============================] - 12s - loss: 0.2561 - val_loss: 0.4449\n",
      "Epoch 15/20\n",
      "500/500 [==============================] - 14s - loss: 0.2541 - val_loss: 0.4467\n",
      "Epoch 16/20\n",
      "500/500 [==============================] - 12s - loss: 0.2506 - val_loss: 0.4733\n",
      "Epoch 17/20\n",
      "500/500 [==============================] - 13s - loss: 0.2484 - val_loss: 0.4534\n",
      "Epoch 18/20\n",
      "500/500 [==============================] - 12s - loss: 0.2464 - val_loss: 0.4528\n",
      "Epoch 19/20\n",
      "500/500 [==============================] - 13s - loss: 0.2429 - val_loss: 0.4607\n",
      "Epoch 20/20\n",
      "500/500 [==============================] - 12s - loss: 0.2401 - val_loss: 0.4559\n"
     ]
    }
   ],
   "source": [
    "model = Sequential()\n",
    "model.add(layers.Conv1D(32, 5, activation='relu', \n",
    "                        input_shape=(None, float_data.shape[-1])))\n",
    "model.add(layers.MaxPool1D(3))\n",
    "model.add(layers.Conv1D(32, 5, activation='relu'))\n",
    "model.add(layers.MaxPool1D(3))\n",
    "model.add(layers.Conv1D(32, 5, activation='relu'))\n",
    "model.add(layers.GlobalMaxPooling1D())\n",
    "model.add(layers.Dense(1))\n",
    "\n",
    "model.compile(optimizer=RMSprop(), loss='mae')\n",
    "history8 = model.fit_generator(train_gen, \n",
    "                              steps_per_epoch=500, \n",
    "                              epochs=20, \n",
    "                              validation_data=val_gen, \n",
    "                              validation_steps=val_steps)"
   ]
  },
  {
   "cell_type": "code",
   "execution_count": 112,
   "metadata": {
    "collapsed": true
   },
   "outputs": [],
   "source": [
    "loss, val_loss = pd.Series(history8.history)"
   ]
  },
  {
   "cell_type": "code",
   "execution_count": 113,
   "metadata": {
    "collapsed": true
   },
   "outputs": [],
   "source": [
    "epochs = range(1, len(loss) + 1)"
   ]
  },
  {
   "cell_type": "code",
   "execution_count": 114,
   "metadata": {},
   "outputs": [
    {
     "data": {
      "text/plain": [
       "<Figure size 432x288 with 0 Axes>"
      ]
     },
     "execution_count": 114,
     "metadata": {},
     "output_type": "execute_result"
    },
    {
     "data": {
      "text/plain": [
       "<Figure size 432x288 with 0 Axes>"
      ]
     },
     "metadata": {},
     "output_type": "display_data"
    }
   ],
   "source": [
    "plt.figure()"
   ]
  },
  {
   "cell_type": "code",
   "execution_count": 115,
   "metadata": {},
   "outputs": [
    {
     "data": {
      "image/png": "[encoded data removed]",
      "text/plain": [
       "<Figure size 432x288 with 1 Axes>"
      ]
     },
     "metadata": {},
     "output_type": "display_data"
    }
   ],
   "source": [
    "plt.plot(epochs, loss, 'bo', label='Training loss')\n",
    "plt.plot(epochs, val_loss, 'b', label='Validation loss')\n",
    "plt.title('Training and validation loss')\n",
    "plt.legend()\n",
    "\n",
    "plt.show()"
   ]
  },
  {
   "cell_type": "code",
   "execution_count": 116,
   "metadata": {
    "collapsed": true
   },
   "outputs": [],
   "source": [
    "step = 3\n",
    "lookback = 720\n",
    "delay = 144\n",
    "\n"
   ]
  },
  {
   "cell_type": "code",
   "execution_count": 117,
   "metadata": {
    "collapsed": true
   },
   "outputs": [],
   "source": [
    "train_gen = generator(float_data, \n",
    "                      lookback=lookback, \n",
    "                      delay=delay, \n",
    "                      min_index=0, \n",
    "                      max_index=200000, \n",
    "                      shuffle=True, \n",
    "                      step=step)"
   ]
  },
  {
   "cell_type": "code",
   "execution_count": 118,
   "metadata": {
    "collapsed": true
   },
   "outputs": [],
   "source": [
    "val_gen = generator(float_data, \n",
    "                    lookback=lookback, \n",
    "                    delay=delay, \n",
    "                    min_index=200001, \n",
    "                    max_index=300000, \n",
    "                    step=step)"
   ]
  },
  {
   "cell_type": "code",
   "execution_count": 119,
   "metadata": {
    "collapsed": true
   },
   "outputs": [],
   "source": [
    "test_gen = generator(float_data, \n",
    "                     lookback=lookback, \n",
    "                     delay=delay, \n",
    "                     min_index=300001, \n",
    "                     max_index=None, \n",
    "                     step=step)"
   ]
  },
  {
   "cell_type": "code",
   "execution_count": 120,
   "metadata": {
    "collapsed": true
   },
   "outputs": [],
   "source": [
    "val_steps = (300000 - 200001 - lookback) // 128\n",
    "test_steps = (len(float_data) - 300001 - lookback) // 128"
   ]
  },
  {
   "cell_type": "code",
   "execution_count": 121,
   "metadata": {},
   "outputs": [
    {
     "name": "stdout",
     "output_type": "stream",
     "text": [
      "Epoch 1/20\n",
      "500/500 [==============================] - 83s - loss: 0.3385 - val_loss: 0.3180\n",
      "Epoch 2/20\n",
      "500/500 [==============================] - 82s - loss: 0.3053 - val_loss: 0.2852\n",
      "Epoch 3/20\n",
      "500/500 [==============================] - 81s - loss: 0.2903 - val_loss: 0.2850\n",
      "Epoch 4/20\n",
      "500/500 [==============================] - 85s - loss: 0.2832 - val_loss: 0.2774\n",
      "Epoch 5/20\n",
      "500/500 [==============================] - 85s - loss: 0.2773 - val_loss: 0.2836\n",
      "Epoch 6/20\n",
      "500/500 [==============================] - 85s - loss: 0.2707 - val_loss: 0.2855\n",
      "Epoch 7/20\n",
      "500/500 [==============================] - 86s - loss: 0.2656 - val_loss: 0.2815\n",
      "Epoch 8/20\n",
      "500/500 [==============================] - 84s - loss: 0.2625 - val_loss: 0.2824\n",
      "Epoch 9/20\n",
      "500/500 [==============================] - 85s - loss: 0.2572 - val_loss: 0.2979\n",
      "Epoch 10/20\n",
      "500/500 [==============================] - 83s - loss: 0.2531 - val_loss: 0.2883\n",
      "Epoch 11/20\n",
      "500/500 [==============================] - 84s - loss: 0.2494 - val_loss: 0.2761\n",
      "Epoch 12/20\n",
      "500/500 [==============================] - 84s - loss: 0.2459 - val_loss: 0.2818\n",
      "Epoch 13/20\n",
      "500/500 [==============================] - 84s - loss: 0.2432 - val_loss: 0.2902\n",
      "Epoch 14/20\n",
      "500/500 [==============================] - 85s - loss: 0.2402 - val_loss: 0.2830\n",
      "Epoch 15/20\n",
      "500/500 [==============================] - 84s - loss: 0.2379 - val_loss: 0.2869\n",
      "Epoch 16/20\n",
      "500/500 [==============================] - 85s - loss: 0.2347 - val_loss: 0.2880\n",
      "Epoch 17/20\n",
      "500/500 [==============================] - 85s - loss: 0.2322 - val_loss: 0.2889\n",
      "Epoch 18/20\n",
      "500/500 [==============================] - 84s - loss: 0.2292 - val_loss: 0.2976\n",
      "Epoch 19/20\n",
      "500/500 [==============================] - 82s - loss: 0.2279 - val_loss: 0.2939\n",
      "Epoch 20/20\n",
      "500/500 [==============================] - 81s - loss: 0.2240 - val_loss: 0.2866\n"
     ]
    }
   ],
   "source": [
    "model = Sequential()\n",
    "model.add(layers.Conv1D(32, 5, activation='relu', \n",
    "                        input_shape=(None, float_data.shape[-1])))\n",
    "model.add(layers.MaxPool1D(3))\n",
    "model.add(layers.Conv1D(32, 5, activation='relu'))\n",
    "model.add(layers.GRU(32, dropout=0.1, recurrent_dropout=0.5))\n",
    "model.add(layers.Dense(1))\n",
    "\n",
    "model.compile(optimizer=RMSprop(), loss='mae')\n",
    "history9 = model.fit_generator(train_gen, \n",
    "                              steps_per_epoch=500, \n",
    "                              epochs=20, \n",
    "                              validation_data=val_gen, \n",
    "                              validation_steps=val_steps)"
   ]
  },
  {
   "cell_type": "code",
   "execution_count": 122,
   "metadata": {
    "collapsed": true
   },
   "outputs": [],
   "source": [
    "loss, val_loss = pd.Series(history9.history)"
   ]
  },
  {
   "cell_type": "code",
   "execution_count": 123,
   "metadata": {
    "collapsed": true
   },
   "outputs": [],
   "source": [
    "epochs = range(1, len(loss) + 1)"
   ]
  },
  {
   "cell_type": "code",
   "execution_count": 124,
   "metadata": {},
   "outputs": [
    {
     "data": {
      "text/plain": [
       "<Figure size 432x288 with 0 Axes>"
      ]
     },
     "execution_count": 124,
     "metadata": {},
     "output_type": "execute_result"
    },
    {
     "data": {
      "text/plain": [
       "<Figure size 432x288 with 0 Axes>"
      ]
     },
     "metadata": {},
     "output_type": "display_data"
    }
   ],
   "source": [
    "plt.figure()"
   ]
  },
  {
   "cell_type": "code",
   "execution_count": 125,
   "metadata": {},
   "outputs": [
    {
     "data": {
      "image/png": "[encoded data removed]",
      "text/plain": [
       "<Figure size 432x288 with 1 Axes>"
      ]
     },
     "metadata": {},
     "output_type": "display_data"
    }
   ],
   "source": [
    "plt.plot(epochs, loss, 'bo', label='Training loss')\n",
    "plt.plot(epochs, val_loss, 'b', label='Validation loss')\n",
    "plt.title('Training and validation loss')\n",
    "plt.legend()\n",
    "\n",
    "plt.show()"
   ]
  },
  {
   "cell_type": "code",
   "execution_count": null,
   "metadata": {
    "collapsed": true
   },
   "outputs": [],
   "source": []
  }
 ],
 "metadata": {
  "kernelspec": {
   "display_name": "Python 3",
   "language": "python",
   "name": "python3"
  },
  "language_info": {
   "codemirror_mode": {
    "name": "ipython",
    "version": 3
   },
   "file_extension": ".py",
   "mimetype": "text/x-python",
   "name": "python",
   "nbconvert_exporter": "python",
   "pygments_lexer": "ipython3",
   "version": "3.6.7"
  }
 },
 "nbformat": 4,
 "nbformat_minor": 2
}
