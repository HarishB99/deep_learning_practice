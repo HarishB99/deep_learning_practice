{
 "cells": [
  {
   "cell_type": "markdown",
   "metadata": {},
   "source": [
    "### Listing 3.1 Loading the IMDB (Internet Movie Database) dataset"
   ]
  },
  {
   "cell_type": "code",
   "execution_count": 1,
   "metadata": {},
   "outputs": [
    {
     "name": "stderr",
     "output_type": "stream",
     "text": [
      "Using TensorFlow backend.\n"
     ]
    }
   ],
   "source": [
    "from keras.datasets import imdb"
   ]
  },
  {
   "cell_type": "code",
   "execution_count": 2,
   "metadata": {},
   "outputs": [],
   "source": [
    "(train_data, train_labels), (test_data, test_labels) = imdb.load_data(num_words=10000)"
   ]
  },
  {
   "cell_type": "markdown",
   "metadata": {},
   "source": [
    "#### Getting the maximum index from the tensor full of word indices (quick and short-cut way)"
   ]
  },
  {
   "cell_type": "code",
   "execution_count": 3,
   "metadata": {},
   "outputs": [
    {
     "data": {
      "text/plain": [
       "9999"
      ]
     },
     "execution_count": 3,
     "metadata": {},
     "output_type": "execute_result"
    }
   ],
   "source": [
    "max([max(sequence) for sequence in train_data])"
   ]
  },
  {
   "cell_type": "markdown",
   "metadata": {},
   "source": [
    "#### Getting the maximum index from the tensor full of word indices (long and \"explained\" version by me)"
   ]
  },
  {
   "cell_type": "code",
   "execution_count": 4,
   "metadata": {},
   "outputs": [
    {
     "name": "stdout",
     "output_type": "stream",
     "text": [
      "9999\n"
     ]
    }
   ],
   "source": [
    "arr = list()\n",
    "for sequence in train_data:\n",
    "    arr.append(max(sequence))\n",
    "\n",
    "print(max(arr))"
   ]
  },
  {
   "cell_type": "markdown",
   "metadata": {},
   "source": [
    "#### Decoding word indices to their words"
   ]
  },
  {
   "cell_type": "code",
   "execution_count": 5,
   "metadata": {},
   "outputs": [],
   "source": [
    "word_index = imdb.get_word_index()"
   ]
  },
  {
   "cell_type": "code",
   "execution_count": 6,
   "metadata": {},
   "outputs": [
    {
     "name": "stdout",
     "output_type": "stream",
     "text": [
      "? this film was just brilliant casting location scenery story direction everyone's really suited the part they played and you could just imagine being there robert ? is an amazing actor and now the same being director ? father came from the same scottish island as myself so i loved the fact there was a real connection with this film the witty remarks throughout the film were great it was just brilliant so much that i bought the film as soon as it was released for ? and would recommend it to everyone to watch and the fly fishing was amazing really cried at the end it was so sad and you know what they say if you cry at a film it must have been good and this definitely was also ? to the two little boy's that played the ? of norman and paul they were just brilliant children are often left out of the ? list i think because the stars that play them all grown up are such a big profile for the whole film but these children are amazing and should be praised for what they have done don't you think the whole story was so lovely because it was true and was someone's life after all that was shared with us all\n"
     ]
    }
   ],
   "source": [
    "reverse_word_index = dict([(value, key) for (key, value) in word_index.items()])\n",
    "decoded_review = ' '.join([reverse_word_index.get(i - 3, '?') for i in train_data[0]])\n",
    "\n",
    "print(decoded_review)"
   ]
  },
  {
   "cell_type": "markdown",
   "metadata": {},
   "source": [
    "### Listing 3.2 Encoding the Integer sequences into a binary matrix"
   ]
  },
  {
   "cell_type": "code",
   "execution_count": 7,
   "metadata": {},
   "outputs": [],
   "source": [
    "import numpy as np"
   ]
  },
  {
   "cell_type": "code",
   "execution_count": 8,
   "metadata": {},
   "outputs": [],
   "source": [
    "def vectorise_sequence(sequences, dimension=10000):\n",
    "    results = np.zeros((len(sequences), dimension))\n",
    "    for i, sequence in enumerate(sequences):\n",
    "        results[i, sequence] = 1\n",
    "    return results"
   ]
  },
  {
   "cell_type": "code",
   "execution_count": 9,
   "metadata": {},
   "outputs": [],
   "source": [
    "x_train = vectorise_sequence(train_data)\n",
    "x_test = vectorise_sequence(test_data)"
   ]
  },
  {
   "cell_type": "code",
   "execution_count": 10,
   "metadata": {},
   "outputs": [
    {
     "data": {
      "text/plain": [
       "(25000, 10000)"
      ]
     },
     "execution_count": 10,
     "metadata": {},
     "output_type": "execute_result"
    }
   ],
   "source": [
    "x_train.shape"
   ]
  },
  {
   "cell_type": "code",
   "execution_count": 11,
   "metadata": {},
   "outputs": [],
   "source": [
    "y_train = np.asarray(train_labels).astype('float32')\n",
    "y_test = np.asarray(test_labels).astype('float32')"
   ]
  },
  {
   "cell_type": "markdown",
   "metadata": {},
   "source": [
    "### Listing 3.3 The model definition"
   ]
  },
  {
   "cell_type": "code",
   "execution_count": 12,
   "metadata": {},
   "outputs": [],
   "source": [
    "from keras import models\n",
    "from keras import layers"
   ]
  },
  {
   "cell_type": "code",
   "execution_count": 13,
   "metadata": {},
   "outputs": [],
   "source": [
    "model = models.Sequential()"
   ]
  },
  {
   "cell_type": "code",
   "execution_count": 14,
   "metadata": {},
   "outputs": [],
   "source": [
    "model.add(layers.Dense(16, activation='relu', input_shape=(10000,)))"
   ]
  },
  {
   "cell_type": "code",
   "execution_count": 15,
   "metadata": {},
   "outputs": [],
   "source": [
    "model.add(layers.Dense(16, activation='relu'))\n",
    "model.add(layers.Dense(16, activation='relu'))\n",
    "model.add(layers.Dense(1, activation='sigmoid'))"
   ]
  },
  {
   "cell_type": "markdown",
   "metadata": {},
   "source": [
    "### Listing 3.4 Compiling the model"
   ]
  },
  {
   "cell_type": "code",
   "execution_count": 16,
   "metadata": {},
   "outputs": [],
   "source": [
    "model.compile(optimizer='rmsprop',\n",
    "             loss='binary_crossentropy',\n",
    "             metrics=['accuracy'])"
   ]
  },
  {
   "cell_type": "markdown",
   "metadata": {},
   "source": [
    "### Listing 3.7 Setting aside a validation set"
   ]
  },
  {
   "cell_type": "code",
   "execution_count": 17,
   "metadata": {},
   "outputs": [],
   "source": [
    "x_val = x_train[:10000]\n",
    "partial_x_train = x_train[10000:]"
   ]
  },
  {
   "cell_type": "code",
   "execution_count": 18,
   "metadata": {},
   "outputs": [],
   "source": [
    "y_val = y_train[:10000]\n",
    "partial_y_train = y_train[10000:]"
   ]
  },
  {
   "cell_type": "markdown",
   "metadata": {},
   "source": [
    "### Listing 3.8 Training the model"
   ]
  },
  {
   "cell_type": "code",
   "execution_count": 19,
   "metadata": {},
   "outputs": [
    {
     "name": "stdout",
     "output_type": "stream",
     "text": [
      "Train on 15000 samples, validate on 10000 samples\n",
      "Epoch 1/20\n",
      "15000/15000 [==============================] - 2s 149us/step - loss: 0.5322 - acc: 0.7807 - val_loss: 0.3844 - val_acc: 0.8716\n",
      "Epoch 2/20\n",
      "15000/15000 [==============================] - 2s 102us/step - loss: 0.2982 - acc: 0.9024 - val_loss: 0.3017 - val_acc: 0.8853\n",
      "Epoch 3/20\n",
      "15000/15000 [==============================] - 2s 102us/step - loss: 0.2117 - acc: 0.9293 - val_loss: 0.3385 - val_acc: 0.8603\n",
      "Epoch 4/20\n",
      "15000/15000 [==============================] - 2s 104us/step - loss: 0.1669 - acc: 0.9433 - val_loss: 0.2765 - val_acc: 0.8888\n",
      "Epoch 5/20\n",
      "15000/15000 [==============================] - 2s 103us/step - loss: 0.1321 - acc: 0.9569 - val_loss: 0.3124 - val_acc: 0.8807\n",
      "Epoch 6/20\n",
      "15000/15000 [==============================] - 1s 100us/step - loss: 0.1055 - acc: 0.9674 - val_loss: 0.3081 - val_acc: 0.8852\n",
      "Epoch 7/20\n",
      "15000/15000 [==============================] - 2s 100us/step - loss: 0.0836 - acc: 0.9768 - val_loss: 0.3435 - val_acc: 0.8793\n",
      "Epoch 8/20\n",
      "15000/15000 [==============================] - 2s 101us/step - loss: 0.0691 - acc: 0.9787 - val_loss: 0.3609 - val_acc: 0.8808\n",
      "Epoch 9/20\n",
      "15000/15000 [==============================] - 2s 102us/step - loss: 0.0515 - acc: 0.9859 - val_loss: 0.3928 - val_acc: 0.8761\n",
      "Epoch 10/20\n",
      "15000/15000 [==============================] - 2s 102us/step - loss: 0.0479 - acc: 0.9857 - val_loss: 0.4276 - val_acc: 0.8762\n",
      "Epoch 11/20\n",
      "15000/15000 [==============================] - 2s 100us/step - loss: 0.0317 - acc: 0.9923 - val_loss: 0.4515 - val_acc: 0.8749\n",
      "Epoch 12/20\n",
      "15000/15000 [==============================] - 2s 105us/step - loss: 0.0198 - acc: 0.9973 - val_loss: 0.4898 - val_acc: 0.8740\n",
      "Epoch 13/20\n",
      "15000/15000 [==============================] - 2s 102us/step - loss: 0.0208 - acc: 0.9963 - val_loss: 0.5259 - val_acc: 0.8717\n",
      "Epoch 14/20\n",
      "15000/15000 [==============================] - 2s 101us/step - loss: 0.0213 - acc: 0.9951 - val_loss: 0.5626 - val_acc: 0.8716\n",
      "Epoch 15/20\n",
      "15000/15000 [==============================] - 2s 102us/step - loss: 0.0072 - acc: 0.9995 - val_loss: 0.6016 - val_acc: 0.8678\n",
      "Epoch 16/20\n",
      "15000/15000 [==============================] - 2s 101us/step - loss: 0.0153 - acc: 0.9963 - val_loss: 0.6259 - val_acc: 0.8697\n",
      "Epoch 17/20\n",
      "15000/15000 [==============================] - 2s 103us/step - loss: 0.0041 - acc: 0.9998 - val_loss: 0.6608 - val_acc: 0.8684\n",
      "Epoch 18/20\n",
      "15000/15000 [==============================] - 2s 103us/step - loss: 0.0142 - acc: 0.9953 - val_loss: 0.7068 - val_acc: 0.8655\n",
      "Epoch 19/20\n",
      "15000/15000 [==============================] - 2s 102us/step - loss: 0.0019 - acc: 0.9998 - val_loss: 0.7297 - val_acc: 0.8655\n",
      "Epoch 20/20\n",
      "15000/15000 [==============================] - 2s 105us/step - loss: 0.0016 - acc: 0.9998 - val_loss: 0.7810 - val_acc: 0.8624\n"
     ]
    }
   ],
   "source": [
    "history = model.fit(partial_x_train,\n",
    "                   partial_y_train,\n",
    "                   epochs=20,\n",
    "                   batch_size=512,\n",
    "                   validation_data=(x_val, y_val))"
   ]
  },
  {
   "cell_type": "markdown",
   "metadata": {},
   "source": [
    "#### Viewing the history object stored in the previous step"
   ]
  },
  {
   "cell_type": "code",
   "execution_count": 20,
   "metadata": {},
   "outputs": [
    {
     "data": {
      "text/plain": [
       "dict_keys(['val_loss', 'val_acc', 'loss', 'acc'])"
      ]
     },
     "execution_count": 20,
     "metadata": {},
     "output_type": "execute_result"
    }
   ],
   "source": [
    "history_dict = history.history\n",
    "history_dict.keys()"
   ]
  },
  {
   "cell_type": "markdown",
   "metadata": {},
   "source": [
    "### Listing 3.9 Plotting the training and validation loss"
   ]
  },
  {
   "cell_type": "code",
   "execution_count": 21,
   "metadata": {},
   "outputs": [],
   "source": [
    "import matplotlib.pyplot as plt\n",
    "\n",
    "acc = history_dict['acc']\n",
    "val_acc_values = history_dict['val_acc']\n",
    "loss_values = history_dict['loss']\n",
    "val_loss_values = history_dict['val_loss']\n",
    "\n",
    "epochs = range(1, len(acc) + 1)"
   ]
  },
  {
   "cell_type": "code",
   "execution_count": 22,
   "metadata": {},
   "outputs": [
    {
     "data": {
      "image/png": "[encoded data removed]",
      "text/plain": [
       "<Figure size 432x288 with 1 Axes>"
      ]
     },
     "metadata": {
      "needs_background": "light"
     },
     "output_type": "display_data"
    }
   ],
   "source": [
    "plt.plot(epochs, loss_values, 'bo', label='Training loss')  # 'bo' means blue dot\n",
    "plt.plot(epochs, val_loss_values, 'b', label='Validation loss')  # 'b' means solid blue line\n",
    "plt.title('Training and validation loss')\n",
    "plt.xlabel('Epochs')\n",
    "plt.ylabel('Loss')\n",
    "plt.legend()\n",
    "plt.show()"
   ]
  },
  {
   "cell_type": "markdown",
   "metadata": {},
   "source": [
    "### Listing 3.10 Plotting the training and validation accuracy"
   ]
  },
  {
   "cell_type": "code",
   "execution_count": 23,
   "metadata": {},
   "outputs": [
    {
     "data": {
      "image/png": "[encoded data removed]",
      "text/plain": [
       "<Figure size 432x288 with 1 Axes>"
      ]
     },
     "metadata": {
      "needs_background": "light"
     },
     "output_type": "display_data"
    }
   ],
   "source": [
    "plt.clf() # Clears the figure\n",
    "plt.plot(epochs, acc, 'bo', label='Training acc')\n",
    "plt.plot(epochs, val_acc_values, 'b', label='Vaidation acc')\n",
    "plt.title('Training and validaiton accuracy')\n",
    "plt.xlabel('Epochs')\n",
    "plt.ylabel('Loss')\n",
    "plt.legend()\n",
    "plt.show()"
   ]
  },
  {
   "cell_type": "markdown",
   "metadata": {},
   "source": [
    "### Listing 3.11 Retaining a model from scratch"
   ]
  },
  {
   "cell_type": "code",
   "execution_count": 24,
   "metadata": {},
   "outputs": [
    {
     "name": "stdout",
     "output_type": "stream",
     "text": [
      "Epoch 1/4\n",
      "25000/25000 [==============================] - 2s 87us/step - loss: 0.4737 - acc: 0.8205\n",
      "Epoch 2/4\n",
      "25000/25000 [==============================] - 2s 72us/step - loss: 0.2638 - acc: 0.9109\n",
      "Epoch 3/4\n",
      "25000/25000 [==============================] - 2s 68us/step - loss: 0.1996 - acc: 0.9302: 0s - loss: 0.2050 - ac\n",
      "Epoch 4/4\n",
      "25000/25000 [==============================] - 2s 68us/step - loss: 0.1684 - acc: 0.9401\n",
      "25000/25000 [==============================] - 2s 93us/step\n"
     ]
    }
   ],
   "source": [
    "model = models.Sequential()\n",
    "model.add(layers.Dense(16, activation='relu', input_shape=(10000,)))\n",
    "model.add(layers.Dense(16, activation='relu'))\n",
    "model.add(layers.Dense(1, activation='sigmoid'))\n",
    "\n",
    "model.compile(optimizer='rmsprop',\n",
    "             loss='binary_crossentropy',\n",
    "             metrics=['accuracy'])\n",
    "\n",
    "model.fit(x_train, y_train, epochs=4, batch_size=512)\n",
    "results = model.evaluate(x_test, y_test)"
   ]
  },
  {
   "cell_type": "code",
   "execution_count": 25,
   "metadata": {},
   "outputs": [
    {
     "data": {
      "text/plain": [
       "[0.32728395826339723, 0.87148]"
      ]
     },
     "execution_count": 25,
     "metadata": {},
     "output_type": "execute_result"
    }
   ],
   "source": [
    "results"
   ]
  },
  {
   "cell_type": "code",
   "execution_count": 26,
   "metadata": {
    "scrolled": true
   },
   "outputs": [
    {
     "data": {
      "text/plain": [
       "array([[0.13374543],\n",
       "       [0.9997321 ],\n",
       "       [0.256376  ],\n",
       "       ...,\n",
       "       [0.07160401],\n",
       "       [0.04685416],\n",
       "       [0.4704495 ]], dtype=float32)"
      ]
     },
     "execution_count": 26,
     "metadata": {},
     "output_type": "execute_result"
    }
   ],
   "source": [
    "model.predict(x_test)"
   ]
  },
  {
   "cell_type": "code",
   "execution_count": null,
   "metadata": {},
   "outputs": [],
   "source": []
  }
 ],
 "metadata": {
  "kernelspec": {
   "display_name": "Python 3",
   "language": "python",
   "name": "python3"
  },
  "language_info": {
   "codemirror_mode": {
    "name": "ipython",
    "version": 3
   },
   "file_extension": ".py",
   "mimetype": "text/x-python",
   "name": "python",
   "nbconvert_exporter": "python",
   "pygments_lexer": "ipython3",
   "version": "3.6.6"
  }
 },
 "nbformat": 4,
 "nbformat_minor": 2
}
