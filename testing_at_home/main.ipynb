{
 "cells": [
  {
   "cell_type": "markdown",
   "metadata": {},
   "source": [
    "## main.py"
   ]
  },
  {
   "cell_type": "markdown",
   "metadata": {},
   "source": [
    "1. import all necessary modules"
   ]
  },
  {
   "cell_type": "code",
   "execution_count": 1,
   "metadata": {},
   "outputs": [
    {
     "name": "stderr",
     "output_type": "stream",
     "text": [
      "Using TensorFlow backend.\n"
     ]
    }
   ],
   "source": [
    "import os, sys\n",
    "import numpy as np\n",
    "import pandas as pd\n",
    "import matplotlib.pyplot as plt\n",
    "from PIL import Image\n",
    "from keras import models\n",
    "from keras import layers\n",
    "from keras.utils import to_categorical\n",
    "from keras.preprocessing import image\n",
    "from imblearn.over_sampling import SMOTE\n",
    "\n",
    "sys.path.insert(0, os.path.abspath('./utils/'))\n",
    "import util as utils"
   ]
  },
  {
   "cell_type": "code",
   "execution_count": 2,
   "metadata": {},
   "outputs": [],
   "source": [
    "def get_model():\n",
    "    model = models.Sequential()\n",
    "    \n",
    "    model.add(layers.Conv2D(32, (3, 3), activation='relu', input_shape=(128, 128, 1)))\n",
    "    model.add(layers.MaxPool2D((2, 2)))\n",
    "    \n",
    "    model.add(layers.Conv2D(64, (3, 3), activation='relu'))\n",
    "    model.add(layers.MaxPool2D((2, 2)))\n",
    "    \n",
    "    model.add(layers.Conv2D(64, (3, 3), activation='relu'))\n",
    "    model.add(layers.MaxPool2D((2, 2)))\n",
    "    \n",
    "    model.add(layers.Conv2D(64, (3, 3), activation='relu'))\n",
    "    model.add(layers.MaxPool2D((2, 2)))\n",
    "    \n",
    "    model.add(layers.Conv2D(64, (3, 3), activation='relu'))\n",
    "    model.add(layers.MaxPool2D((2, 2)))\n",
    "    \n",
    "    model.add(layers.Flatten())\n",
    "    \n",
    "    model.add(layers.Dense(64, activation='relu'))\n",
    "    model.add(layers.Dense(9, activation='softmax'))\n",
    "    \n",
    "    model.compile(optimizer='rmsprop',\n",
    "                  loss='categorical_crossentropy', \n",
    "                  metrics=['acc'])\n",
    "    \n",
    "    return model"
   ]
  },
  {
   "cell_type": "code",
   "execution_count": 3,
   "metadata": {},
   "outputs": [],
   "source": [
    "dataset_dir = os.path.abspath('./dataset/')\n",
    "\n",
    "train_dir = os.path.join(dataset_dir, 'train')\n",
    "validation_dir = os.path.join(dataset_dir, 'validation')\n",
    "test_dir = os.path.join(dataset_dir, 'test')"
   ]
  },
  {
   "cell_type": "code",
   "execution_count": 4,
   "metadata": {},
   "outputs": [],
   "source": [
    "train_files = [ os.path.splitext(file)[0] for file in os.listdir(train_dir) ]\n",
    "validation_files = [ os.path.splitext(file)[0] for file in os.listdir(validation_dir) ]\n",
    "test_files = [ os.path.splitext(file)[0] for file in os.listdir(test_dir) ]"
   ]
  },
  {
   "cell_type": "code",
   "execution_count": 5,
   "metadata": {},
   "outputs": [],
   "source": [
    "data_labels = { filename: label for filename, label in pd.read_csv('./trainLabels.csv').get_values() }"
   ]
  },
  {
   "cell_type": "code",
   "execution_count": 6,
   "metadata": {},
   "outputs": [],
   "source": [
    "train_labels = [ data_labels.get(filename, filename) for filename in train_files ]\n",
    "validation_labels = [ data_labels.get(filename, filename) for filename in validation_files ]\n",
    "test_labels = [ data_labels.get(filename, filename) for filename in test_files ]"
   ]
  },
  {
   "cell_type": "code",
   "execution_count": 7,
   "metadata": {},
   "outputs": [],
   "source": [
    "train_set = [ utils.load_image_as_np(os.path.join(train_dir, (filename+'.png'))) for filename in train_files ]\n",
    "validation_set = [ utils.load_image_as_np(os.path.join(validation_dir, (filename+'.png'))) for filename in validation_files ]\n",
    "test_set = [ utils.load_image_as_np(os.path.join(test_dir, (filename+'.png'))) for filename in test_files ]"
   ]
  },
  {
   "cell_type": "code",
   "execution_count": 8,
   "metadata": {},
   "outputs": [],
   "source": [
    "train_set = np.asarray(train_set)\n",
    "validation_set = np.asarray(validation_set)\n",
    "test_set = np.asarray(test_set)"
   ]
  },
  {
   "cell_type": "code",
   "execution_count": 9,
   "metadata": {},
   "outputs": [],
   "source": [
    "train_set = train_set.astype('float32') / 255\n",
    "validation_set = validation_set.astype('float32') / 255\n",
    "test_set = test_set.astype('float32') / 255"
   ]
  },
  {
   "cell_type": "code",
   "execution_count": 10,
   "metadata": {},
   "outputs": [
    {
     "name": "stdout",
     "output_type": "stream",
     "text": [
      "train_set.shape:        (4352, 128, 128, 1)\n",
      "validation_set.shape:   (3258, 128, 128, 1)\n",
      "test_set.shape:         (3258, 128, 128, 1)\n"
     ]
    }
   ],
   "source": [
    "print('train_set.shape:       ', train_set.shape)\n",
    "print('validation_set.shape:  ', validation_set.shape)\n",
    "print('test_set.shape:        ', test_set.shape)"
   ]
  },
  {
   "cell_type": "code",
   "execution_count": 11,
   "metadata": {},
   "outputs": [],
   "source": [
    "train_labels = to_categorical(train_labels)\n",
    "validation_labels = to_categorical(validation_labels)\n",
    "test_labels = to_categorical(test_labels)"
   ]
  },
  {
   "cell_type": "code",
   "execution_count": 12,
   "metadata": {},
   "outputs": [],
   "source": [
    "train_labels = np.delete(train_labels, 0, 1)\n",
    "validation_labels = np.delete(validation_labels, 0, 1)\n",
    "test_labels = np.delete(test_labels, 0, 1)"
   ]
  },
  {
   "cell_type": "code",
   "execution_count": 13,
   "metadata": {},
   "outputs": [],
   "source": [
    "model = get_model()"
   ]
  },
  {
   "cell_type": "code",
   "execution_count": 14,
   "metadata": {},
   "outputs": [
    {
     "name": "stdout",
     "output_type": "stream",
     "text": [
      "Train on 4352 samples, validate on 3258 samples\n",
      "Epoch 1/10\n",
      "4352/4352 [==============================] - 56s 13ms/step - loss: 1.1151 - acc: 0.6170 - val_loss: 0.6797 - val_acc: 0.7612\n",
      "Epoch 2/10\n",
      "4352/4352 [==============================] - 47s 11ms/step - loss: 0.6254 - acc: 0.7838 - val_loss: 0.5125 - val_acc: 0.8103\n",
      "Epoch 3/10\n",
      "4352/4352 [==============================] - 47s 11ms/step - loss: 0.4732 - acc: 0.8454 - val_loss: 0.3885 - val_acc: 0.8981\n",
      "Epoch 4/10\n",
      "4352/4352 [==============================] - 47s 11ms/step - loss: 0.3703 - acc: 0.8863 - val_loss: 0.4638 - val_acc: 0.8591\n",
      "Epoch 5/10\n",
      "4352/4352 [==============================] - 48s 11ms/step - loss: 0.3067 - acc: 0.9131 - val_loss: 0.3008 - val_acc: 0.9214\n",
      "Epoch 6/10\n",
      "4352/4352 [==============================] - 47s 11ms/step - loss: 0.2493 - acc: 0.9290 - val_loss: 0.3304 - val_acc: 0.9131\n",
      "Epoch 7/10\n",
      "4352/4352 [==============================] - 47s 11ms/step - loss: 0.2155 - acc: 0.9416 - val_loss: 0.2409 - val_acc: 0.9395\n",
      "Epoch 8/10\n",
      "4352/4352 [==============================] - 48s 11ms/step - loss: 0.1826 - acc: 0.9494 - val_loss: 0.2286 - val_acc: 0.9457\n",
      "Epoch 9/10\n",
      "4352/4352 [==============================] - 49s 11ms/step - loss: 0.1547 - acc: 0.9566 - val_loss: 0.2973 - val_acc: 0.9291\n",
      "Epoch 10/10\n",
      "4352/4352 [==============================] - 52s 12ms/step - loss: 0.1504 - acc: 0.9566 - val_loss: 0.2569 - val_acc: 0.9346\n"
     ]
    }
   ],
   "source": [
    "history = model.fit(train_set, train_labels, batch_size=64, epochs=10, validation_data=(validation_set, validation_labels))"
   ]
  },
  {
   "cell_type": "code",
   "execution_count": 19,
   "metadata": {},
   "outputs": [],
   "source": [
    "metrics = pd.Series(history.history)"
   ]
  },
  {
   "cell_type": "code",
   "execution_count": 22,
   "metadata": {},
   "outputs": [],
   "source": [
    "epochs = range(1, len(metrics.acc) + 1)"
   ]
  },
  {
   "cell_type": "code",
   "execution_count": 23,
   "metadata": {},
   "outputs": [
    {
     "data": {
      "text/plain": [
       "<Figure size 432x288 with 0 Axes>"
      ]
     },
     "execution_count": 23,
     "metadata": {},
     "output_type": "execute_result"
    },
    {
     "data": {
      "image/png": "[encoded data removed]",
      "text/plain": [
       "<Figure size 432x288 with 1 Axes>"
      ]
     },
     "metadata": {
      "needs_background": "light"
     },
     "output_type": "display_data"
    },
    {
     "data": {
      "text/plain": [
       "<Figure size 432x288 with 0 Axes>"
      ]
     },
     "metadata": {},
     "output_type": "display_data"
    }
   ],
   "source": [
    "plt.plot(epochs, metrics.acc, 'bo', label='Training acc')\n",
    "plt.plot(epochs, metrics.val_acc, 'b', label='Training val_acc')\n",
    "plt.title('Training and validation accuracy')\n",
    "plt.legend()\n",
    "\n",
    "plt.figure()"
   ]
  },
  {
   "cell_type": "code",
   "execution_count": 24,
   "metadata": {},
   "outputs": [
    {
     "data": {
      "image/png": "[encoded data removed]",
      "text/plain": [
       "<Figure size 432x288 with 1 Axes>"
      ]
     },
     "metadata": {
      "needs_background": "light"
     },
     "output_type": "display_data"
    }
   ],
   "source": [
    "plt.plot(epochs, metrics.loss, 'bo', label='Training loss')\n",
    "plt.plot(epochs, metrics.val_loss, 'b', label='Validation loss')\n",
    "plt.title('Training and validation loss')\n",
    "plt.legend()\n",
    "\n",
    "plt.show()"
   ]
  },
  {
   "cell_type": "code",
   "execution_count": 25,
   "metadata": {},
   "outputs": [],
   "source": [
    "sm = SMOTE()"
   ]
  },
  {
   "cell_type": "code",
   "execution_count": 26,
   "metadata": {},
   "outputs": [],
   "source": [
    "train_set_res, train_labels_res = sm.fit_resample(train_set.reshape(train_set.shape[0], (128 * 128 * 1)), train_labels)"
   ]
  },
  {
   "cell_type": "code",
   "execution_count": 27,
   "metadata": {},
   "outputs": [],
   "source": [
    "train_set_res = train_set_res.reshape((train_set_res.shape[0], 128, 128, 1))"
   ]
  },
  {
   "cell_type": "code",
   "execution_count": 28,
   "metadata": {},
   "outputs": [
    {
     "name": "stdout",
     "output_type": "stream",
     "text": [
      "train_set_res.shape:      (11088, 128, 128, 1)\n",
      "train_labels_res.shape:   (11088, 9)\n"
     ]
    }
   ],
   "source": [
    "print('train_set_res.shape:     ', train_set_res.shape)\n",
    "print('train_labels_res.shape:  ', train_labels_res.shape)"
   ]
  },
  {
   "cell_type": "code",
   "execution_count": 29,
   "metadata": {},
   "outputs": [],
   "source": [
    "model2 = get_model()"
   ]
  },
  {
   "cell_type": "code",
   "execution_count": 30,
   "metadata": {},
   "outputs": [
    {
     "name": "stdout",
     "output_type": "stream",
     "text": [
      "Train on 11088 samples, validate on 3258 samples\n",
      "Epoch 1/10\n",
      "11088/11088 [==============================] - 107s 10ms/step - loss: 12.5750 - acc: 0.1580 - val_loss: 14.2678 - val_acc: 0.1148\n",
      "Epoch 2/10\n",
      "11088/11088 [==============================] - 106s 10ms/step - loss: 14.3272 - acc: 0.1111 - val_loss: 14.2678 - val_acc: 0.1148\n",
      "Epoch 3/10\n",
      "11088/11088 [==============================] - 110s 10ms/step - loss: 14.3272 - acc: 0.1111 - val_loss: 14.2678 - val_acc: 0.1148\n",
      "Epoch 4/10\n",
      "11088/11088 [==============================] - 107s 10ms/step - loss: 14.3272 - acc: 0.1111 - val_loss: 14.2678 - val_acc: 0.1148\n",
      "Epoch 5/10\n",
      "11088/11088 [==============================] - 108s 10ms/step - loss: 14.3272 - acc: 0.1111 - val_loss: 14.2678 - val_acc: 0.1148\n",
      "Epoch 6/10\n",
      "11088/11088 [==============================] - 107s 10ms/step - loss: 14.3272 - acc: 0.1111 - val_loss: 14.2678 - val_acc: 0.1148\n",
      "Epoch 7/10\n",
      "11088/11088 [==============================] - 108s 10ms/step - loss: 14.3272 - acc: 0.1111 - val_loss: 14.2678 - val_acc: 0.1148\n",
      "Epoch 8/10\n",
      "11088/11088 [==============================] - 109s 10ms/step - loss: 14.3272 - acc: 0.1111 - val_loss: 14.2678 - val_acc: 0.1148\n",
      "Epoch 9/10\n",
      "11088/11088 [==============================] - 108s 10ms/step - loss: 14.3272 - acc: 0.1111 - val_loss: 14.2678 - val_acc: 0.1148\n",
      "Epoch 10/10\n",
      "11088/11088 [==============================] - 107s 10ms/step - loss: 14.3272 - acc: 0.1111 - val_loss: 14.2678 - val_acc: 0.1148\n"
     ]
    }
   ],
   "source": [
    "history2 = model2.fit(train_set_res, train_labels_res, batch_size=64, epochs=10, validation_data=(validation_set, validation_labels))"
   ]
  },
  {
   "cell_type": "code",
   "execution_count": 23,
   "metadata": {},
   "outputs": [
    {
     "data": {
      "text/plain": [
       "(3258, 9)"
      ]
     },
     "execution_count": 23,
     "metadata": {},
     "output_type": "execute_result"
    }
   ],
   "source": [
    "validation_labels.shape"
   ]
  },
  {
   "cell_type": "code",
   "execution_count": 24,
   "metadata": {},
   "outputs": [
    {
     "data": {
      "text/plain": [
       "(4352, 9)"
      ]
     },
     "execution_count": 24,
     "metadata": {},
     "output_type": "execute_result"
    }
   ],
   "source": [
    "train_labels.shape"
   ]
  },
  {
   "cell_type": "code",
   "execution_count": null,
   "metadata": {},
   "outputs": [],
   "source": []
  }
 ],
 "metadata": {
  "kernelspec": {
   "display_name": "Python 3",
   "language": "python",
   "name": "python3"
  },
  "language_info": {
   "codemirror_mode": {
    "name": "ipython",
    "version": 3
   },
   "file_extension": ".py",
   "mimetype": "text/x-python",
   "name": "python",
   "nbconvert_exporter": "python",
   "pygments_lexer": "ipython3",
   "version": "3.6.6"
  }
 },
 "nbformat": 4,
 "nbformat_minor": 2
}
