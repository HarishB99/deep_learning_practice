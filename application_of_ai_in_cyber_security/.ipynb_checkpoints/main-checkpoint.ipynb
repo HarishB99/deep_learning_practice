{
 "cells": [
  {
   "cell_type": "markdown",
   "metadata": {},
   "source": [
    "## Main.py"
   ]
  },
  {
   "cell_type": "markdown",
   "metadata": {},
   "source": [
    "1. Import pandas and os\n",
    "    \n",
    "    The 'pandas' module is used to read in .csv files\n",
    "    The 'os' module is used to access files"
   ]
  },
  {
   "cell_type": "code",
   "execution_count": 1,
   "metadata": {},
   "outputs": [],
   "source": [
    "import pandas as pd\n",
    "import os\n",
    "from random import shuffle\n",
    "import convert_bytes_to_image as byte2img"
   ]
  },
  {
   "cell_type": "markdown",
   "metadata": {},
   "source": [
    "2. Store the absolute path of the file, 'trainLabels.csv', which contains the malware file labels, and is stored in the same directory as this interactive python notebook file"
   ]
  },
  {
   "cell_type": "code",
   "execution_count": 2,
   "metadata": {},
   "outputs": [],
   "source": [
    "train_labels_file = os.path.abspath('./trainLabels.csv')"
   ]
  },
  {
   "cell_type": "markdown",
   "metadata": {},
   "source": [
    "3. Read in the malware file labels, which is stored in the file 'trainLabels.csv'\n",
    "    \n",
    "    The second last line in this cell stores all the file names (that appears in the first column in the .csv file)\n",
    "    The last line stores all the labels (that appears in the second column in the .csv file)"
   ]
  },
  {
   "cell_type": "code",
   "execution_count": 3,
   "metadata": {},
   "outputs": [],
   "source": [
    "train_label_data = pd.read_csv(train_labels_file)\n",
    "filenames = train_label_data.iloc[:, 0].values\n",
    "filelabels = train_label_data.iloc[:, 1:].values"
   ]
  },
  {
   "cell_type": "code",
   "execution_count": 4,
   "metadata": {},
   "outputs": [],
   "source": [
    "ramnit_train_set = []\n",
    "lollipop_train_set = []\n",
    "kelihos_ver3_set = []\n",
    "vundo_set = []\n",
    "simda_set = []\n",
    "tracur_set = []\n",
    "kelihos_ver1_set = []\n",
    "obfuscator_acy_set = []\n",
    "gatak_set = []\n",
    "for value, label in train_label_data.get_values():\n",
    "    if label == 1:\n",
    "        ramnit_train_set.append(value)\n",
    "    elif label == 2:\n",
    "        lollipop_train_set.append(value)\n",
    "    elif label == 3:\n",
    "        kelihos_ver3_set.append(value)\n",
    "    elif label == 4:\n",
    "        vundo_set.append(value)\n",
    "    elif label == 5:\n",
    "        simda_set.append(value)\n",
    "    elif label == 6:\n",
    "        tracur_set.append(value)\n",
    "    elif label == 7:\n",
    "        kelihos_ver1_set.append(value)\n",
    "    elif label == 8:\n",
    "        obfuscator_acy_set.append(value)\n",
    "    elif label == 9:\n",
    "        gatak_set.append(value)\n",
    "    else:\n",
    "        print('Does not belong to any class: ', dict_value)"
   ]
  },
  {
   "cell_type": "code",
   "execution_count": 5,
   "metadata": {},
   "outputs": [
    {
     "name": "stdout",
     "output_type": "stream",
     "text": [
      "ramnit_train_set:  1541\n",
      "lollipop_train_set:  2478\n",
      "kelihos_ver3_set:  2942\n",
      "vundo_set:  475\n",
      "simda_set:  42\n",
      "tracur_set:  751\n",
      "kelihos_ver1_set:  398\n",
      "obfuscator_acy_set:  1228\n",
      "gatak_set:  1013\n",
      "Total:  10868\n"
     ]
    }
   ],
   "source": [
    "print('ramnit_train_set: ', len(ramnit_train_set))\n",
    "print('lollipop_train_set: ', len(lollipop_train_set))\n",
    "print('kelihos_ver3_set: ', len(kelihos_ver3_set))\n",
    "print('vundo_set: ', len(vundo_set))\n",
    "print('simda_set: ', len(simda_set))\n",
    "print('tracur_set: ', len(tracur_set))\n",
    "print('kelihos_ver1_set: ', len(kelihos_ver1_set))\n",
    "print('obfuscator_acy_set: ', len(obfuscator_acy_set))\n",
    "print('gatak_set: ', len(gatak_set))\n",
    "\n",
    "print('Total: ', str(len(ramnit_train_set) + len(lollipop_train_set)\n",
    "                 + len(kelihos_ver3_set) + len(vundo_set) + len(simda_set)\n",
    "                 + len(tracur_set) + len(kelihos_ver1_set)\n",
    "                 + len(obfuscator_acy_set) + len(gatak_set)))"
   ]
  },
  {
   "cell_type": "code",
   "execution_count": 6,
   "metadata": {},
   "outputs": [],
   "source": [
    "ramnit_train_shuffled = shuffle(ramnit_train_set[:])\n",
    "lollipop_train_shuffled = shuffle(lollipop_train_set[:])\n",
    "kelihos_ver3_shuffled = shuffle(kelihos_ver3_set[:])\n",
    "vundo_shuffled = shuffle(vundo_set[:])\n",
    "simda_shuffled = shuffle(simda_set[:])\n",
    "tracur_shuffled = shuffle(tracur_set[:])\n",
    "kelihos_ver1_shuffled = shuffle(kelihos_ver1_set[:])\n",
    "obfuscator_acy_shuffled = shuffle(obfuscator_acy_set[:])\n",
    "gatak_shuffled = shuffle(gatak_set[:])"
   ]
  },
  {
   "cell_type": "code",
   "execution_count": null,
   "metadata": {},
   "outputs": [],
   "source": []
  }
 ],
 "metadata": {
  "kernelspec": {
   "display_name": "Python 3",
   "language": "python",
   "name": "python3"
  },
  "language_info": {
   "codemirror_mode": {
    "name": "ipython",
    "version": 3
   },
   "file_extension": ".py",
   "mimetype": "text/x-python",
   "name": "python",
   "nbconvert_exporter": "python",
   "pygments_lexer": "ipython3",
   "version": "3.6.6"
  }
 },
 "nbformat": 4,
 "nbformat_minor": 2
}
