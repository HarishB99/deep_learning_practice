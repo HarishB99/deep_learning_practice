{
 "cells": [
  {
   "cell_type": "markdown",
   "metadata": {},
   "source": [
    "## main.py"
   ]
  },
  {
   "cell_type": "markdown",
   "metadata": {},
   "source": [
    "1. import all necessary modules"
   ]
  },
  {
   "cell_type": "code",
   "execution_count": 1,
   "metadata": {
    "scrolled": true
   },
   "outputs": [
    {
     "name": "stderr",
     "output_type": "stream",
     "text": [
      "/opt/anaconda3/lib/python3.6/site-packages/h5py/__init__.py:34: FutureWarning: Conversion of the second argument of issubdtype from `float` to `np.floating` is deprecated. In future, it will be treated as `np.float64 == np.dtype(float).type`.\n",
      "  from ._conv import register_converters as _register_converters\n",
      "Using TensorFlow backend.\n",
      "/opt/anaconda3/lib/python3.6/importlib/_bootstrap.py:219: RuntimeWarning: compiletime version 3.5 of module 'tensorflow.python.framework.fast_tensor_util' does not match runtime version 3.6\n",
      "  return f(*args, **kwds)\n"
     ]
    }
   ],
   "source": [
    "import os, sys\n",
    "import numpy as np\n",
    "import pandas as pd\n",
    "import matplotlib.pyplot as plt\n",
    "from PIL import Image\n",
    "from keras import models\n",
    "from keras import layers\n",
    "from keras.utils import to_categorical\n",
    "from keras.preprocessing import image\n",
    "# from imblearn.over_sampling import SMOTE\n",
    "\n",
    "sys.path.insert(0, os.path.abspath('./utils/'))\n",
    "import util as utils"
   ]
  },
  {
   "cell_type": "code",
   "execution_count": 2,
   "metadata": {
    "collapsed": true
   },
   "outputs": [],
   "source": [
    "def get_model():\n",
    "    model = models.Sequential()\n",
    "    \n",
    "    model.add(layers.Conv2D(32, (3, 3), activation='relu', input_shape=(128, 128, 1)))\n",
    "    model.add(layers.MaxPool2D((2, 2)))\n",
    "    \n",
    "    model.add(layers.Conv2D(64, (3, 3), activation='relu'))\n",
    "    model.add(layers.MaxPool2D((2, 2)))\n",
    "    \n",
    "    model.add(layers.Conv2D(64, (3, 3), activation='relu'))\n",
    "    model.add(layers.MaxPool2D((2, 2)))\n",
    "    \n",
    "    model.add(layers.Conv2D(64, (3, 3), activation='relu'))\n",
    "    model.add(layers.MaxPool2D((2, 2)))\n",
    "    \n",
    "    model.add(layers.Conv2D(64, (3, 3), activation='relu'))\n",
    "    model.add(layers.MaxPool2D((2, 2)))\n",
    "    \n",
    "    model.add(layers.Flatten())\n",
    "    \n",
    "    model.add(layers.Dense(64, activation='relu'))\n",
    "    model.add(layers.Dense(9, activation='softmax'))\n",
    "    \n",
    "    model.compile(optimizer='rmsprop',\n",
    "                  loss='categorical_crossentropy', \n",
    "                  metrics=['acc'])\n",
    "    \n",
    "    return model"
   ]
  },
  {
   "cell_type": "code",
   "execution_count": 3,
   "metadata": {
    "collapsed": true
   },
   "outputs": [],
   "source": [
    "dataset_dir = os.path.abspath('./dataset/')\n",
    "\n",
    "train_dir = os.path.join(dataset_dir, 'train')\n",
    "validation_dir = os.path.join(dataset_dir, 'validation')\n",
    "test_dir = os.path.join(dataset_dir, 'test')"
   ]
  },
  {
   "cell_type": "code",
   "execution_count": 4,
   "metadata": {
    "collapsed": true
   },
   "outputs": [],
   "source": [
    "train_files = [ os.path.splitext(file)[0] for file in os.listdir(train_dir) ]\n",
    "validation_files = [ os.path.splitext(file)[0] for file in os.listdir(validation_dir) ]\n",
    "test_files = [ os.path.splitext(file)[0] for file in os.listdir(test_dir) ]"
   ]
  },
  {
   "cell_type": "code",
   "execution_count": 5,
   "metadata": {
    "collapsed": true
   },
   "outputs": [],
   "source": [
    "data_labels = { filename: label for filename, label in pd.read_csv('./trainLabels.csv').get_values() }"
   ]
  },
  {
   "cell_type": "code",
   "execution_count": 6,
   "metadata": {
    "collapsed": true
   },
   "outputs": [],
   "source": [
    "train_labels = [ data_labels.get(filename, filename) for filename in train_files ]\n",
    "validation_labels = [ data_labels.get(filename, filename) for filename in validation_files ]\n",
    "test_labels = [ data_labels.get(filename, filename) for filename in test_files ]"
   ]
  },
  {
   "cell_type": "code",
   "execution_count": 7,
   "metadata": {
    "collapsed": true
   },
   "outputs": [],
   "source": [
    "def load_image_as_np(filename):\n",
    "    try:\n",
    "        img = image.load_img(filename, grayscale=True)\n",
    "        return np.atleast_3d(img)\n",
    "    except Exception as error:\n",
    "        logging.error(traceback.format_exc())"
   ]
  },
  {
   "cell_type": "code",
   "execution_count": 8,
   "metadata": {},
   "outputs": [],
   "source": [
    "train_set = [ load_image_as_np(os.path.join(train_dir, (filename+'.png'))) for filename in train_files ]\n",
    "validation_set = [ load_image_as_np(os.path.join(validation_dir, (filename+'.png'))) for filename in validation_files ]\n",
    "test_set = [ load_image_as_np(os.path.join(test_dir, (filename+'.png'))) for filename in test_files ]"
   ]
  },
  {
   "cell_type": "code",
   "execution_count": 9,
   "metadata": {
    "collapsed": true
   },
   "outputs": [],
   "source": [
    "train_set = np.asarray(train_set)\n",
    "validation_set = np.asarray(validation_set)\n",
    "test_set = np.asarray(test_set)"
   ]
  },
  {
   "cell_type": "code",
   "execution_count": 10,
   "metadata": {
    "collapsed": true
   },
   "outputs": [],
   "source": [
    "train_set = train_set.astype('float32') / 255\n",
    "validation_set = validation_set.astype('float32') / 255\n",
    "test_set = test_set.astype('float32') / 255"
   ]
  },
  {
   "cell_type": "code",
   "execution_count": 11,
   "metadata": {},
   "outputs": [
    {
     "name": "stdout",
     "output_type": "stream",
     "text": [
      "train_set.shape:        (4352, 128, 128, 1)\n",
      "validation_set.shape:   (3258, 128, 128, 1)\n",
      "test_set.shape:         (3258, 128, 128, 1)\n"
     ]
    }
   ],
   "source": [
    "print('train_set.shape:       ', train_set.shape)\n",
    "print('validation_set.shape:  ', validation_set.shape)\n",
    "print('test_set.shape:        ', test_set.shape)"
   ]
  },
  {
   "cell_type": "code",
   "execution_count": 12,
   "metadata": {
    "collapsed": true
   },
   "outputs": [],
   "source": [
    "train_labels = to_categorical(train_labels)\n",
    "validation_labels = to_categorical(validation_labels)\n",
    "test_labels = to_categorical(test_labels)"
   ]
  },
  {
   "cell_type": "code",
   "execution_count": 13,
   "metadata": {},
   "outputs": [
    {
     "data": {
      "text/plain": [
       "(4352, 10)"
      ]
     },
     "execution_count": 13,
     "metadata": {},
     "output_type": "execute_result"
    }
   ],
   "source": [
    "train_labels.shape"
   ]
  },
  {
   "cell_type": "code",
   "execution_count": 14,
   "metadata": {
    "collapsed": true
   },
   "outputs": [],
   "source": [
    "model = get_model()"
   ]
  },
  {
   "cell_type": "code",
   "execution_count": 15,
   "metadata": {
    "collapsed": true
   },
   "outputs": [],
   "source": [
    "train_labels = np.delete(train_labels, 0, 1)\n",
    "validation_labels = np.delete(validation_labels, 0, 1)\n",
    "test_labels = np.delete(test_labels, 0, 1)"
   ]
  },
  {
   "cell_type": "code",
   "execution_count": 16,
   "metadata": {},
   "outputs": [
    {
     "name": "stdout",
     "output_type": "stream",
     "text": [
      "Train on 4352 samples, validate on 3258 samples\n",
      "Epoch 1/10\n",
      "4352/4352 [==============================] - 7s 2ms/step - loss: 1.1620 - acc: 0.6009 - val_loss: 0.7180 - val_acc: 0.7489\n",
      "Epoch 2/10\n",
      "4352/4352 [==============================] - 3s 675us/step - loss: 0.6309 - acc: 0.7744 - val_loss: 0.5061 - val_acc: 0.8444\n",
      "Epoch 3/10\n",
      "4352/4352 [==============================] - 3s 668us/step - loss: 0.4859 - acc: 0.8488 - val_loss: 0.4348 - val_acc: 0.8772\n",
      "Epoch 4/10\n",
      "4352/4352 [==============================] - 3s 662us/step - loss: 0.3855 - acc: 0.8828 - val_loss: 0.4074 - val_acc: 0.8754\n",
      "Epoch 5/10\n",
      "4352/4352 [==============================] - 3s 684us/step - loss: 0.3176 - acc: 0.9111 - val_loss: 0.3539 - val_acc: 0.9119\n",
      "Epoch 6/10\n",
      "4352/4352 [==============================] - 3s 674us/step - loss: 0.2542 - acc: 0.9295 - val_loss: 0.2788 - val_acc: 0.9282\n",
      "Epoch 7/10\n",
      "4352/4352 [==============================] - 3s 658us/step - loss: 0.2168 - acc: 0.9345 - val_loss: 0.3050 - val_acc: 0.9251\n",
      "Epoch 8/10\n",
      "4352/4352 [==============================] - 3s 685us/step - loss: 0.1920 - acc: 0.9476 - val_loss: 0.2438 - val_acc: 0.9441\n",
      "Epoch 9/10\n",
      "4352/4352 [==============================] - 3s 694us/step - loss: 0.1646 - acc: 0.9577 - val_loss: 0.2641 - val_acc: 0.9374\n",
      "Epoch 10/10\n",
      "4352/4352 [==============================] - 3s 694us/step - loss: 0.1449 - acc: 0.9598 - val_loss: 0.2518 - val_acc: 0.9417\n"
     ]
    }
   ],
   "source": [
    "history = model.fit(train_set, train_labels, batch_size=64, epochs=10, validation_data=(validation_set, validation_labels))"
   ]
  },
  {
   "cell_type": "code",
   "execution_count": 26,
   "metadata": {},
   "outputs": [
    {
     "data": {
      "image/png": "[encoded data removed]",
      "text/plain": [
       "<matplotlib.figure.Figure at 0x7f390c6a4588>"
      ]
     },
     "metadata": {},
     "output_type": "display_data"
    }
   ],
   "source": [
    "acc = history.history['acc']\n",
    "val_acc = history.history['val_acc']\n",
    "\n",
    "loss = history.history['loss']\n",
    "val_loss = history.history['val_loss']\n",
    "\n",
    "epochs = range(1, len(acc) + 1)\n",
    "\n",
    "plt.plot(epochs, loss, 'bo', label='Training loss')\n",
    "plt.plot(epochs, val_loss, 'b', label='Validation loss')\n",
    "plt.title('Training and validation loss')\n",
    "\n",
    "plt.legend()\n",
    "plt.show()"
   ]
  },
  {
   "cell_type": "code",
   "execution_count": 28,
   "metadata": {},
   "outputs": [
    {
     "data": {
      "image/png": "[encoded data removed]",
      "text/plain": [
       "<matplotlib.figure.Figure at 0x7f390c045e48>"
      ]
     },
     "metadata": {},
     "output_type": "display_data"
    }
   ],
   "source": [
    "plt.plot(epochs, acc, 'bo', label='Training acc')\n",
    "plt.plot(epochs, val_acc, 'b', label='Validation acc')\n",
    "plt.title('Traiing and validation accuracy')\n",
    "plt.legend()\n",
    "plt.show()"
   ]
  },
  {
   "cell_type": "code",
   "execution_count": 15,
   "metadata": {
    "collapsed": true
   },
   "outputs": [],
   "source": [
    "sm = SMOTE()"
   ]
  },
  {
   "cell_type": "code",
   "execution_count": 16,
   "metadata": {
    "collapsed": true
   },
   "outputs": [],
   "source": [
    "train_set_res, train_labels_res = sm.fit_resample(train_set.reshape(train_set.shape[0], (128 * 128 * 1)), train_labels)"
   ]
  },
  {
   "cell_type": "code",
   "execution_count": 17,
   "metadata": {
    "collapsed": true
   },
   "outputs": [],
   "source": [
    "train_set_res = train_set_res.reshape((train_set_res.shape[0], 128, 128, 1))"
   ]
  },
  {
   "cell_type": "code",
   "execution_count": 18,
   "metadata": {},
   "outputs": [
    {
     "name": "stdout",
     "output_type": "stream",
     "text": [
      "train_set_res.shape:      (11088, 128, 128, 1)\n",
      "train_labels_res.shape:   (11088, 9)\n"
     ]
    }
   ],
   "source": [
    "print('train_set_res.shape:     ', train_set_res.shape)\n",
    "print('train_labels_res.shape:  ', train_labels_res.shape)"
   ]
  },
  {
   "cell_type": "code",
   "execution_count": 19,
   "metadata": {
    "collapsed": true
   },
   "outputs": [],
   "source": [
    "model2 = get_model()"
   ]
  },
  {
   "cell_type": "code",
   "execution_count": 34,
   "metadata": {
    "collapsed": true
   },
   "outputs": [],
   "source": [
    "model.save('simple-model.h5')"
   ]
  },
  {
   "cell_type": "code",
   "execution_count": 20,
   "metadata": {},
   "outputs": [
    {
     "name": "stdout",
     "output_type": "stream",
     "text": [
      "Train on 11088 samples, validate on 3258 samples\n",
      "Epoch 1/10\n",
      "11088/11088 [==============================] - 419s 38ms/step - loss: 0.9400 - acc: 0.6754 - val_loss: 0.6568 - val_acc: 0.8293\n",
      "Epoch 2/10\n",
      "11088/11088 [==============================] - 388s 35ms/step - loss: 0.4688 - acc: 0.8583 - val_loss: 0.7050 - val_acc: 0.8072\n",
      "Epoch 3/10\n",
      "11088/11088 [==============================] - 395s 36ms/step - loss: 0.2893 - acc: 0.9170 - val_loss: 0.3034 - val_acc: 0.9346\n",
      "Epoch 4/10\n",
      "11088/11088 [==============================] - 394s 36ms/step - loss: 0.1862 - acc: 0.9460 - val_loss: 0.3967 - val_acc: 0.9052\n",
      "Epoch 5/10\n",
      "11088/11088 [==============================] - 373s 34ms/step - loss: 0.1410 - acc: 0.9591 - val_loss: 0.2954 - val_acc: 0.9475\n",
      "Epoch 6/10\n",
      "11088/11088 [==============================] - 404s 36ms/step - loss: 0.1064 - acc: 0.9664 - val_loss: 0.3294 - val_acc: 0.9368\n",
      "Epoch 7/10\n",
      "11088/11088 [==============================] - 421s 38ms/step - loss: 0.0900 - acc: 0.9751 - val_loss: 0.3478 - val_acc: 0.9294\n",
      "Epoch 8/10\n",
      "11088/11088 [==============================] - 441s 40ms/step - loss: 0.0684 - acc: 0.9819 - val_loss: 0.2992 - val_acc: 0.9417\n",
      "Epoch 9/10\n",
      "11088/11088 [==============================] - 417s 38ms/step - loss: 0.0620 - acc: 0.9832 - val_loss: 0.2653 - val_acc: 0.9552\n",
      "Epoch 10/10\n",
      "11088/11088 [==============================] - 419s 38ms/step - loss: 0.0502 - acc: 0.9858 - val_loss: 0.3343 - val_acc: 0.9509\n"
     ]
    },
    {
     "data": {
      "text/plain": [
       "<keras.callbacks.History at 0x1cba4bbdd30>"
      ]
     },
     "execution_count": 20,
     "metadata": {},
     "output_type": "execute_result"
    }
   ],
   "source": [
    "model2.fit(train_set_res, train_labels_res, batch_size=64, epochs=10, validation_data=(validation_set, validation_labels))"
   ]
  },
  {
   "cell_type": "code",
   "execution_count": 23,
   "metadata": {},
   "outputs": [
    {
     "data": {
      "text/plain": [
       "(3258, 9)"
      ]
     },
     "execution_count": 23,
     "metadata": {},
     "output_type": "execute_result"
    }
   ],
   "source": [
    "validation_labels.shape"
   ]
  },
  {
   "cell_type": "code",
   "execution_count": 24,
   "metadata": {},
   "outputs": [
    {
     "data": {
      "text/plain": [
       "(4352, 9)"
      ]
     },
     "execution_count": 24,
     "metadata": {},
     "output_type": "execute_result"
    }
   ],
   "source": [
    "train_labels.shape"
   ]
  },
  {
   "cell_type": "code",
   "execution_count": null,
   "metadata": {
    "collapsed": true
   },
   "outputs": [],
   "source": []
  }
 ],
 "metadata": {
  "kernelspec": {
   "display_name": "Python 3",
   "language": "python",
   "name": "python3"
  },
  "language_info": {
   "codemirror_mode": {
    "name": "ipython",
    "version": 3
   },
   "file_extension": ".py",
   "mimetype": "text/x-python",
   "name": "python",
   "nbconvert_exporter": "python",
   "pygments_lexer": "ipython3",
   "version": "3.6.3"
  }
 },
 "nbformat": 4,
 "nbformat_minor": 2
}
