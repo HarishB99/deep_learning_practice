{
 "cells": [
  {
   "cell_type": "code",
   "execution_count": 1,
   "metadata": {},
   "outputs": [],
   "source": [
    "import os\n",
    "from PIL import Image\n",
    "import array\n",
    "import numpy as np"
   ]
  },
  {
   "cell_type": "code",
   "execution_count": 2,
   "metadata": {},
   "outputs": [],
   "source": [
    "def convert(filename):\n",
    "    try:\n",
    "        with open(filename, 'rb') as f:\n",
    "            size = os.path.getsize(filename)\n",
    "            width = 1024\n",
    "            rem = size % width\n",
    "            byte_arr = array.array('B')\n",
    "            byte_arr.fromfile(f, size - rem)\n",
    "            byte_arr = np.asarray(byte_arr)\n",
    "            np_arr = np.reshape(byte_arr, (len(byte_arr)//width, width))\n",
    "            np_arr = np.uint8(np_arr)\n",
    "            return np_arr\n",
    "    except EnvironmentError as error:\n",
    "        print('Error in convert_bytes_to_image.convert(): ', error.strerror)"
   ]
  },
  {
   "cell_type": "code",
   "execution_count": 3,
   "metadata": {},
   "outputs": [],
   "source": [
    "filename = './dataSample/0A32eTdBKayjCWhZqDOQ'"
   ]
  },
  {
   "cell_type": "code",
   "execution_count": 4,
   "metadata": {},
   "outputs": [],
   "source": [
    "img_arr = convert(filename)"
   ]
  },
  {
   "cell_type": "code",
   "execution_count": 5,
   "metadata": {},
   "outputs": [],
   "source": [
    "img = Image.fromarray(img_arr)"
   ]
  },
  {
   "cell_type": "code",
   "execution_count": 6,
   "metadata": {},
   "outputs": [],
   "source": [
    "img.save('./hello.png')"
   ]
  }
 ],
 "metadata": {
  "kernelspec": {
   "display_name": "Python 3",
   "language": "python",
   "name": "python3"
  },
  "language_info": {
   "codemirror_mode": {
    "name": "ipython",
    "version": 3
   },
   "file_extension": ".py",
   "mimetype": "text/x-python",
   "name": "python",
   "nbconvert_exporter": "python",
   "pygments_lexer": "ipython3",
   "version": "3.6.6"
  }
 },
 "nbformat": 4,
 "nbformat_minor": 2
}
