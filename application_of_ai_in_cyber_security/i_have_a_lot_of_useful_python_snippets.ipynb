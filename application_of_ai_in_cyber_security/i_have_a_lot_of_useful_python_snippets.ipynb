{
 "cells": [
  {
   "cell_type": "markdown",
   "metadata": {},
   "source": [
    "1. Import all necessary modules"
   ]
  },
  {
   "cell_type": "code",
   "execution_count": 1,
   "metadata": {},
   "outputs": [],
   "source": [
    "import os, shutil\n",
    "import pandas as pd\n",
    "from collections import Counter"
   ]
  },
  {
   "cell_type": "markdown",
   "metadata": {},
   "source": [
    "2. Read in `trainLabels.csv`"
   ]
  },
  {
   "cell_type": "code",
   "execution_count": 2,
   "metadata": {},
   "outputs": [],
   "source": [
    "train_labels = pd.read_csv('./trainLabels.csv')"
   ]
  },
  {
   "cell_type": "markdown",
   "metadata": {},
   "source": [
    "3. Read in `files_order`"
   ]
  },
  {
   "cell_type": "code",
   "execution_count": 3,
   "metadata": {},
   "outputs": [],
   "source": [
    "filenames = []\n",
    "with open('./files_order') as f:\n",
    "    filenames = [line.split('\\n')[0] for line in f]"
   ]
  },
  {
   "cell_type": "markdown",
   "metadata": {},
   "source": [
    "4. Take the first half of the names in `files_order`"
   ]
  },
  {
   "cell_type": "code",
   "execution_count": 4,
   "metadata": {},
   "outputs": [],
   "source": [
    "filenames = filenames[:(len(filenames) // 2)]"
   ]
  },
  {
   "cell_type": "markdown",
   "metadata": {},
   "source": [
    "5. Take about 2 thirds of the filenames as \"training\" set and the remainder as \"validation\" set"
   ]
  },
  {
   "cell_type": "code",
   "execution_count": 5,
   "metadata": {},
   "outputs": [],
   "source": [
    "train_set = filenames[:((len(filenames) // 3) * 2)]"
   ]
  },
  {
   "cell_type": "code",
   "execution_count": 6,
   "metadata": {},
   "outputs": [],
   "source": [
    "validation_set = filenames[((len(filenames) // 3) * 2):]"
   ]
  },
  {
   "cell_type": "markdown",
   "metadata": {},
   "source": [
    "6. Convert values from trainLabels.csv into a Python manipulate-able dictionary"
   ]
  },
  {
   "cell_type": "code",
   "execution_count": 7,
   "metadata": {},
   "outputs": [],
   "source": [
    "train_label_dict = { value: index for value, index in train_labels.get_values() }"
   ]
  },
  {
   "cell_type": "markdown",
   "metadata": {},
   "source": [
    "7. For both validation set and train set, replace filenames with their numerical labels (1 - 9), so as to count the number of samples available for each malware family in the dataset"
   ]
  },
  {
   "cell_type": "code",
   "execution_count": 8,
   "metadata": {},
   "outputs": [],
   "source": [
    "train_set_processed = [train_label_dict.get(item, item) for item in train_set]"
   ]
  },
  {
   "cell_type": "code",
   "execution_count": 9,
   "metadata": {},
   "outputs": [],
   "source": [
    "validation_set_processed = [train_label_dict.get(item, item) for item in validation_set]"
   ]
  },
  {
   "cell_type": "markdown",
   "metadata": {},
   "source": [
    "8. Generate a dictionary of mappings for the label (so that it makes much more sense)"
   ]
  },
  {
   "cell_type": "code",
   "execution_count": 10,
   "metadata": {},
   "outputs": [],
   "source": [
    "mappings = {\n",
    "    1: 'ramnit',\n",
    "    2: 'lollipop',\n",
    "    3: 'kellihos_ver3',\n",
    "    4: 'vunda',\n",
    "    5: 'simda',\n",
    "    6: 'tracur',\n",
    "    7: 'kellihos_ver1',\n",
    "    8: 'obfuscator_acy',\n",
    "    9: 'gatak'\n",
    "}"
   ]
  },
  {
   "cell_type": "markdown",
   "metadata": {},
   "source": [
    "9. For both `train_set_processed` and `validation_set_processed`, sort the dictionary based on their keys (key '1' being the first and key '9' being the last).\n",
    "\n",
    "- Thereafter, using dictionary comprehension (google for 'dictionary comprehension python3'), loop through the dictionaries and create a new dictionary with the labels replaced with their more descriptive string ones\n",
    "- Print this more meaningful list onto the screen"
   ]
  },
  {
   "cell_type": "code",
   "execution_count": 11,
   "metadata": {},
   "outputs": [
    {
     "data": {
      "text/plain": [
       "{'ramnit': 517,\n",
       " 'lollipop': 820,\n",
       " 'kellihos_ver3': 1025,\n",
       " 'vunda': 134,\n",
       " 'simda': 13,\n",
       " 'tracur': 252,\n",
       " 'kellihos_ver1': 110,\n",
       " 'obfuscator_acy': 392,\n",
       " 'gatak': 359}"
      ]
     },
     "execution_count": 11,
     "metadata": {},
     "output_type": "execute_result"
    }
   ],
   "source": [
    "{ mappings.get(val[0], val[0]): val[1] for val in sorted(Counter(train_set_processed).items()) }"
   ]
  },
  {
   "cell_type": "code",
   "execution_count": 12,
   "metadata": {},
   "outputs": [
    {
     "data": {
      "text/plain": [
       "{'ramnit': 278,\n",
       " 'lollipop': 392,\n",
       " 'kellihos_ver3': 520,\n",
       " 'vunda': 69,\n",
       " 'simda': 8,\n",
       " 'tracur': 122,\n",
       " 'kellihos_ver1': 61,\n",
       " 'obfuscator_acy': 194,\n",
       " 'gatak': 168}"
      ]
     },
     "execution_count": 12,
     "metadata": {},
     "output_type": "execute_result"
    }
   ],
   "source": [
    "{ mappings.get(val[0], val[0]): val[1] for val in sorted(Counter(validation_set_processed).items()) }"
   ]
  }
 ],
 "metadata": {
  "kernelspec": {
   "display_name": "Python 3",
   "language": "python",
   "name": "python3"
  },
  "language_info": {
   "codemirror_mode": {
    "name": "ipython",
    "version": 3
   },
   "file_extension": ".py",
   "mimetype": "text/x-python",
   "name": "python",
   "nbconvert_exporter": "python",
   "pygments_lexer": "ipython3",
   "version": "3.6.6"
  }
 },
 "nbformat": 4,
 "nbformat_minor": 2
}
