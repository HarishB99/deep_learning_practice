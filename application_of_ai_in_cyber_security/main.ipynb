{
 "cells": [
  {
   "cell_type": "markdown",
   "metadata": {},
   "source": [
    "## main.py"
   ]
  },
  {
   "cell_type": "markdown",
   "metadata": {},
   "source": [
    "1. import all necessary modules"
   ]
  },
  {
   "cell_type": "code",
   "execution_count": 1,
   "metadata": {
    "scrolled": true
   },
   "outputs": [
    {
     "name": "stderr",
     "output_type": "stream",
     "text": [
      "Using TensorFlow backend.\n",
      "/opt/anaconda3/lib/python3.6/importlib/_bootstrap.py:219: RuntimeWarning: compiletime version 3.5 of module 'tensorflow.python.framework.fast_tensor_util' does not match runtime version 3.6\n",
      "  return f(*args, **kwds)\n"
     ]
    }
   ],
   "source": [
    "import os, sys\n",
    "import numpy as np\n",
    "import pandas as pd\n",
    "import matplotlib.pyplot as plt\n",
    "from PIL import Image\n",
    "from keras import models\n",
    "from keras import layers\n",
    "from keras.utils import to_categorical\n",
    "from keras.preprocessing import image\n",
    "from imblearn.over_sampling import SMOTE\n",
    "\n",
    "sys.path.insert(0, os.path.abspath('./utils/'))\n",
    "import util as utils"
   ]
  },
  {
   "cell_type": "code",
   "execution_count": 2,
   "metadata": {
    "collapsed": true
   },
   "outputs": [],
   "source": [
    "def get_model():\n",
    "    model = models.Sequential()\n",
    "    \n",
    "    model.add(layers.Conv2D(32, (3, 3), activation='relu', input_shape=(128, 128, 1)))\n",
    "    model.add(layers.MaxPool2D((2, 2)))\n",
    "    \n",
    "    model.add(layers.Conv2D(64, (3, 3), activation='relu'))\n",
    "    model.add(layers.MaxPool2D((2, 2)))\n",
    "    \n",
    "    model.add(layers.Conv2D(64, (3, 3), activation='relu'))\n",
    "    model.add(layers.MaxPool2D((2, 2)))\n",
    "    \n",
    "    model.add(layers.Conv2D(64, (3, 3), activation='relu'))\n",
    "    model.add(layers.MaxPool2D((2, 2)))\n",
    "    \n",
    "    model.add(layers.Conv2D(64, (3, 3), activation='relu'))\n",
    "    model.add(layers.MaxPool2D((2, 2)))\n",
    "    \n",
    "    model.add(layers.Flatten())\n",
    "    \n",
    "    model.add(layers.Dense(64, activation='relu'))\n",
    "    model.add(layers.Dense(9, activation='softmax'))\n",
    "    \n",
    "    model.compile(optimizer='rmsprop',\n",
    "                  loss='categorical_crossentropy', \n",
    "                  metrics=['acc'])\n",
    "    \n",
    "    return model"
   ]
  },
  {
   "cell_type": "code",
   "execution_count": 3,
   "metadata": {
    "collapsed": true
   },
   "outputs": [],
   "source": [
    "dataset_dir = os.path.abspath('./dataset/')\n",
    "\n",
    "train_dir = os.path.join(dataset_dir, 'train')\n",
    "validation_dir = os.path.join(dataset_dir, 'validation')\n",
    "test_dir = os.path.join(dataset_dir, 'test')"
   ]
  },
  {
   "cell_type": "code",
   "execution_count": 4,
   "metadata": {
    "collapsed": true
   },
   "outputs": [],
   "source": [
    "train_files = [ os.path.splitext(file)[0] for file in os.listdir(train_dir) ]\n",
    "validation_files = [ os.path.splitext(file)[0] for file in os.listdir(validation_dir) ]\n",
    "test_files = [ os.path.splitext(file)[0] for file in os.listdir(test_dir) ]"
   ]
  },
  {
   "cell_type": "code",
   "execution_count": 5,
   "metadata": {
    "collapsed": true
   },
   "outputs": [],
   "source": [
    "data_labels = { filename: label for filename, label in pd.read_csv('./trainLabels.csv').get_values() }"
   ]
  },
  {
   "cell_type": "code",
   "execution_count": 6,
   "metadata": {
    "collapsed": true
   },
   "outputs": [],
   "source": [
    "train_labels = [ data_labels.get(filename, filename) for filename in train_files ]\n",
    "validation_labels = [ data_labels.get(filename, filename) for filename in validation_files ]\n",
    "test_labels = [ data_labels.get(filename, filename) for filename in test_files ]"
   ]
  },
  {
   "cell_type": "code",
   "execution_count": 8,
   "metadata": {
    "collapsed": true
   },
   "outputs": [],
   "source": [
    "def load_image_as_np(filename):\n",
    "    try:\n",
    "        img = image.load_img(filename, grayscale=True)\n",
    "        return np.atleast_3d(img)\n",
    "    except Exception as error:\n",
    "        logging.error(traceback.format_exc())"
   ]
  },
  {
   "cell_type": "code",
   "execution_count": 9,
   "metadata": {},
   "outputs": [],
   "source": [
    "train_set = [ load_image_as_np(os.path.join(train_dir, (filename+'.png'))) for filename in train_files ]\n",
    "validation_set = [ load_image_as_np(os.path.join(validation_dir, (filename+'.png'))) for filename in validation_files ]\n",
    "test_set = [ load_image_as_np(os.path.join(test_dir, (filename+'.png'))) for filename in test_files ]"
   ]
  },
  {
   "cell_type": "code",
   "execution_count": 10,
   "metadata": {},
   "outputs": [],
   "source": [
    "train_labels = [ (i - 1) for i in train_labels ]\n",
    "validation_labels = [ (i - 1) for i in validation_labels ]\n",
    "test_labels = [ (i - 1) for i in test_labels ]"
   ]
  },
  {
   "cell_type": "code",
   "execution_count": 11,
   "metadata": {
    "collapsed": true
   },
   "outputs": [],
   "source": [
    "train_set = np.asarray(train_set)\n",
    "validation_set = np.asarray(validation_set)\n",
    "test_set = np.asarray(test_set)"
   ]
  },
  {
   "cell_type": "code",
   "execution_count": 12,
   "metadata": {
    "collapsed": true
   },
   "outputs": [],
   "source": [
    "train_set = train_set.astype('float32') / 255\n",
    "validation_set = validation_set.astype('float32') / 255\n",
    "test_set = test_set.astype('float32') / 255"
   ]
  },
  {
   "cell_type": "code",
   "execution_count": 13,
   "metadata": {},
   "outputs": [
    {
     "name": "stdout",
     "output_type": "stream",
     "text": [
      "train_set.shape:        (4352, 128, 128, 1)\n",
      "validation_set.shape:   (3258, 128, 128, 1)\n",
      "test_set.shape:         (3258, 128, 128, 1)\n"
     ]
    }
   ],
   "source": [
    "print('train_set.shape:       ', train_set.shape)\n",
    "print('validation_set.shape:  ', validation_set.shape)\n",
    "print('test_set.shape:        ', test_set.shape)"
   ]
  },
  {
   "cell_type": "code",
   "execution_count": 14,
   "metadata": {
    "collapsed": true
   },
   "outputs": [],
   "source": [
    "train_labels = to_categorical(train_labels)\n",
    "validation_labels = to_categorical(validation_labels)\n",
    "test_labels = to_categorical(test_labels)"
   ]
  },
  {
   "cell_type": "code",
   "execution_count": 15,
   "metadata": {},
   "outputs": [],
   "source": [
    "model = get_model()"
   ]
  },
  {
   "cell_type": "code",
   "execution_count": 16,
   "metadata": {},
   "outputs": [
    {
     "name": "stdout",
     "output_type": "stream",
     "text": [
      "Train on 4352 samples, validate on 3258 samples\n",
      "Epoch 1/10\n",
      "4352/4352 [==============================] - 6s - loss: 1.0972 - acc: 0.6321 - val_loss: 1.1978 - val_acc: 0.6449\n",
      "Epoch 2/10\n",
      "4352/4352 [==============================] - 2s - loss: 0.5911 - acc: 0.7989 - val_loss: 0.4931 - val_acc: 0.8413\n",
      "Epoch 3/10\n",
      "4352/4352 [==============================] - 2s - loss: 0.4599 - acc: 0.8550 - val_loss: 0.5096 - val_acc: 0.8432\n",
      "Epoch 4/10\n",
      "4352/4352 [==============================] - 2s - loss: 0.3746 - acc: 0.8934 - val_loss: 0.3775 - val_acc: 0.8947\n",
      "Epoch 5/10\n",
      "4352/4352 [==============================] - 2s - loss: 0.3015 - acc: 0.9173 - val_loss: 0.3611 - val_acc: 0.9205\n",
      "Epoch 6/10\n",
      "4352/4352 [==============================] - 2s - loss: 0.2692 - acc: 0.9246 - val_loss: 0.2949 - val_acc: 0.9322\n",
      "Epoch 7/10\n",
      "4352/4352 [==============================] - 2s - loss: 0.2232 - acc: 0.9377 - val_loss: 0.3003 - val_acc: 0.9359\n",
      "Epoch 8/10\n",
      "4352/4352 [==============================] - 2s - loss: 0.2030 - acc: 0.9446 - val_loss: 0.3141 - val_acc: 0.9217\n",
      "Epoch 9/10\n",
      "4352/4352 [==============================] - 3s - loss: 0.1706 - acc: 0.9499 - val_loss: 0.2771 - val_acc: 0.9328\n",
      "Epoch 10/10\n",
      "4352/4352 [==============================] - 3s - loss: 0.1482 - acc: 0.9570 - val_loss: 0.2327 - val_acc: 0.9438\n"
     ]
    }
   ],
   "source": [
    "history = model.fit(train_set, train_labels, batch_size=64, epochs=10, validation_data=(validation_set, validation_labels))"
   ]
  },
  {
   "cell_type": "code",
   "execution_count": 20,
   "metadata": {},
   "outputs": [
    {
     "data": {
      "text/plain": [
       "<Figure size 432x288 with 0 Axes>"
      ]
     },
     "execution_count": 20,
     "metadata": {},
     "output_type": "execute_result"
    },
    {
     "data": {
      "image/png": "[encoded data removed]",
      "text/plain": [
       "<Figure size 432x288 with 1 Axes>"
      ]
     },
     "metadata": {},
     "output_type": "display_data"
    },
    {
     "data": {
      "text/plain": [
       "<Figure size 432x288 with 0 Axes>"
      ]
     },
     "metadata": {},
     "output_type": "display_data"
    }
   ],
   "source": [
    "%matplotlib inline\n",
    "acc = history.history['acc']\n",
    "val_acc = history.history['val_acc']\n",
    "\n",
    "loss = history.history['loss']\n",
    "val_loss = history.history['val_loss']\n",
    "\n",
    "epochs = range(1, len(acc) + 1)\n",
    "\n",
    "plt.plot(epochs, loss, 'bo', label='Training loss')\n",
    "plt.plot(epochs, val_loss, 'b', label='Validation loss')\n",
    "plt.title('Training and validation loss')\n",
    "\n",
    "plt.legend()\n",
    "plt.figure()"
   ]
  },
  {
   "cell_type": "code",
   "execution_count": 21,
   "metadata": {},
   "outputs": [
    {
     "data": {
      "image/png": "[encoded data removed]",
      "text/plain": [
       "<Figure size 432x288 with 1 Axes>"
      ]
     },
     "metadata": {},
     "output_type": "display_data"
    }
   ],
   "source": [
    "plt.plot(epochs, acc, 'bo', label='Training acc')\n",
    "plt.plot(epochs, val_acc, 'b', label='Validation acc')\n",
    "plt.title('Traiing and validation accuracy')\n",
    "plt.legend()\n",
    "plt.show()"
   ]
  },
  {
   "cell_type": "code",
   "execution_count": 22,
   "metadata": {
    "collapsed": true
   },
   "outputs": [],
   "source": [
    "sm = SMOTE()"
   ]
  },
  {
   "cell_type": "code",
   "execution_count": 23,
   "metadata": {
    "collapsed": true
   },
   "outputs": [],
   "source": [
    "train_set_res, train_labels_res = sm.fit_resample(train_set.reshape(train_set.shape[0], (128 * 128 * 1)), train_labels)"
   ]
  },
  {
   "cell_type": "code",
   "execution_count": 24,
   "metadata": {
    "collapsed": true
   },
   "outputs": [],
   "source": [
    "train_set_res = train_set_res.reshape((train_set_res.shape[0], 128, 128, 1))"
   ]
  },
  {
   "cell_type": "code",
   "execution_count": 25,
   "metadata": {
    "scrolled": true
   },
   "outputs": [
    {
     "name": "stdout",
     "output_type": "stream",
     "text": [
      "train_set_res.shape:      (11088, 128, 128, 1)\n",
      "train_labels_res.shape:   (11088, 9)\n"
     ]
    }
   ],
   "source": [
    "print('train_set_res.shape:     ', train_set_res.shape)\n",
    "print('train_labels_res.shape:  ', train_labels_res.shape)"
   ]
  },
  {
   "cell_type": "code",
   "execution_count": 31,
   "metadata": {
    "collapsed": true
   },
   "outputs": [],
   "source": [
    "model2 = get_model()"
   ]
  },
  {
   "cell_type": "code",
   "execution_count": 32,
   "metadata": {},
   "outputs": [
    {
     "name": "stdout",
     "output_type": "stream",
     "text": [
      "Train on 11088 samples, validate on 3258 samples\n",
      "Epoch 1/10\n",
      "11088/11088 [==============================] - 6s - loss: 0.9196 - acc: 0.6923 - val_loss: 0.7867 - val_acc: 0.7655\n",
      "Epoch 2/10\n",
      "11088/11088 [==============================] - 6s - loss: 0.4064 - acc: 0.8829 - val_loss: 0.8376 - val_acc: 0.7587\n",
      "Epoch 3/10\n",
      "11088/11088 [==============================] - 6s - loss: 0.2622 - acc: 0.9270 - val_loss: 0.3755 - val_acc: 0.9073\n",
      "Epoch 4/10\n",
      "11088/11088 [==============================] - 6s - loss: 0.1899 - acc: 0.9447 - val_loss: 0.2810 - val_acc: 0.9392\n",
      "Epoch 5/10\n",
      "11088/11088 [==============================] - 6s - loss: 0.1442 - acc: 0.9601 - val_loss: 0.4330 - val_acc: 0.9021\n",
      "Epoch 6/10\n",
      "11088/11088 [==============================] - 6s - loss: 0.1145 - acc: 0.9661 - val_loss: 0.3117 - val_acc: 0.9380\n",
      "Epoch 7/10\n",
      "11088/11088 [==============================] - 6s - loss: 0.0914 - acc: 0.9726 - val_loss: 0.3872 - val_acc: 0.9150\n",
      "Epoch 8/10\n",
      "11088/11088 [==============================] - 6s - loss: 0.0709 - acc: 0.9803 - val_loss: 0.2742 - val_acc: 0.9481\n",
      "Epoch 9/10\n",
      "11088/11088 [==============================] - 6s - loss: 0.0606 - acc: 0.9836 - val_loss: 0.2730 - val_acc: 0.9518\n",
      "Epoch 10/10\n",
      "11088/11088 [==============================] - 6s - loss: 0.0544 - acc: 0.9859 - val_loss: 0.9029 - val_acc: 0.8742\n"
     ]
    }
   ],
   "source": [
    "history2 = model2.fit(train_set_res, train_labels_res, batch_size=64, epochs=10, validation_data=(validation_set, validation_labels))"
   ]
  },
  {
   "cell_type": "code",
   "execution_count": 33,
   "metadata": {
    "collapsed": true
   },
   "outputs": [],
   "source": [
    "metrics2 = pd.Series(history2.history)"
   ]
  },
  {
   "cell_type": "code",
   "execution_count": 35,
   "metadata": {},
   "outputs": [],
   "source": [
    "epochs2 = range(1, len(metrics2.acc) + 1)"
   ]
  },
  {
   "cell_type": "code",
   "execution_count": 38,
   "metadata": {},
   "outputs": [
    {
     "data": {
      "text/plain": [
       "<Figure size 432x288 with 0 Axes>"
      ]
     },
     "execution_count": 38,
     "metadata": {},
     "output_type": "execute_result"
    },
    {
     "data": {
      "image/png": "[encoded data removed]",
      "text/plain": [
       "<Figure size 432x288 with 1 Axes>"
      ]
     },
     "metadata": {},
     "output_type": "display_data"
    },
    {
     "data": {
      "text/plain": [
       "<Figure size 432x288 with 0 Axes>"
      ]
     },
     "metadata": {},
     "output_type": "display_data"
    }
   ],
   "source": [
    "plt.plot(epochs, metrics2.acc, 'bo', label='Training acc')\n",
    "plt.plot(epochs, metrics2.val_acc, 'b', label='Validation acc')\n",
    "plt.title('Training and validation accuracy')\n",
    "plt.legend()\n",
    "\n",
    "plt.figure()"
   ]
  },
  {
   "cell_type": "code",
   "execution_count": 39,
   "metadata": {},
   "outputs": [
    {
     "data": {
      "image/png": "[encoded data removed]",
      "text/plain": [
       "<Figure size 432x288 with 1 Axes>"
      ]
     },
     "metadata": {},
     "output_type": "display_data"
    }
   ],
   "source": [
    "plt.plot(epochs, metrics2.loss, 'bo', label='Training loss')\n",
    "plt.plot(epochs, metrics2.val_loss, 'b', label='Validation loss')\n",
    "plt.title('Training and validation loss')\n",
    "plt.legend()\n",
    "\n",
    "plt.show()"
   ]
  },
  {
   "cell_type": "code",
   "execution_count": null,
   "metadata": {
    "collapsed": true
   },
   "outputs": [],
   "source": []
  }
 ],
 "metadata": {
  "kernelspec": {
   "display_name": "Python 3",
   "language": "python",
   "name": "python3"
  },
  "language_info": {
   "codemirror_mode": {
    "name": "ipython",
    "version": 3
   },
   "file_extension": ".py",
   "mimetype": "text/x-python",
   "name": "python",
   "nbconvert_exporter": "python",
   "pygments_lexer": "ipython3",
   "version": "3.6.7"
  }
 },
 "nbformat": 4,
 "nbformat_minor": 2
}
