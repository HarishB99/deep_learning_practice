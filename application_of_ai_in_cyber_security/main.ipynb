{
 "cells": [
  {
   "cell_type": "markdown",
   "metadata": {},
   "source": [
    "## main.py"
   ]
  },
  {
   "cell_type": "markdown",
   "metadata": {},
   "source": [
    "Import all necessary modules"
   ]
  },
  {
   "cell_type": "code",
   "execution_count": 1,
   "metadata": {
    "scrolled": true
   },
   "outputs": [
    {
     "name": "stderr",
     "output_type": "stream",
     "text": [
      "Using TensorFlow backend.\n",
      "/opt/anaconda3/lib/python3.6/importlib/_bootstrap.py:219: RuntimeWarning: compiletime version 3.5 of module 'tensorflow.python.framework.fast_tensor_util' does not match runtime version 3.6\n",
      "  return f(*args, **kwds)\n"
     ]
    }
   ],
   "source": [
    "import os, sys\n",
    "import numpy as np\n",
    "import pandas as pd\n",
    "import matplotlib.pyplot as plt\n",
    "from PIL import Image\n",
    "from keras import models\n",
    "from keras import layers\n",
    "from keras import backend as K\n",
    "from keras.utils import to_categorical\n",
    "from keras.preprocessing import image\n",
    "from imblearn.over_sampling import SMOTE\n",
    "from sklearn.metrics import accuracy_score, confusion_matrix\n",
    "from sklearn.model_selection import StratifiedKFold\n",
    "\n",
    "sys.path.insert(0, os.path.abspath('./utils/'))\n",
    "import util as utils\n",
    "%matplotlib inline"
   ]
  },
  {
   "cell_type": "code",
   "execution_count": 2,
   "metadata": {
    "collapsed": true
   },
   "outputs": [],
   "source": [
    "# Some memory clean-up\n",
    "K.clear_session()"
   ]
  },
  {
   "cell_type": "markdown",
   "metadata": {},
   "source": [
    "Define a function to create and compile the neural network model (Reusability)"
   ]
  },
  {
   "cell_type": "code",
   "execution_count": 3,
   "metadata": {
    "collapsed": true
   },
   "outputs": [],
   "source": [
    "def get_model():\n",
    "    model = models.Sequential()\n",
    "    \n",
    "    model.add(layers.Conv2D(32, (3, 3), activation='relu', input_shape=(128, 128, 1)))\n",
    "    model.add(layers.MaxPool2D((2, 2)))\n",
    "    \n",
    "    model.add(layers.Conv2D(64, (3, 3), activation='relu'))\n",
    "    model.add(layers.MaxPool2D((2, 2)))\n",
    "    \n",
    "    model.add(layers.Conv2D(64, (3, 3), activation='relu'))\n",
    "    model.add(layers.MaxPool2D((2, 2)))\n",
    "    \n",
    "    model.add(layers.Conv2D(64, (3, 3), activation='relu'))\n",
    "    model.add(layers.MaxPool2D((2, 2)))\n",
    "    \n",
    "    model.add(layers.Conv2D(64, (3, 3), activation='relu'))\n",
    "    model.add(layers.MaxPool2D((2, 2)))\n",
    "    \n",
    "    model.add(layers.Flatten())\n",
    "    \n",
    "    model.add(layers.Dense(64, activation='relu'))\n",
    "    model.add(layers.Dense(9, activation='softmax'))\n",
    "    \n",
    "    model.compile(optimizer='rmsprop',\n",
    "                  loss='categorical_crossentropy', \n",
    "                  metrics=['acc'])\n",
    "    \n",
    "    return model"
   ]
  },
  {
   "cell_type": "markdown",
   "metadata": {},
   "source": [
    "Store relevant directory paths for future reference"
   ]
  },
  {
   "cell_type": "code",
   "execution_count": 4,
   "metadata": {
    "collapsed": true
   },
   "outputs": [],
   "source": [
    "dataset_dir = os.path.abspath('./dataset/')\n",
    "\n",
    "train_dir = os.path.join(dataset_dir, 'train')\n",
    "test_dir = os.path.join(dataset_dir, 'test')"
   ]
  },
  {
   "cell_type": "markdown",
   "metadata": {},
   "source": [
    "Store the names (without extension) of all files in the three folders"
   ]
  },
  {
   "cell_type": "code",
   "execution_count": 5,
   "metadata": {
    "collapsed": true
   },
   "outputs": [],
   "source": [
    "train_files = [ os.path.splitext(file)[0] for file in os.listdir(train_dir) ]\n",
    "test_files = [ os.path.splitext(file)[0] for file in os.listdir(test_dir) ]"
   ]
  },
  {
   "cell_type": "markdown",
   "metadata": {},
   "source": [
    "Store trainLabels.csv (containing the label for each file in the dataset) into a dictionary"
   ]
  },
  {
   "cell_type": "code",
   "execution_count": 6,
   "metadata": {
    "collapsed": true
   },
   "outputs": [],
   "source": [
    "data_labels = { filename: label for filename, label in pd.read_csv('./trainLabels.csv').get_values() }"
   ]
  },
  {
   "cell_type": "markdown",
   "metadata": {},
   "source": [
    "From `data_labels`, map `train_file` and `test_files` to their respective labels and store them into `train_labels` and `test_labels` respectively"
   ]
  },
  {
   "cell_type": "code",
   "execution_count": 7,
   "metadata": {
    "collapsed": true
   },
   "outputs": [],
   "source": [
    "train_labels = [ data_labels.get(filename, filename) for filename in train_files ]\n",
    "test_labels = [ data_labels.get(filename, filename) for filename in test_files ]"
   ]
  },
  {
   "cell_type": "markdown",
   "metadata": {},
   "source": [
    "With labels stored in their variables, next load the dataset as numpy arrays"
   ]
  },
  {
   "cell_type": "code",
   "execution_count": 8,
   "metadata": {
    "collapsed": true
   },
   "outputs": [],
   "source": [
    "train_set = [ utils.load_image_as_np(os.path.join(train_dir, (filename+'.png'))) for filename in train_files ]\n",
    "test_set = [ utils.load_image_as_np(os.path.join(test_dir, (filename+'.png'))) for filename in test_files ]"
   ]
  },
  {
   "cell_type": "markdown",
   "metadata": {},
   "source": [
    "#### Preprocessing of labels\n",
    "The training labels range from 1 - 9 by default.<br/>\n",
    "Change this to a range of 0 - 8 instead.<br/>\n",
    "This is to ensure that the results of one-hot encoding of the labels do not contain an extra column full of '0's."
   ]
  },
  {
   "cell_type": "code",
   "execution_count": 9,
   "metadata": {
    "collapsed": true
   },
   "outputs": [],
   "source": [
    "train_labels = [ (i - 1) for i in train_labels ]\n",
    "test_labels = [ (i - 1) for i in test_labels ]"
   ]
  },
  {
   "cell_type": "markdown",
   "metadata": {},
   "source": [
    "And now, perform one-hot encoding of the labels with the help of the keras utility function, `to_categorical`"
   ]
  },
  {
   "cell_type": "code",
   "execution_count": 10,
   "metadata": {
    "collapsed": true
   },
   "outputs": [],
   "source": [
    "train_labels = to_categorical(train_labels)\n",
    "test_labels = to_categorical(test_labels)"
   ]
  },
  {
   "cell_type": "markdown",
   "metadata": {},
   "source": [
    "#### Preprocessing of data\n",
    "`train_set` and `test_set` are two lists containing numpy arrays representing images from the respective data images<br/>\n",
    "Neural network implemented in Keras generally expect numpy arrays as input data, NOT lists.\n",
    "Hence, the first step is to convert the lists to numpy arrays using `np.asarray`"
   ]
  },
  {
   "cell_type": "code",
   "execution_count": 11,
   "metadata": {
    "collapsed": true
   },
   "outputs": [],
   "source": [
    "train_set = np.asarray(train_set)\n",
    "test_set = np.asarray(test_set)"
   ]
  },
  {
   "cell_type": "markdown",
   "metadata": {},
   "source": [
    "Next, divide each byte (which represents the grayscale value of each pixel in an image) by 255 to bring all the values to a range of 0 to 1. This does good to the model (Manipulating smaller numbers is better than manipulating larger ones)"
   ]
  },
  {
   "cell_type": "code",
   "execution_count": 12,
   "metadata": {
    "collapsed": true
   },
   "outputs": [],
   "source": [
    "train_set = train_set.astype('float32') / 255\n",
    "test_set = test_set.astype('float32') / 255"
   ]
  },
  {
   "cell_type": "code",
   "execution_count": 13,
   "metadata": {},
   "outputs": [
    {
     "name": "stdout",
     "output_type": "stream",
     "text": [
      "train_set.shape:        (7610, 128, 128, 1)\n",
      "test_set.shape:         (3258, 128, 128, 1)\n"
     ]
    }
   ],
   "source": [
    "print('train_set.shape:       ', train_set.shape)\n",
    "print('test_set.shape:        ', test_set.shape)"
   ]
  },
  {
   "cell_type": "code",
   "execution_count": 14,
   "metadata": {
    "collapsed": true
   },
   "outputs": [],
   "source": [
    "k = 4\n",
    "num_val_samples = len(train_set) // k\n",
    "num_epochs = 50\n",
    "all_histories = []"
   ]
  },
  {
   "cell_type": "code",
   "execution_count": 15,
   "metadata": {
    "scrolled": false
   },
   "outputs": [
    {
     "name": "stdout",
     "output_type": "stream",
     "text": [
      "Processing fold # 0\n",
      "(14562, 128, 128, 1)\n",
      "(14562, 9)\n",
      "Train on 14562 samples, validate on 1902 samples\n",
      "Epoch 1/50\n",
      "14562/14562 [==============================] - 11s - loss: 1.5238 - acc: 0.4352 - val_loss: 0.9723 - val_acc: 0.6667\n",
      "Epoch 2/50\n",
      "14562/14562 [==============================] - 6s - loss: 0.8941 - acc: 0.7043 - val_loss: 0.7403 - val_acc: 0.7723\n",
      "Epoch 3/50\n",
      "14562/14562 [==============================] - 6s - loss: 0.7363 - acc: 0.7710 - val_loss: 0.7556 - val_acc: 0.7466\n",
      "Epoch 4/50\n",
      "14562/14562 [==============================] - 6s - loss: 0.6145 - acc: 0.8070 - val_loss: 0.9853 - val_acc: 0.7329\n",
      "Epoch 5/50\n",
      "14562/14562 [==============================] - 6s - loss: 0.5867 - acc: 0.8335 - val_loss: 0.4893 - val_acc: 0.8601\n",
      "Epoch 6/50\n",
      "14562/14562 [==============================] - 6s - loss: 0.4546 - acc: 0.8698 - val_loss: 0.5630 - val_acc: 0.8423\n",
      "Epoch 7/50\n",
      "14562/14562 [==============================] - 6s - loss: 0.4005 - acc: 0.8937 - val_loss: 0.4376 - val_acc: 0.8817\n",
      "Epoch 8/50\n",
      "14562/14562 [==============================] - 6s - loss: 0.3430 - acc: 0.9056 - val_loss: 0.3695 - val_acc: 0.9127\n",
      "Epoch 9/50\n",
      "14562/14562 [==============================] - 6s - loss: 0.3250 - acc: 0.9118 - val_loss: 0.3005 - val_acc: 0.9269\n",
      "Epoch 10/50\n",
      "14562/14562 [==============================] - 6s - loss: 0.2850 - acc: 0.9260 - val_loss: 0.3280 - val_acc: 0.9143\n",
      "Epoch 11/50\n",
      "14562/14562 [==============================] - 6s - loss: 0.2438 - acc: 0.9335 - val_loss: 0.2741 - val_acc: 0.9206\n",
      "Epoch 12/50\n",
      "14562/14562 [==============================] - 6s - loss: 0.2207 - acc: 0.9388 - val_loss: 0.2839 - val_acc: 0.9338\n",
      "Epoch 13/50\n",
      "14562/14562 [==============================] - 6s - loss: 0.1998 - acc: 0.9418 - val_loss: 0.2663 - val_acc: 0.9411\n",
      "Epoch 14/50\n",
      "14562/14562 [==============================] - 6s - loss: 0.1672 - acc: 0.9513 - val_loss: 0.3403 - val_acc: 0.9385\n",
      "Epoch 15/50\n",
      "14562/14562 [==============================] - 6s - loss: 0.1575 - acc: 0.9559 - val_loss: 0.3071 - val_acc: 0.9285\n",
      "Epoch 16/50\n",
      "14562/14562 [==============================] - 6s - loss: 0.1784 - acc: 0.9484 - val_loss: 0.2606 - val_acc: 0.9469\n",
      "Epoch 17/50\n",
      "14562/14562 [==============================] - 6s - loss: 0.1124 - acc: 0.9677 - val_loss: 0.2878 - val_acc: 0.9411\n",
      "Epoch 18/50\n",
      "14562/14562 [==============================] - 6s - loss: 0.1211 - acc: 0.9661 - val_loss: 0.2499 - val_acc: 0.9532\n",
      "Epoch 19/50\n",
      "14562/14562 [==============================] - 6s - loss: 0.1547 - acc: 0.9626 - val_loss: 0.2547 - val_acc: 0.9458\n",
      "Epoch 20/50\n",
      "14562/14562 [==============================] - 6s - loss: 0.0872 - acc: 0.9761 - val_loss: 0.3393 - val_acc: 0.9401\n",
      "Epoch 21/50\n",
      "14562/14562 [==============================] - 6s - loss: 0.0879 - acc: 0.9749 - val_loss: 0.3292 - val_acc: 0.9464\n",
      "Epoch 22/50\n",
      "14562/14562 [==============================] - 6s - loss: 0.1243 - acc: 0.9676 - val_loss: 0.2868 - val_acc: 0.9490\n",
      "Epoch 23/50\n",
      "14562/14562 [==============================] - 6s - loss: 0.0737 - acc: 0.9808 - val_loss: 0.4498 - val_acc: 0.9348\n",
      "Epoch 24/50\n",
      "14562/14562 [==============================] - 6s - loss: 0.0925 - acc: 0.9770 - val_loss: 0.2953 - val_acc: 0.9527\n",
      "Epoch 25/50\n",
      "14562/14562 [==============================] - 6s - loss: 0.0716 - acc: 0.9791 - val_loss: 0.3125 - val_acc: 0.9474\n",
      "Epoch 26/50\n",
      "14562/14562 [==============================] - 6s - loss: 0.0733 - acc: 0.9793 - val_loss: 0.2889 - val_acc: 0.9501\n",
      "Epoch 27/50\n",
      "14562/14562 [==============================] - 6s - loss: 0.0698 - acc: 0.9788 - val_loss: 0.2731 - val_acc: 0.9506\n",
      "Epoch 28/50\n",
      "14562/14562 [==============================] - 6s - loss: 0.0514 - acc: 0.9845 - val_loss: 0.2849 - val_acc: 0.9506\n",
      "Epoch 29/50\n",
      "14562/14562 [==============================] - 6s - loss: 0.0514 - acc: 0.9854 - val_loss: 0.2828 - val_acc: 0.9522\n",
      "Epoch 30/50\n",
      "14562/14562 [==============================] - 6s - loss: 0.0576 - acc: 0.9835 - val_loss: 0.2878 - val_acc: 0.9543\n",
      "Epoch 31/50\n",
      "14562/14562 [==============================] - 6s - loss: 0.0634 - acc: 0.9829 - val_loss: 0.2730 - val_acc: 0.9595\n",
      "Epoch 32/50\n",
      "14562/14562 [==============================] - 6s - loss: 0.0424 - acc: 0.9865 - val_loss: 0.2588 - val_acc: 0.9564\n",
      "Epoch 33/50\n",
      "14562/14562 [==============================] - 6s - loss: 0.0563 - acc: 0.9839 - val_loss: 0.2855 - val_acc: 0.9585\n",
      "Epoch 34/50\n",
      "14562/14562 [==============================] - 6s - loss: 0.0336 - acc: 0.9888 - val_loss: 0.3177 - val_acc: 0.9543\n",
      "Epoch 35/50\n",
      "14562/14562 [==============================] - 6s - loss: 0.0623 - acc: 0.9839 - val_loss: 0.3046 - val_acc: 0.9564\n",
      "Epoch 36/50\n",
      "14562/14562 [==============================] - 6s - loss: 0.0390 - acc: 0.9890 - val_loss: 0.2905 - val_acc: 0.9558\n",
      "Epoch 37/50\n",
      "14562/14562 [==============================] - 6s - loss: 0.0439 - acc: 0.9883 - val_loss: 0.2733 - val_acc: 0.9600\n",
      "Epoch 38/50\n",
      "14562/14562 [==============================] - 6s - loss: 0.0392 - acc: 0.9885 - val_loss: 0.3796 - val_acc: 0.9432\n",
      "Epoch 39/50\n",
      "14562/14562 [==============================] - 6s - loss: 0.0398 - acc: 0.9883 - val_loss: 0.2810 - val_acc: 0.9585\n",
      "Epoch 40/50\n",
      "14562/14562 [==============================] - 6s - loss: 0.0319 - acc: 0.9911 - val_loss: 0.3018 - val_acc: 0.9579\n",
      "Epoch 41/50\n",
      "14562/14562 [==============================] - 6s - loss: 0.0435 - acc: 0.9873 - val_loss: 0.3116 - val_acc: 0.9569\n",
      "Epoch 42/50\n",
      "14562/14562 [==============================] - 6s - loss: 0.0273 - acc: 0.9913 - val_loss: 0.3398 - val_acc: 0.9532\n",
      "Epoch 43/50\n",
      "14562/14562 [==============================] - 6s - loss: 0.0587 - acc: 0.9852 - val_loss: 0.2912 - val_acc: 0.9579\n",
      "Epoch 44/50\n",
      "14562/14562 [==============================] - 6s - loss: 0.0299 - acc: 0.9924 - val_loss: 0.3012 - val_acc: 0.9627\n",
      "Epoch 45/50\n",
      "14562/14562 [==============================] - 6s - loss: 0.0445 - acc: 0.9877 - val_loss: 0.3204 - val_acc: 0.9585\n",
      "Epoch 46/50\n",
      "14562/14562 [==============================] - 6s - loss: 0.0193 - acc: 0.9945 - val_loss: 0.3511 - val_acc: 0.9585\n",
      "Epoch 47/50\n",
      "14562/14562 [==============================] - 6s - loss: 0.0242 - acc: 0.9932 - val_loss: 0.3492 - val_acc: 0.9574\n",
      "Epoch 48/50\n",
      "14562/14562 [==============================] - 6s - loss: 0.0407 - acc: 0.9881 - val_loss: 0.3238 - val_acc: 0.9579\n",
      "Epoch 49/50\n",
      "14562/14562 [==============================] - 6s - loss: 0.0204 - acc: 0.9946 - val_loss: 0.3350 - val_acc: 0.9543\n",
      "Epoch 50/50\n",
      "14562/14562 [==============================] - 6s - loss: 0.0236 - acc: 0.9940 - val_loss: 0.3502 - val_acc: 0.9574\n",
      "Processed fold # 0\n",
      "\n",
      "\n",
      "Processing fold # 1\n",
      "(14292, 128, 128, 1)\n",
      "(14292, 9)\n",
      "Train on 14292 samples, validate on 1902 samples\n",
      "Epoch 1/50\n",
      "14292/14292 [==============================] - 7s - loss: 1.5886 - acc: 0.4399 - val_loss: 1.0113 - val_acc: 0.6341\n",
      "Epoch 2/50\n",
      "14292/14292 [==============================] - 6s - loss: 0.9405 - acc: 0.6950 - val_loss: 1.0388 - val_acc: 0.6293\n",
      "Epoch 3/50\n",
      "14292/14292 [==============================] - 6s - loss: 0.7740 - acc: 0.7627 - val_loss: 0.7459 - val_acc: 0.7419\n",
      "Epoch 4/50\n",
      "14292/14292 [==============================] - 6s - loss: 0.6472 - acc: 0.8060 - val_loss: 0.4833 - val_acc: 0.8496\n",
      "Epoch 5/50\n",
      "14292/14292 [==============================] - 6s - loss: 0.5299 - acc: 0.8455 - val_loss: 0.4205 - val_acc: 0.8680\n",
      "Epoch 6/50\n",
      "14292/14292 [==============================] - 6s - loss: 0.4563 - acc: 0.8752 - val_loss: 0.3098 - val_acc: 0.9096\n",
      "Epoch 7/50\n",
      "14292/14292 [==============================] - 6s - loss: 0.3652 - acc: 0.8982 - val_loss: 0.3126 - val_acc: 0.9027\n",
      "Epoch 8/50\n",
      "14292/14292 [==============================] - 6s - loss: 0.3368 - acc: 0.9073 - val_loss: 0.3001 - val_acc: 0.9106\n",
      "Epoch 9/50\n",
      "14292/14292 [==============================] - 6s - loss: 0.3144 - acc: 0.9131 - val_loss: 0.3201 - val_acc: 0.9164\n",
      "Epoch 10/50\n",
      "14292/14292 [==============================] - 6s - loss: 0.2452 - acc: 0.9306 - val_loss: 0.2306 - val_acc: 0.9422\n",
      "Epoch 11/50\n",
      "14292/14292 [==============================] - 6s - loss: 0.2250 - acc: 0.9380 - val_loss: 0.3060 - val_acc: 0.9059\n",
      "Epoch 12/50\n",
      "14292/14292 [==============================] - 6s - loss: 0.2241 - acc: 0.9365 - val_loss: 0.2188 - val_acc: 0.9501\n",
      "Epoch 13/50\n",
      "14292/14292 [==============================] - 6s - loss: 0.1740 - acc: 0.9522 - val_loss: 0.3811 - val_acc: 0.8938\n",
      "Epoch 14/50\n",
      "14292/14292 [==============================] - 6s - loss: 0.1934 - acc: 0.9462 - val_loss: 0.2158 - val_acc: 0.9464\n",
      "Epoch 15/50\n",
      "14292/14292 [==============================] - 6s - loss: 0.1610 - acc: 0.9539 - val_loss: 0.2036 - val_acc: 0.9511\n",
      "Epoch 16/50\n",
      "14292/14292 [==============================] - 6s - loss: 0.1450 - acc: 0.9588 - val_loss: 0.2415 - val_acc: 0.9390\n",
      "Epoch 17/50\n",
      "14292/14292 [==============================] - 6s - loss: 0.1636 - acc: 0.9593 - val_loss: 0.2092 - val_acc: 0.9537\n",
      "Epoch 18/50\n",
      "14292/14292 [==============================] - 6s - loss: 0.1265 - acc: 0.9664 - val_loss: 0.2389 - val_acc: 0.9537\n",
      "Epoch 19/50\n",
      "14292/14292 [==============================] - 6s - loss: 0.1368 - acc: 0.9633 - val_loss: 0.2334 - val_acc: 0.9416\n",
      "Epoch 20/50\n",
      "14292/14292 [==============================] - 6s - loss: 0.0964 - acc: 0.9719 - val_loss: 0.2100 - val_acc: 0.9543\n",
      "Epoch 21/50\n",
      "14292/14292 [==============================] - 6s - loss: 0.1388 - acc: 0.9626 - val_loss: 0.2098 - val_acc: 0.9543\n",
      "Epoch 22/50\n",
      "14292/14292 [==============================] - 6s - loss: 0.0899 - acc: 0.9749 - val_loss: 0.2140 - val_acc: 0.9564\n",
      "Epoch 23/50\n",
      "14292/14292 [==============================] - 6s - loss: 0.0954 - acc: 0.9717 - val_loss: 0.1858 - val_acc: 0.9632\n",
      "Epoch 24/50\n",
      "14292/14292 [==============================] - 6s - loss: 0.1394 - acc: 0.9651 - val_loss: 0.1952 - val_acc: 0.9611\n",
      "Epoch 25/50\n",
      "14292/14292 [==============================] - 6s - loss: 0.0613 - acc: 0.9821 - val_loss: 0.2361 - val_acc: 0.9437\n",
      "Epoch 26/50\n",
      "14292/14292 [==============================] - 6s - loss: 0.0652 - acc: 0.9820 - val_loss: 0.2003 - val_acc: 0.9616\n",
      "Epoch 27/50\n",
      "14292/14292 [==============================] - 6s - loss: 0.0696 - acc: 0.9797 - val_loss: 0.2883 - val_acc: 0.9359\n",
      "Epoch 28/50\n",
      "14292/14292 [==============================] - 6s - loss: 0.1032 - acc: 0.9816 - val_loss: 0.2139 - val_acc: 0.9579\n",
      "Epoch 29/50\n",
      "14292/14292 [==============================] - 6s - loss: 0.0675 - acc: 0.9815 - val_loss: 0.2001 - val_acc: 0.9621\n",
      "Epoch 30/50\n",
      "14292/14292 [==============================] - 6s - loss: 0.0567 - acc: 0.9834 - val_loss: 0.2145 - val_acc: 0.9632\n",
      "Epoch 31/50\n",
      "14292/14292 [==============================] - 6s - loss: 0.1079 - acc: 0.9752 - val_loss: 0.2062 - val_acc: 0.9616\n",
      "Epoch 32/50\n",
      "14292/14292 [==============================] - 6s - loss: 0.0622 - acc: 0.9813 - val_loss: 0.2223 - val_acc: 0.9653\n",
      "Epoch 33/50\n",
      "14292/14292 [==============================] - 6s - loss: 0.0405 - acc: 0.9884 - val_loss: 0.2427 - val_acc: 0.9527\n",
      "Epoch 34/50\n",
      "14292/14292 [==============================] - 6s - loss: 0.0708 - acc: 0.9819 - val_loss: 0.2294 - val_acc: 0.9548\n",
      "Epoch 35/50\n",
      "14292/14292 [==============================] - 6s - loss: 0.0488 - acc: 0.9871 - val_loss: 0.2735 - val_acc: 0.9479\n",
      "Epoch 36/50\n",
      "14292/14292 [==============================] - 6s - loss: 0.0518 - acc: 0.9858 - val_loss: 0.2255 - val_acc: 0.9616\n",
      "Epoch 37/50\n",
      "14292/14292 [==============================] - 6s - loss: 0.0629 - acc: 0.9829 - val_loss: 0.2066 - val_acc: 0.9616\n",
      "Epoch 38/50\n",
      "14292/14292 [==============================] - 6s - loss: 0.0327 - acc: 0.9910 - val_loss: 0.2559 - val_acc: 0.9621\n",
      "Epoch 39/50\n",
      "14292/14292 [==============================] - 6s - loss: 0.0606 - acc: 0.9840 - val_loss: 0.2260 - val_acc: 0.9621\n",
      "Epoch 40/50\n",
      "14292/14292 [==============================] - 6s - loss: 0.0443 - acc: 0.9880 - val_loss: 0.2251 - val_acc: 0.9627\n",
      "Epoch 41/50\n",
      "14292/14292 [==============================] - 6s - loss: 0.0706 - acc: 0.9840 - val_loss: 0.2548 - val_acc: 0.9621\n",
      "Epoch 42/50\n",
      "14292/14292 [==============================] - 6s - loss: 0.0383 - acc: 0.9903 - val_loss: 0.2357 - val_acc: 0.9600\n",
      "Epoch 43/50\n",
      "14292/14292 [==============================] - 6s - loss: 0.0364 - acc: 0.9906 - val_loss: 0.2563 - val_acc: 0.9569\n",
      "Epoch 44/50\n",
      "14292/14292 [==============================] - 6s - loss: 0.0333 - acc: 0.9918 - val_loss: 0.2545 - val_acc: 0.9579\n",
      "Epoch 45/50\n",
      "14292/14292 [==============================] - 6s - loss: 0.0495 - acc: 0.9872 - val_loss: 0.2358 - val_acc: 0.9637\n",
      "Epoch 46/50\n",
      "14292/14292 [==============================] - 6s - loss: 0.0289 - acc: 0.9922 - val_loss: 0.2676 - val_acc: 0.9642\n",
      "Epoch 47/50\n",
      "14292/14292 [==============================] - 6s - loss: 0.0858 - acc: 0.9813 - val_loss: 0.2428 - val_acc: 0.9637\n",
      "Epoch 48/50\n",
      "14292/14292 [==============================] - 6s - loss: 0.0226 - acc: 0.9945 - val_loss: 0.2423 - val_acc: 0.9616\n",
      "Epoch 49/50\n",
      "14292/14292 [==============================] - 6s - loss: 0.0438 - acc: 0.9888 - val_loss: 0.2436 - val_acc: 0.9648\n",
      "Epoch 50/50\n",
      "14292/14292 [==============================] - 6s - loss: 0.0375 - acc: 0.9901 - val_loss: 0.2339 - val_acc: 0.9658\n",
      "Processed fold # 1\n",
      "\n",
      "\n",
      "Processing fold # 2\n",
      "(14166, 128, 128, 1)\n",
      "(14166, 9)\n",
      "Train on 14166 samples, validate on 1902 samples\n",
      "Epoch 1/50\n",
      "14166/14166 [==============================] - 7s - loss: 1.5207 - acc: 0.4699 - val_loss: 0.9616 - val_acc: 0.6225\n",
      "Epoch 2/50\n",
      "14166/14166 [==============================] - 6s - loss: 0.8535 - acc: 0.7200 - val_loss: 0.6499 - val_acc: 0.7923\n",
      "Epoch 3/50\n",
      "14166/14166 [==============================] - 6s - loss: 0.7267 - acc: 0.7612 - val_loss: 0.5392 - val_acc: 0.8223\n",
      "Epoch 4/50\n",
      "14166/14166 [==============================] - 6s - loss: 0.5607 - acc: 0.8294 - val_loss: 0.5629 - val_acc: 0.8502\n",
      "Epoch 5/50\n",
      "14166/14166 [==============================] - 6s - loss: 0.5412 - acc: 0.8368 - val_loss: 0.4656 - val_acc: 0.8575\n",
      "Epoch 6/50\n",
      "14166/14166 [==============================] - 6s - loss: 0.4869 - acc: 0.8631 - val_loss: 0.4129 - val_acc: 0.8707\n",
      "Epoch 7/50\n",
      "14166/14166 [==============================] - 6s - loss: 0.3981 - acc: 0.8849 - val_loss: 0.3380 - val_acc: 0.9138\n",
      "Epoch 8/50\n",
      "14166/14166 [==============================] - 6s - loss: 0.3264 - acc: 0.9082 - val_loss: 0.3218 - val_acc: 0.9238\n",
      "Epoch 9/50\n",
      "14166/14166 [==============================] - 6s - loss: 0.3271 - acc: 0.9108 - val_loss: 0.4961 - val_acc: 0.8696\n",
      "Epoch 10/50\n",
      "14166/14166 [==============================] - 6s - loss: 0.2730 - acc: 0.9281 - val_loss: 0.2691 - val_acc: 0.9374\n",
      "Epoch 11/50\n",
      "14166/14166 [==============================] - 6s - loss: 0.2319 - acc: 0.9360 - val_loss: 0.2625 - val_acc: 0.9401\n",
      "Epoch 12/50\n",
      "14166/14166 [==============================] - 6s - loss: 0.2062 - acc: 0.9472 - val_loss: 0.3573 - val_acc: 0.8991\n",
      "Epoch 13/50\n",
      "14166/14166 [==============================] - 6s - loss: 0.1965 - acc: 0.9440 - val_loss: 0.2381 - val_acc: 0.9395\n",
      "Epoch 14/50\n",
      "14166/14166 [==============================] - 6s - loss: 0.1676 - acc: 0.9543 - val_loss: 0.3139 - val_acc: 0.9164\n",
      "Epoch 15/50\n",
      "14166/14166 [==============================] - 6s - loss: 0.1521 - acc: 0.9600 - val_loss: 0.2995 - val_acc: 0.9437\n",
      "Epoch 16/50\n",
      "14166/14166 [==============================] - 6s - loss: 0.1573 - acc: 0.9573 - val_loss: 0.3112 - val_acc: 0.9274\n",
      "Epoch 17/50\n",
      "14166/14166 [==============================] - 6s - loss: 0.1343 - acc: 0.9636 - val_loss: 0.2714 - val_acc: 0.9317\n",
      "Epoch 18/50\n",
      "14166/14166 [==============================] - 6s - loss: 0.1301 - acc: 0.9638 - val_loss: 0.2530 - val_acc: 0.9469\n",
      "Epoch 19/50\n",
      "14166/14166 [==============================] - 6s - loss: 0.0982 - acc: 0.9729 - val_loss: 0.2376 - val_acc: 0.9458\n",
      "Epoch 20/50\n",
      "14166/14166 [==============================] - 6s - loss: 0.0974 - acc: 0.9732 - val_loss: 0.2689 - val_acc: 0.9369\n",
      "Epoch 21/50\n",
      "14166/14166 [==============================] - 6s - loss: 0.0913 - acc: 0.9756 - val_loss: 0.2638 - val_acc: 0.9422\n",
      "Epoch 22/50\n",
      "14166/14166 [==============================] - 6s - loss: 0.1168 - acc: 0.9688 - val_loss: 0.2057 - val_acc: 0.9569\n",
      "Epoch 23/50\n",
      "14166/14166 [==============================] - 6s - loss: 0.0763 - acc: 0.9778 - val_loss: 0.3386 - val_acc: 0.9232\n",
      "Epoch 24/50\n",
      "14166/14166 [==============================] - 6s - loss: 0.0639 - acc: 0.9819 - val_loss: 0.2155 - val_acc: 0.9558\n",
      "Epoch 25/50\n",
      "14166/14166 [==============================] - 6s - loss: 0.0684 - acc: 0.9795 - val_loss: 0.3368 - val_acc: 0.9280\n",
      "Epoch 26/50\n"
     ]
    },
    {
     "name": "stdout",
     "output_type": "stream",
     "text": [
      "14166/14166 [==============================] - 6s - loss: 0.0785 - acc: 0.9783 - val_loss: 0.2378 - val_acc: 0.9527\n",
      "Epoch 27/50\n",
      "14166/14166 [==============================] - 6s - loss: 0.0937 - acc: 0.9757 - val_loss: 0.3709 - val_acc: 0.9295\n",
      "Epoch 28/50\n",
      "14166/14166 [==============================] - 6s - loss: 0.0470 - acc: 0.9872 - val_loss: 0.2116 - val_acc: 0.9606\n",
      "Epoch 29/50\n",
      "14166/14166 [==============================] - 6s - loss: 0.0613 - acc: 0.9838 - val_loss: 0.2404 - val_acc: 0.9522\n",
      "Epoch 30/50\n",
      "14166/14166 [==============================] - 6s - loss: 0.0754 - acc: 0.9792 - val_loss: 0.2160 - val_acc: 0.9595\n",
      "Epoch 31/50\n",
      "14166/14166 [==============================] - 6s - loss: 0.0492 - acc: 0.9871 - val_loss: 0.2029 - val_acc: 0.9642\n",
      "Epoch 32/50\n",
      "14166/14166 [==============================] - 6s - loss: 0.0665 - acc: 0.9809 - val_loss: 0.2006 - val_acc: 0.9606\n",
      "Epoch 33/50\n",
      "14166/14166 [==============================] - 6s - loss: 0.0426 - acc: 0.9884 - val_loss: 0.3028 - val_acc: 0.9317\n",
      "Epoch 34/50\n",
      "14166/14166 [==============================] - 6s - loss: 0.0426 - acc: 0.9876 - val_loss: 0.2364 - val_acc: 0.9611\n",
      "Epoch 35/50\n",
      "14166/14166 [==============================] - 6s - loss: 0.0435 - acc: 0.9876 - val_loss: 0.2180 - val_acc: 0.9632\n",
      "Epoch 36/50\n",
      "14166/14166 [==============================] - 6s - loss: 0.0669 - acc: 0.9838 - val_loss: 0.2448 - val_acc: 0.9621\n",
      "Epoch 37/50\n",
      "14166/14166 [==============================] - 6s - loss: 0.0334 - acc: 0.9912 - val_loss: 0.2265 - val_acc: 0.9579\n",
      "Epoch 38/50\n",
      "14166/14166 [==============================] - 6s - loss: 0.0387 - acc: 0.9900 - val_loss: 0.3033 - val_acc: 0.9495\n",
      "Epoch 39/50\n",
      "14166/14166 [==============================] - 6s - loss: 0.0345 - acc: 0.9915 - val_loss: 0.2756 - val_acc: 0.9585\n",
      "Epoch 40/50\n",
      "14166/14166 [==============================] - 6s - loss: 0.0497 - acc: 0.9890 - val_loss: 0.2380 - val_acc: 0.9606\n",
      "Epoch 41/50\n",
      "14166/14166 [==============================] - 6s - loss: 0.0445 - acc: 0.9876 - val_loss: 0.2348 - val_acc: 0.9600\n",
      "Epoch 42/50\n",
      "14166/14166 [==============================] - 6s - loss: 0.0314 - acc: 0.9925 - val_loss: 0.2450 - val_acc: 0.9537\n",
      "Epoch 43/50\n",
      "14166/14166 [==============================] - 6s - loss: 0.0442 - acc: 0.9886 - val_loss: 0.2420 - val_acc: 0.9621\n",
      "Epoch 44/50\n",
      "14166/14166 [==============================] - 6s - loss: 0.0228 - acc: 0.9936 - val_loss: 0.3039 - val_acc: 0.9416\n",
      "Epoch 45/50\n",
      "14166/14166 [==============================] - 6s - loss: 0.0238 - acc: 0.9936 - val_loss: 0.2433 - val_acc: 0.9648\n",
      "Epoch 46/50\n",
      "14166/14166 [==============================] - 6s - loss: 0.0546 - acc: 0.9871 - val_loss: 0.2475 - val_acc: 0.9627\n",
      "Epoch 47/50\n",
      "14166/14166 [==============================] - 6s - loss: 0.0446 - acc: 0.9891 - val_loss: 0.2585 - val_acc: 0.9621\n",
      "Epoch 48/50\n",
      "14166/14166 [==============================] - 6s - loss: 0.0193 - acc: 0.9951 - val_loss: 0.4757 - val_acc: 0.9264\n",
      "Epoch 49/50\n",
      "14166/14166 [==============================] - 6s - loss: 0.0523 - acc: 0.9895 - val_loss: 0.2769 - val_acc: 0.9658\n",
      "Epoch 50/50\n",
      "14166/14166 [==============================] - 6s - loss: 0.0157 - acc: 0.9959 - val_loss: 0.2819 - val_acc: 0.9569\n",
      "Processed fold # 2\n",
      "\n",
      "\n",
      "Processing fold # 3\n",
      "(14175, 128, 128, 1)\n",
      "(14175, 9)\n",
      "Train on 14175 samples, validate on 1902 samples\n",
      "Epoch 1/50\n",
      "14175/14175 [==============================] - 7s - loss: 1.5879 - acc: 0.4030 - val_loss: 1.0475 - val_acc: 0.6688\n",
      "Epoch 2/50\n",
      "14175/14175 [==============================] - 6s - loss: 0.9810 - acc: 0.6563 - val_loss: 0.7154 - val_acc: 0.7787\n",
      "Epoch 3/50\n",
      "14175/14175 [==============================] - 6s - loss: 0.7755 - acc: 0.7357 - val_loss: 0.6053 - val_acc: 0.8249\n",
      "Epoch 4/50\n",
      "14175/14175 [==============================] - 6s - loss: 0.6456 - acc: 0.7972 - val_loss: 0.5971 - val_acc: 0.8023\n",
      "Epoch 5/50\n",
      "14175/14175 [==============================] - 6s - loss: 0.5527 - acc: 0.8235 - val_loss: 0.6210 - val_acc: 0.8433\n",
      "Epoch 6/50\n",
      "14175/14175 [==============================] - 6s - loss: 0.4876 - acc: 0.8589 - val_loss: 0.4312 - val_acc: 0.8885\n",
      "Epoch 7/50\n",
      "14175/14175 [==============================] - 6s - loss: 0.4091 - acc: 0.8844 - val_loss: 0.5425 - val_acc: 0.8686\n",
      "Epoch 8/50\n",
      "14175/14175 [==============================] - 6s - loss: 0.3551 - acc: 0.9039 - val_loss: 0.4787 - val_acc: 0.8733\n",
      "Epoch 9/50\n",
      "14175/14175 [==============================] - 6s - loss: 0.2994 - acc: 0.9199 - val_loss: 0.3552 - val_acc: 0.9201\n",
      "Epoch 10/50\n",
      "14175/14175 [==============================] - 6s - loss: 0.2638 - acc: 0.9325 - val_loss: 0.3976 - val_acc: 0.8980\n",
      "Epoch 11/50\n",
      "14175/14175 [==============================] - 6s - loss: 0.2402 - acc: 0.9386 - val_loss: 0.3676 - val_acc: 0.9117\n",
      "Epoch 12/50\n",
      "14175/14175 [==============================] - 6s - loss: 0.2003 - acc: 0.9468 - val_loss: 0.3819 - val_acc: 0.9206\n",
      "Epoch 13/50\n",
      "14175/14175 [==============================] - 6s - loss: 0.1919 - acc: 0.9491 - val_loss: 0.2866 - val_acc: 0.9443\n",
      "Epoch 14/50\n",
      "14175/14175 [==============================] - 6s - loss: 0.1835 - acc: 0.9529 - val_loss: 0.3185 - val_acc: 0.9096\n",
      "Epoch 15/50\n",
      "14175/14175 [==============================] - 6s - loss: 0.1810 - acc: 0.9524 - val_loss: 0.4409 - val_acc: 0.9012\n",
      "Epoch 16/50\n",
      "14175/14175 [==============================] - 6s - loss: 0.1259 - acc: 0.9671 - val_loss: 0.3137 - val_acc: 0.9264\n",
      "Epoch 17/50\n",
      "14175/14175 [==============================] - 6s - loss: 0.1489 - acc: 0.9620 - val_loss: 0.2610 - val_acc: 0.9490\n",
      "Epoch 18/50\n",
      "14175/14175 [==============================] - 6s - loss: 0.1313 - acc: 0.9644 - val_loss: 0.2875 - val_acc: 0.9464\n",
      "Epoch 19/50\n",
      "14175/14175 [==============================] - 6s - loss: 0.1128 - acc: 0.9695 - val_loss: 0.5185 - val_acc: 0.8612\n",
      "Epoch 20/50\n",
      "14175/14175 [==============================] - 6s - loss: 0.1112 - acc: 0.9697 - val_loss: 0.5636 - val_acc: 0.8854\n",
      "Epoch 21/50\n",
      "14175/14175 [==============================] - 6s - loss: 0.1031 - acc: 0.9720 - val_loss: 0.2384 - val_acc: 0.9532\n",
      "Epoch 22/50\n",
      "14175/14175 [==============================] - 6s - loss: 0.1022 - acc: 0.9741 - val_loss: 0.2462 - val_acc: 0.9511\n",
      "Epoch 23/50\n",
      "14175/14175 [==============================] - 6s - loss: 0.0740 - acc: 0.9809 - val_loss: 0.3365 - val_acc: 0.9385\n",
      "Epoch 24/50\n",
      "14175/14175 [==============================] - 6s - loss: 0.0823 - acc: 0.9781 - val_loss: 0.3122 - val_acc: 0.9511\n",
      "Epoch 25/50\n",
      "14175/14175 [==============================] - 6s - loss: 0.0674 - acc: 0.9817 - val_loss: 0.2995 - val_acc: 0.9453\n",
      "Epoch 26/50\n",
      "14175/14175 [==============================] - 6s - loss: 0.0718 - acc: 0.9812 - val_loss: 0.2686 - val_acc: 0.9548\n",
      "Epoch 27/50\n",
      "14175/14175 [==============================] - 6s - loss: 0.0673 - acc: 0.9835 - val_loss: 0.2517 - val_acc: 0.9543\n",
      "Epoch 28/50\n",
      "14175/14175 [==============================] - 6s - loss: 0.0638 - acc: 0.9840 - val_loss: 0.2739 - val_acc: 0.9527\n",
      "Epoch 29/50\n",
      "14175/14175 [==============================] - 6s - loss: 0.0603 - acc: 0.9828 - val_loss: 0.2606 - val_acc: 0.9569\n",
      "Epoch 30/50\n",
      "14175/14175 [==============================] - 6s - loss: 0.0612 - acc: 0.9838 - val_loss: 0.2536 - val_acc: 0.9579\n",
      "Epoch 31/50\n",
      "14175/14175 [==============================] - 6s - loss: 0.0500 - acc: 0.9869 - val_loss: 0.2703 - val_acc: 0.9532\n",
      "Epoch 32/50\n",
      "14175/14175 [==============================] - 6s - loss: 0.0711 - acc: 0.9823 - val_loss: 0.2596 - val_acc: 0.9606\n",
      "Epoch 33/50\n",
      "14175/14175 [==============================] - 6s - loss: 0.0428 - acc: 0.9885 - val_loss: 0.2694 - val_acc: 0.9574\n",
      "Epoch 34/50\n",
      "14175/14175 [==============================] - 6s - loss: 0.0597 - acc: 0.9854 - val_loss: 0.2659 - val_acc: 0.9611\n",
      "Epoch 35/50\n",
      "14175/14175 [==============================] - 6s - loss: 0.0466 - acc: 0.9871 - val_loss: 0.2421 - val_acc: 0.9606\n",
      "Epoch 36/50\n",
      "14175/14175 [==============================] - 6s - loss: 0.0455 - acc: 0.9885 - val_loss: 0.2754 - val_acc: 0.9606\n",
      "Epoch 37/50\n",
      "14175/14175 [==============================] - 6s - loss: 0.0343 - acc: 0.9912 - val_loss: 0.3026 - val_acc: 0.9511\n",
      "Epoch 38/50\n",
      "14175/14175 [==============================] - 6s - loss: 0.0532 - acc: 0.9871 - val_loss: 0.2662 - val_acc: 0.9600\n",
      "Epoch 39/50\n",
      "14175/14175 [==============================] - 6s - loss: 0.0378 - acc: 0.9910 - val_loss: 0.2830 - val_acc: 0.9611\n",
      "Epoch 40/50\n",
      "14175/14175 [==============================] - 6s - loss: 0.0371 - acc: 0.9912 - val_loss: 0.3437 - val_acc: 0.9479\n",
      "Epoch 41/50\n",
      "14175/14175 [==============================] - 6s - loss: 0.0354 - acc: 0.9903 - val_loss: 0.3584 - val_acc: 0.9485\n",
      "Epoch 42/50\n",
      "14175/14175 [==============================] - 6s - loss: 0.0333 - acc: 0.9908 - val_loss: 0.3075 - val_acc: 0.9574\n",
      "Epoch 43/50\n",
      "14175/14175 [==============================] - 6s - loss: 0.0480 - acc: 0.9874 - val_loss: 0.2948 - val_acc: 0.9579\n",
      "Epoch 44/50\n",
      "14175/14175 [==============================] - 6s - loss: 0.0224 - acc: 0.9946 - val_loss: 0.3806 - val_acc: 0.9516\n",
      "Epoch 45/50\n",
      "14175/14175 [==============================] - 6s - loss: 0.0348 - acc: 0.9901 - val_loss: 0.3154 - val_acc: 0.9537\n",
      "Epoch 46/50\n",
      "14175/14175 [==============================] - 6s - loss: 0.0407 - acc: 0.9897 - val_loss: 0.2983 - val_acc: 0.9558\n",
      "Epoch 47/50\n",
      "14175/14175 [==============================] - 6s - loss: 0.0360 - acc: 0.9916 - val_loss: 0.3443 - val_acc: 0.9548\n",
      "Epoch 48/50\n",
      "14175/14175 [==============================] - 6s - loss: 0.0215 - acc: 0.9946 - val_loss: 0.3385 - val_acc: 0.9548\n",
      "Epoch 49/50\n",
      "14175/14175 [==============================] - 6s - loss: 0.0764 - acc: 0.9847 - val_loss: 0.3046 - val_acc: 0.9579\n",
      "Epoch 50/50\n",
      "14175/14175 [==============================] - 6s - loss: 0.0166 - acc: 0.9960 - val_loss: 0.3129 - val_acc: 0.9585\n",
      "Processed fold # 3\n",
      "\n",
      "\n"
     ]
    }
   ],
   "source": [
    "for i in range(k):\n",
    "    print('Processing fold #', i)\n",
    "    val_set = train_set[i * num_val_samples: (i + 1) * num_val_samples]\n",
    "    val_labels = train_labels[i * num_val_samples: (i + 1) * num_val_samples]\n",
    "    \n",
    "    partial_train_set = np.concatenate(\n",
    "        [train_set[:i * num_val_samples], \n",
    "         train_set[(i + 1) * num_val_samples:]],\n",
    "        axis=0)\n",
    "    \n",
    "    partial_train_labels = np.concatenate(\n",
    "        [train_labels[:i * num_val_samples],\n",
    "         train_labels[(i + 1) * num_val_samples:]],\n",
    "        axis=0)\n",
    "    \n",
    "    sm = SMOTE()\n",
    "    train_set_res, train_labels_res = sm.fit_resample(partial_train_set.reshape(partial_train_set.shape[0], (128 * 128 * 1)), partial_train_labels)\n",
    "    train_set_res = train_set_res.reshape((train_set_res.shape[0], 128, 128, 1))\n",
    "    print(train_set_res.shape)\n",
    "    print(train_labels_res.shape)\n",
    "    \n",
    "    model = get_model()\n",
    "    history = model.fit(train_set_res, train_labels_res, \n",
    "                       batch_size=512, epochs=num_epochs, \n",
    "                       validation_data=(val_set, val_labels) , verbose=0)  #  # verbose=0 is used to train the model in silent mode\n",
    "    all_histories.append(history)\n",
    "    print('Processed fold #', i)\n",
    "    print('\\n')"
   ]
  },
  {
   "cell_type": "code",
   "execution_count": 28,
   "metadata": {},
   "outputs": [
    {
     "data": {
      "text/plain": [
       "50"
      ]
     },
     "execution_count": 28,
     "metadata": {},
     "output_type": "execute_result"
    }
   ],
   "source": [
    "len(all_histories[0].history['acc'])"
   ]
  },
  {
   "cell_type": "code",
   "execution_count": 30,
   "metadata": {
    "collapsed": true
   },
   "outputs": [],
   "source": [
    "all_accuracies = [ history.history['acc'] for history in all_histories ]\n",
    "all_val_accuracies = [ history.history['val_acc'] for history in all_histories ]\n",
    "all_losses = [ history.history['loss'] for history in all_histories ]\n",
    "all_val_losses = [ history.history['val_loss'] for history in all_histories ]"
   ]
  },
  {
   "cell_type": "code",
   "execution_count": 31,
   "metadata": {
    "collapsed": true
   },
   "outputs": [],
   "source": [
    "average_acc_history = [\n",
    "    np.mean([accs[i] for accs in all_accuracies]) for i in range(num_epochs)\n",
    "]"
   ]
  },
  {
   "cell_type": "code",
   "execution_count": 35,
   "metadata": {},
   "outputs": [],
   "source": [
    "average_val_acc_history = [\n",
    "    np.mean([val_accs[i] for val_accs in all_val_accuracies]) for i in range(num_epochs)\n",
    "]\n",
    "average_loss_history = [\n",
    "    np.mean([loss[i] for loss in all_losses]) for i in range(num_epochs)\n",
    "]\n",
    "average_val_loss_history = [\n",
    "    np.mean([val_loss[i] for val_loss in all_val_losses]) for i in range(num_epochs)\n",
    "]"
   ]
  },
  {
   "cell_type": "code",
   "execution_count": 36,
   "metadata": {
    "collapsed": true
   },
   "outputs": [],
   "source": [
    "epochs = range(1, len(average_acc_history) + 1)"
   ]
  },
  {
   "cell_type": "code",
   "execution_count": 38,
   "metadata": {},
   "outputs": [
    {
     "data": {
      "text/plain": [
       "<Figure size 432x288 with 0 Axes>"
      ]
     },
     "execution_count": 38,
     "metadata": {},
     "output_type": "execute_result"
    },
    {
     "data": {
      "image/png": "[encoded data removed]",
      "text/plain": [
       "<Figure size 432x288 with 1 Axes>"
      ]
     },
     "metadata": {},
     "output_type": "display_data"
    },
    {
     "data": {
      "text/plain": [
       "<Figure size 432x288 with 0 Axes>"
      ]
     },
     "metadata": {},
     "output_type": "display_data"
    }
   ],
   "source": [
    "plt.plot(epochs, average_acc_history, 'bo', label='Average training acc')\n",
    "plt.plot(epochs, average_val_acc_history, 'b', label='Average validation acc')\n",
    "plt.title('Average training and validation accuracy')\n",
    "plt.legend()\n",
    "\n",
    "plt.figure()"
   ]
  },
  {
   "cell_type": "code",
   "execution_count": 39,
   "metadata": {},
   "outputs": [
    {
     "data": {
      "image/png": "[encoded data removed]",
      "text/plain": [
       "<Figure size 432x288 with 1 Axes>"
      ]
     },
     "metadata": {},
     "output_type": "display_data"
    }
   ],
   "source": [
    "plt.plot(epochs, average_loss_history, 'bo', label='Average training loss')\n",
    "plt.plot(epochs, average_val_loss_history, 'b', label='Average validation loss')\n",
    "plt.title('Average training and validation loss')\n",
    "plt.legend()\n",
    "\n",
    "plt.show()"
   ]
  },
  {
   "cell_type": "code",
   "execution_count": null,
   "metadata": {
    "collapsed": true
   },
   "outputs": [],
   "source": []
  }
 ],
 "metadata": {
  "kernelspec": {
   "display_name": "Python 3",
   "language": "python",
   "name": "python3"
  },
  "language_info": {
   "codemirror_mode": {
    "name": "ipython",
    "version": 3
   },
   "file_extension": ".py",
   "mimetype": "text/x-python",
   "name": "python",
   "nbconvert_exporter": "python",
   "pygments_lexer": "ipython3",
   "version": "3.6.7"
  }
 },
 "nbformat": 4,
 "nbformat_minor": 2
}
