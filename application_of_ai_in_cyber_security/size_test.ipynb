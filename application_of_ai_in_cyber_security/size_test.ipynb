{
 "cells": [
  {
   "cell_type": "code",
   "execution_count": 1,
   "metadata": {},
   "outputs": [],
   "source": [
    "import os, array, itertools\n",
    "from PIL import Image\n",
    "import numpy as np"
   ]
  },
  {
   "cell_type": "code",
   "execution_count": 5,
   "metadata": {},
   "outputs": [],
   "source": [
    "def convert(filename):\n",
    "    try:\n",
    "        with open(filename, 'r') as f:\n",
    "            arr = []\n",
    "            for line in f:\n",
    "                vals = line.split()\n",
    "                del vals[0]\n",
    "                arr.append(vals)\n",
    "\n",
    "            max_len = max([len(vals) for vals in arr])\n",
    "\n",
    "            new_arr = []\n",
    "            for vals in arr:\n",
    "                new_arr.append([val.replace('?', '0') for val in vals])\n",
    "\n",
    "            for vals in new_arr:\n",
    "                if '?' in vals:\n",
    "                    print(vals)\n",
    "\n",
    "            hexstring = ''.join(list(itertools.chain.from_iterable(new_arr)))\n",
    "\n",
    "            byte_arr = bytearray.fromhex(hexstring)\n",
    "\n",
    "            np_arr1 = np.asarray(byte_arr)\n",
    "            print('np_arr1.shape: ', np_arr1.shape)\n",
    "\n",
    "            width = 1024\n",
    "            rem = len(byte_arr) % width\n",
    "            byte_arr_len = len(byte_arr) - rem\n",
    "            byte_arr = byte_arr[:byte_arr_len]\n",
    "            byte_arr = np.asarray(byte_arr)\n",
    "            np_arr2 = np.reshape(byte_arr, (len(byte_arr)//width, width))\n",
    "            np_arr2 = np.uint8(np_arr2)\n",
    "            print('np_arr2.shape: ', np_arr2.shape)\n",
    "            return [np_arr1, np_arr2]\n",
    "    except EnvironmentError as error:\n",
    "        print('Error in convert_bytes_to_image.convert(): ', error.strerror)"
   ]
  },
  {
   "cell_type": "code",
   "execution_count": 6,
   "metadata": {},
   "outputs": [],
   "source": [
    "filename = '/data/train/01IsoiSMh5gxyDYTl4CB.bytes'"
   ]
  },
  {
   "cell_type": "code",
   "execution_count": 7,
   "metadata": {},
   "outputs": [
    {
     "name": "stdout",
     "output_type": "stream",
     "text": [
      "np_arr1.shape:  (1896448,)\n",
      "np_arr2.shape:  (1852, 1024)\n"
     ]
    },
    {
     "data": {
      "text/plain": [
       "[array([199,   1,  36, ...,   0,   0,   0], dtype=uint8),\n",
       " array([[199,   1,  36, ...,  35, 248,   3],\n",
       "        [240, 137,  65, ..., 131, 249,  16],\n",
       "        [114,   9, 139, ..., 207, 251, 255],\n",
       "        ...,\n",
       "        [  0,   0,   0, ...,   0,   0,   0],\n",
       "        [  0,   0,   0, ...,   0,   0,   0],\n",
       "        [  0,   0,   0, ...,   0,   0,   0]], dtype=uint8)]"
      ]
     },
     "execution_count": 7,
     "metadata": {},
     "output_type": "execute_result"
    }
   ],
   "source": [
    "convert(filename)"
   ]
  },
  {
   "cell_type": "code",
   "execution_count": null,
   "metadata": {},
   "outputs": [],
   "source": []
  }
 ],
 "metadata": {
  "kernelspec": {
   "display_name": "Python 3",
   "language": "python",
   "name": "python3"
  },
  "language_info": {
   "codemirror_mode": {
    "name": "ipython",
    "version": 3
   },
   "file_extension": ".py",
   "mimetype": "text/x-python",
   "name": "python",
   "nbconvert_exporter": "python",
   "pygments_lexer": "ipython3",
   "version": "3.6.6"
  }
 },
 "nbformat": 4,
 "nbformat_minor": 2
}
