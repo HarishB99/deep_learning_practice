{
 "cells": [
  {
   "cell_type": "markdown",
   "metadata": {},
   "source": [
    "## image-data-organiser.py"
   ]
  },
  {
   "cell_type": "markdown",
   "metadata": {},
   "source": [
    "1. Import pandas and os\n",
    "    \n",
    "    The 'pandas' module is used to read in .csv files\n",
    "    The 'os' module is used to access files"
   ]
  },
  {
   "cell_type": "code",
   "execution_count": 1,
   "metadata": {},
   "outputs": [],
   "source": [
    "import pandas as pd\n",
    "import os, subprocess\n",
    "from random import shuffle\n",
    "import convert_bytes_to_image as byte2img\n",
    "from PIL import Image"
   ]
  },
  {
   "cell_type": "markdown",
   "metadata": {},
   "source": [
    "2. Store the absolute path of the file, 'trainLabels.csv', which contains the malware file labels, and is stored in the same directory as this interactive python notebook file"
   ]
  },
  {
   "cell_type": "code",
   "execution_count": 2,
   "metadata": {},
   "outputs": [],
   "source": [
    "train_labels_file = os.path.abspath('./trainLabels.csv')"
   ]
  },
  {
   "cell_type": "markdown",
   "metadata": {},
   "source": [
    "3. Read in the data stored in the csv file"
   ]
  },
  {
   "cell_type": "code",
   "execution_count": null,
   "metadata": {},
   "outputs": [],
   "source": [
    "train_label_data = pd.read_csv(train_labels_file)"
   ]
  },
  {
   "cell_type": "markdown",
   "metadata": {},
   "source": [
    "4. Iterate through the rows in 'trainLabels.csv'\n",
    "    \n",
    "    * For each row, based on the label number, group them accordingly by storing them into their respective lists"
   ]
  },
  {
   "cell_type": "code",
   "execution_count": 4,
   "metadata": {},
   "outputs": [],
   "source": [
    "ramnit_train_set = []\n",
    "lollipop_train_set = []\n",
    "kelihos_ver3_set = []\n",
    "vundo_set = []\n",
    "simda_set = []\n",
    "tracur_set = []\n",
    "kelihos_ver1_set = []\n",
    "obfuscator_acy_set = []\n",
    "gatak_set = []\n",
    "for value, label in train_label_data.get_values():\n",
    "    if label == 1:\n",
    "        ramnit_train_set.append(value)\n",
    "    elif label == 2:\n",
    "        lollipop_train_set.append(value)\n",
    "    elif label == 3:\n",
    "        kelihos_ver3_set.append(value)\n",
    "    elif label == 4:\n",
    "        vundo_set.append(value)\n",
    "    elif label == 5:\n",
    "        simda_set.append(value)\n",
    "    elif label == 6:\n",
    "        tracur_set.append(value)\n",
    "    elif label == 7:\n",
    "        kelihos_ver1_set.append(value)\n",
    "    elif label == 8:\n",
    "        obfuscator_acy_set.append(value)\n",
    "    elif label == 9:\n",
    "        gatak_set.append(value)\n",
    "    else:\n",
    "        print('Does not belong to any class: ', dict_value)"
   ]
  },
  {
   "cell_type": "markdown",
   "metadata": {},
   "source": [
    "   * Print the number of samples available to train the neural network model for each malware family"
   ]
  },
  {
   "cell_type": "code",
   "execution_count": 5,
   "metadata": {},
   "outputs": [
    {
     "name": "stdout",
     "output_type": "stream",
     "text": [
      "ramnit_train_set:   -- 1541\n",
      "lollipop_train_set: -- 2478\n",
      "kelihos_ver3_set:   -- 2942\n",
      "vundo_set:          -- 475\n",
      "simda_set:          -- 42\n",
      "tracur_set:         -- 751\n",
      "kelihos_ver1_set:   -- 398\n",
      "obfuscator_acy_set: -- 1228\n",
      "gatak_set:          -- 1013\n",
      "\n",
      "\n",
      "Total:              -- 10868\n"
     ]
    }
   ],
   "source": [
    "print('ramnit_train_set:   --', len(ramnit_train_set))\n",
    "print('lollipop_train_set: --', len(lollipop_train_set))\n",
    "print('kelihos_ver3_set:   --', len(kelihos_ver3_set))\n",
    "print('vundo_set:          --', len(vundo_set))\n",
    "print('simda_set:          --', len(simda_set))\n",
    "print('tracur_set:         --', len(tracur_set))\n",
    "print('kelihos_ver1_set:   --', len(kelihos_ver1_set))\n",
    "print('obfuscator_acy_set: --', len(obfuscator_acy_set))\n",
    "print('gatak_set:          --', len(gatak_set))\n",
    "print('\\n')\n",
    "print('Total:              --', str(len(ramnit_train_set) + len(lollipop_train_set)\n",
    "                 + len(kelihos_ver3_set) + len(vundo_set) + len(simda_set)\n",
    "                 + len(tracur_set) + len(kelihos_ver1_set)\n",
    "                 + len(obfuscator_acy_set) + len(gatak_set)))"
   ]
  },
  {
   "cell_type": "markdown",
   "metadata": {},
   "source": [
    "5. Copy the training sets (to perform shuffling, as shuffling will manipulate the original DIRECTLY)"
   ]
  },
  {
   "cell_type": "code",
   "execution_count": 6,
   "metadata": {},
   "outputs": [],
   "source": [
    "ramnit_train_shuffled = ramnit_train_set[:]\n",
    "lollipop_train_shuffled = lollipop_train_set[:]\n",
    "kelihos_ver3_shuffled = kelihos_ver3_set[:]\n",
    "vundo_shuffled = vundo_set[:]\n",
    "simda_shuffled = simda_set[:]\n",
    "tracur_shuffled = tracur_set[:]\n",
    "kelihos_ver1_shuffled = kelihos_ver1_set[:]\n",
    "obfuscator_acy_shuffled = obfuscator_acy_set[:]\n",
    "gatak_shuffled = gatak_set[:]"
   ]
  },
  {
   "cell_type": "markdown",
   "metadata": {},
   "source": [
    "6. Shuffle the lists"
   ]
  },
  {
   "cell_type": "code",
   "execution_count": 7,
   "metadata": {},
   "outputs": [],
   "source": [
    "shuffle(ramnit_train_shuffled)\n",
    "shuffle(lollipop_train_shuffled)\n",
    "shuffle(kelihos_ver3_shuffled)\n",
    "shuffle(vundo_shuffled)\n",
    "shuffle(simda_shuffled)\n",
    "shuffle(tracur_shuffled)\n",
    "shuffle(kelihos_ver1_shuffled)\n",
    "shuffle(obfuscator_acy_shuffled)\n",
    "shuffle(gatak_shuffled)"
   ]
  },
  {
   "cell_type": "markdown",
   "metadata": {},
   "source": [
    "7. Select the first 5 samples from each shuffled lists"
   ]
  },
  {
   "cell_type": "code",
   "execution_count": 8,
   "metadata": {},
   "outputs": [],
   "source": [
    "ramnit_train_rand = ramnit_train_shuffled[:5]\n",
    "lollipop_train_rand = lollipop_train_shuffled[:5]\n",
    "kelihos_ver3_rand = kelihos_ver3_shuffled[:5]\n",
    "vundo_rand = vundo_shuffled[:5]\n",
    "simda_rand = simda_shuffled[:5]\n",
    "tracur_rand = tracur_shuffled[:5]\n",
    "kelihos_ver1_rand = kelihos_ver1_shuffled[:5]\n",
    "obfuscator_acy_rand = obfuscator_acy_shuffled[:5]\n",
    "gatak_rand = gatak_shuffled[:5]"
   ]
  },
  {
   "cell_type": "markdown",
   "metadata": {},
   "source": [
    "8. Store the path to the image directories and dataset directory\n",
    "    \n",
    "    * If the image directories does not exist, create them for the generated images to be stored"
   ]
  },
  {
   "cell_type": "code",
   "execution_count": 9,
   "metadata": {},
   "outputs": [],
   "source": [
    "image_dir = os.path.abspath('./images')\n",
    "if not os.path.exists(image_dir):\n",
    "    os.mkdir(image_dir)\n",
    "\n",
    "data_dir = os.path.abspath('/data/train')"
   ]
  },
  {
   "cell_type": "code",
   "execution_count": null,
   "metadata": {},
   "outputs": [],
   "source": [
    "ramnit_image_dir = os.path.join(image_dir, '1_ramnit')\n",
    "if not os.path.exists(ramnit_image_dir):\n",
    "    os.mkdir(ramnit_image_dir)\n",
    "    \n",
    "lollipop_image_dir = os.path.join(image_dir, '2_lollipop')\n",
    "if not os.path.exists(lollipop_image_dir):\n",
    "    os.mkdir(lollipop_image_dir)\n",
    "\n",
    "kelihos_ver3_image_dir = os.path.join(image_dir, '3_kelihos_ver3')\n",
    "if not os.path.exists(kelihos_ver3_image_dir):\n",
    "    os.mkdir(kelihos_ver3_image_dir)\n",
    "    \n",
    "vundo_image_dir = os.path.join(image_dir, '4_vundo')\n",
    "if not os.path.exists(vundo_image_dir):\n",
    "    os.mkdir(vundo_image_dir)\n",
    "\n",
    "simda_image_dir = os.path.join(image_dir, '5_simda')\n",
    "if not os.path.exists(simda_image_dir):\n",
    "    os.mkdir(simda_image_dir)\n",
    "\n",
    "tracur_image_dir = os.path.join(image_dir, '6_tracur')\n",
    "if not os.path.exists(tracur_image_dir):\n",
    "    os.mkdir(tracur_image_dir)\n",
    "\n",
    "kelihos_ver1_image_dir = os.path.join(image_dir, '7_kelihos_ver1')\n",
    "if not os.path.exists(kelihos_ver1_image_dir):\n",
    "    os.mkdir(kelihos_ver1_image_dir)\n",
    "\n",
    "obfuscator_acy_image_dir = os.path.join(image_dir, '8_obfuscator_acy')\n",
    "if not os.path.exists(obfuscator_acy_image_dir):\n",
    "    os.mkdir(obfuscator_acy_image_dir)\n",
    "\n",
    "gatak_image_dir = os.path.join(image_dir, '9_gatak')\n",
    "if not os.path.exists(gatak_image_dir):\n",
    "    os.mkdir(gatak_image_dir)\n"
   ]
  },
  {
   "cell_type": "markdown",
   "metadata": {},
   "source": [
    "9. Generate the images for each of the samples chosen and store them into their directories"
   ]
  },
  {
   "cell_type": "code",
   "execution_count": 10,
   "metadata": {},
   "outputs": [],
   "source": [
    "for file in ramnit_train_rand:\n",
    "    filename = os.path.join(data_dir, (file+'.bytes'))\n",
    "    img_arr = byte2img.convert(filename)\n",
    "    img = Image.fromarray(img_arr)\n",
    "    img.save(os.path.join(ramnit_image_dir, ('ramnit-'+file+'.png')))\n",
    "    "
   ]
  },
  {
   "cell_type": "code",
   "execution_count": 11,
   "metadata": {},
   "outputs": [],
   "source": [
    "for file in lollipop_train_rand:\n",
    "    filename = os.path.join(data_dir, (file+'.bytes'))\n",
    "    img_arr = byte2img.convert(filename)\n",
    "    img = Image.fromarray(img_arr)\n",
    "    img.save(os.path.join(lollipop_image_dir, ('lollipop-'+file+'.png')))\n"
   ]
  },
  {
   "cell_type": "code",
   "execution_count": 12,
   "metadata": {},
   "outputs": [],
   "source": [
    "for file in kelihos_ver3_rand:\n",
    "    filename = os.path.join(data_dir, (file+'.bytes'))\n",
    "    img_arr = byte2img.convert(filename)\n",
    "    img = Image.fromarray(img_arr)\n",
    "    img.save(os.path.join(kelihos_ver3_image_dir, ('kelihos-ver3-'+file+'.png')))\n",
    "    "
   ]
  },
  {
   "cell_type": "code",
   "execution_count": 13,
   "metadata": {},
   "outputs": [],
   "source": [
    "for file in vundo_rand:\n",
    "    filename = os.path.join(data_dir, (file+'.bytes'))\n",
    "    img_arr = byte2img.convert(filename)\n",
    "    img = Image.fromarray(img_arr)\n",
    "    img.save(os.path.join(vundo_image_dir, ('vundo-'+file+'.png')))\n"
   ]
  },
  {
   "cell_type": "code",
   "execution_count": 14,
   "metadata": {},
   "outputs": [],
   "source": [
    "for file in simda_rand:\n",
    "    filename = os.path.join(data_dir, (file+'.bytes'))\n",
    "    img_arr = byte2img.convert(filename)\n",
    "    img = Image.fromarray(img_arr)\n",
    "    img.save(os.path.join(simda_image_dir, ('simda-'+file+'.png')))\n"
   ]
  },
  {
   "cell_type": "code",
   "execution_count": 15,
   "metadata": {},
   "outputs": [],
   "source": [
    "for file in tracur_rand:\n",
    "    filename = os.path.join(data_dir, (file+'.bytes'))\n",
    "    img_arr = byte2img.convert(filename)\n",
    "    img = Image.fromarray(img_arr)\n",
    "    img.save(os.path.join(tracur_image_dir, ('tracur-'+file+'.png')))\n"
   ]
  },
  {
   "cell_type": "code",
   "execution_count": 16,
   "metadata": {},
   "outputs": [],
   "source": [
    "for file in kelihos_ver1_rand:\n",
    "    filename = os.path.join(data_dir, (file+'.bytes'))\n",
    "    img_arr = byte2img.convert(filename)\n",
    "    img = Image.fromarray(img_arr)\n",
    "    img.save(os.path.join(kelihos_ver1_image_dir, ('kelihos-ver1-'+file+'.png')))\n"
   ]
  },
  {
   "cell_type": "code",
   "execution_count": 17,
   "metadata": {},
   "outputs": [],
   "source": [
    "for file in obfuscator_acy_rand:\n",
    "    filename = os.path.join(data_dir, (file+'.bytes'))\n",
    "    img_arr = byte2img.convert(filename)\n",
    "    img = Image.fromarray(img_arr)\n",
    "    img.save(os.path.join(obfuscator_acy_image_dir, ('obfuscator-acy-'+file+'.png')))\n"
   ]
  },
  {
   "cell_type": "code",
   "execution_count": 18,
   "metadata": {},
   "outputs": [],
   "source": [
    "for file in gatak_rand:\n",
    "    filename = os.path.join(data_dir, (file+'.bytes'))\n",
    "    img_arr = byte2img.convert(filename)\n",
    "    img = Image.fromarray(img_arr)\n",
    "    img.save(os.path.join(gatak_image_dir, ('gatak-'+file+'.png')))\n",
    "    "
   ]
  }
 ],
 "metadata": {
  "kernelspec": {
   "display_name": "Python 3",
   "language": "python",
   "name": "python3"
  },
  "language_info": {
   "codemirror_mode": {
    "name": "ipython",
    "version": 3
   },
   "file_extension": ".py",
   "mimetype": "text/x-python",
   "name": "python",
   "nbconvert_exporter": "python",
   "pygments_lexer": "ipython3",
   "version": "3.6.6"
  }
 },
 "nbformat": 4,
 "nbformat_minor": 2
}
