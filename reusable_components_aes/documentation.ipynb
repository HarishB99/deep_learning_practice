{
 "cells": [
  {
   "cell_type": "markdown",
   "metadata": {},
   "source": [
    "It is quite common in the field of data science to find data that has been formatted as csv files with rows and columns. This makes it a lot easier to read, analyse and process the data more effectively. Hence, manipulating a csv file using Python can prove to be a useful skill for deep learning, which also happens to be a branch of data science."
   ]
  },
  {
   "cell_type": "markdown",
   "metadata": {},
   "source": [
    "Create a csv file named \"test.csv\" for the purpose of this example"
   ]
  },
  {
   "cell_type": "code",
   "execution_count": 1,
   "metadata": {},
   "outputs": [],
   "source": [
    "csv_file = './test.csv'"
   ]
  },
  {
   "cell_type": "code",
   "execution_count": 2,
   "metadata": {},
   "outputs": [],
   "source": [
    "with open(csv_file, 'w') as file:  # 'w' -> open the file in write mode\n",
    "    \n",
    "    # The header in the csv file describing the columns\n",
    "    header = ['Student_Name', 'Admin_No.']\n",
    "    \n",
    "    # the data rows\n",
    "    data = [['studentA', '123456A'], ['studentB', '123457B'], ['studentC', '123458C']]\n",
    "    \n",
    "    # A one-line Python statement that does the following:\n",
    "    #   1.    Join the strings in 'header' using ',' as a delimiter\n",
    "    #         output: 'Student_Name,Admin_No.'\n",
    "    #\n",
    "    #   2. a) Join each row in 'data' using ',' as a delimiter, \n",
    "    #         with the use of list comprehensions\n",
    "    #\n",
    "    #   2. b) Join each row (that has been joined into a string) \n",
    "    #         using the newline character, '\\n', as a delimiter\n",
    "    #   \n",
    "    #   3.    Join the results of steps 1 and 3 using the \n",
    "    #         newline character, '\\n', as a delimiter and store it in \n",
    "    #         io_string\n",
    "    io_string = ','.join(header) + '\\n' + '\\n'.join([ ','.join(row) for row in data ])\n",
    "    \n",
    "    # Write the final io_string to the csv file\n",
    "    file.write(io_string)"
   ]
  },
  {
   "cell_type": "markdown",
   "metadata": {},
   "source": [
    "Reading the file using Python's built-in file utility methods"
   ]
  },
  {
   "cell_type": "code",
   "execution_count": 3,
   "metadata": {},
   "outputs": [],
   "source": [
    "lines = []\n",
    "with open(csv_file, 'r') as file:   # 'r' -> open the file in read mode\n",
    "    for line in file:               # iterate through the lines in file\n",
    "        lines.append(line.strip())  # remove leading and trailing whitespace characters"
   ]
  },
  {
   "cell_type": "code",
   "execution_count": 4,
   "metadata": {},
   "outputs": [
    {
     "data": {
      "text/plain": [
       "['Student_Name,Admin_No.',\n",
       " 'studentA,123456A',\n",
       " 'studentB,123457B',\n",
       " 'studentC,123458C']"
      ]
     },
     "execution_count": 4,
     "metadata": {},
     "output_type": "execute_result"
    }
   ],
   "source": [
    "lines"
   ]
  },
  {
   "cell_type": "markdown",
   "metadata": {},
   "source": [
    "A much shorter way of performing the above using list comprehensions is shown below.\n",
    "<br/>One can search for 'list comprehension python' on Google to learn more about list comprehensions in python"
   ]
  },
  {
   "cell_type": "code",
   "execution_count": 5,
   "metadata": {},
   "outputs": [],
   "source": [
    "with open(csv_file, 'r') as file:\n",
    "    lines = [line.strip() for line in file]  # List comprehension in action"
   ]
  },
  {
   "cell_type": "code",
   "execution_count": 6,
   "metadata": {},
   "outputs": [
    {
     "data": {
      "text/plain": [
       "['Student_Name,Admin_No.',\n",
       " 'studentA,123456A',\n",
       " 'studentB,123457B',\n",
       " 'studentC,123458C']"
      ]
     },
     "execution_count": 6,
     "metadata": {},
     "output_type": "execute_result"
    }
   ],
   "source": [
    "lines"
   ]
  },
  {
   "cell_type": "markdown",
   "metadata": {},
   "source": [
    "Split the data, read from the csv file, into header and rows"
   ]
  },
  {
   "cell_type": "code",
   "execution_count": 7,
   "metadata": {},
   "outputs": [],
   "source": [
    "header = lines[0]  # The first row\n",
    "rows = lines[1:]   # All the other rows"
   ]
  },
  {
   "cell_type": "markdown",
   "metadata": {},
   "source": [
    "Split the headers and rows by column"
   ]
  },
  {
   "cell_type": "code",
   "execution_count": 8,
   "metadata": {},
   "outputs": [],
   "source": [
    "header = header.split(',')\n",
    "rows = [row.split(',') for row in rows]"
   ]
  },
  {
   "cell_type": "code",
   "execution_count": 9,
   "metadata": {},
   "outputs": [
    {
     "data": {
      "text/plain": [
       "['Student_Name', 'Admin_No.']"
      ]
     },
     "execution_count": 9,
     "metadata": {},
     "output_type": "execute_result"
    }
   ],
   "source": [
    "header"
   ]
  },
  {
   "cell_type": "code",
   "execution_count": 10,
   "metadata": {},
   "outputs": [
    {
     "data": {
      "text/plain": [
       "[['studentA', '123456A'], ['studentB', '123457B'], ['studentC', '123458C']]"
      ]
     },
     "execution_count": 10,
     "metadata": {},
     "output_type": "execute_result"
    }
   ],
   "source": [
    "rows"
   ]
  },
  {
   "cell_type": "markdown",
   "metadata": {},
   "source": [
    "Let's do the above with 'pandas' instead\n",
    "\n",
    "Import the 'pandas' module\n",
    "<br/>If this module could not be found, install using conda, like so:\n",
    "    \n",
    "    conda install -c anaconda pandas -y"
   ]
  },
  {
   "cell_type": "code",
   "execution_count": 11,
   "metadata": {},
   "outputs": [],
   "source": [
    "import pandas as pd"
   ]
  },
  {
   "cell_type": "code",
   "execution_count": 12,
   "metadata": {},
   "outputs": [],
   "source": [
    "csv_data = pd.read_csv(csv_file)"
   ]
  },
  {
   "cell_type": "markdown",
   "metadata": {},
   "source": [
    "Access the header"
   ]
  },
  {
   "cell_type": "code",
   "execution_count": 13,
   "metadata": {},
   "outputs": [
    {
     "name": "stdout",
     "output_type": "stream",
     "text": [
      "Index(['Student_Name', 'Admin_No.'], dtype='object')\n"
     ]
    }
   ],
   "source": [
    "print(csv_data.columns)  # Returns an iterable object"
   ]
  },
  {
   "cell_type": "markdown",
   "metadata": {},
   "source": [
    "Access the rows"
   ]
  },
  {
   "cell_type": "code",
   "execution_count": 14,
   "metadata": {},
   "outputs": [
    {
     "name": "stdout",
     "output_type": "stream",
     "text": [
      "[['studentA' '123456A']\n",
      " ['studentB' '123457B']\n",
      " ['studentC' '123458C']]\n"
     ]
    }
   ],
   "source": [
    "print(csv_data.get_values())"
   ]
  },
  {
   "cell_type": "markdown",
   "metadata": {},
   "source": [
    "As you can see, reading and accessing the header and rows of the csv_file uses very few lines of code with pandas"
   ]
  },
  {
   "cell_type": "markdown",
   "metadata": {},
   "source": [
    "Although not covered in this documentation, you might also want to take a look at dictionary comprehensions in Python as well. List comprehensions and dictionary comprehensions help to create new lists and dictionaries respectively by manipulating items in the original list / dictionary."
   ]
  },
  {
   "cell_type": "code",
   "execution_count": null,
   "metadata": {},
   "outputs": [],
   "source": []
  }
 ],
 "metadata": {
  "kernelspec": {
   "display_name": "Python 3",
   "language": "python",
   "name": "python3"
  },
  "language_info": {
   "codemirror_mode": {
    "name": "ipython",
    "version": 3
   },
   "file_extension": ".py",
   "mimetype": "text/x-python",
   "name": "python",
   "nbconvert_exporter": "python",
   "pygments_lexer": "ipython3",
   "version": "3.6.6"
  }
 },
 "nbformat": 4,
 "nbformat_minor": 2
}
