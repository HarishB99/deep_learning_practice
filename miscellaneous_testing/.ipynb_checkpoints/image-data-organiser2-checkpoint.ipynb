{
 "cells": [
  {
   "cell_type": "markdown",
   "metadata": {},
   "source": [
    "## image-data-organiser2.py"
   ]
  },
  {
   "cell_type": "markdown",
   "metadata": {},
   "source": [
    "1. Import pandas and os\n",
    "    \n",
    "    The 'pandas' module is used to read in .csv files\n",
    "    The 'os' module is used to access files"
   ]
  },
  {
   "cell_type": "code",
   "execution_count": 1,
   "metadata": {},
   "outputs": [],
   "source": [
    "import pandas as pd\n",
    "import os, subprocess\n",
    "from random import shuffle\n",
    "import convert_bytes_to_image as byte2img\n",
    "from PIL import Image"
   ]
  },
  {
   "cell_type": "markdown",
   "metadata": {},
   "source": [
    "2. Store the absolute path of the file, 'trainLabels.csv', which contains the malware file labels, and is stored in the same directory as this interactive python notebook file"
   ]
  },
  {
   "cell_type": "code",
   "execution_count": 2,
   "metadata": {},
   "outputs": [],
   "source": [
    "train_labels_file = os.path.abspath('./trainLabels.csv')"
   ]
  },
  {
   "cell_type": "markdown",
   "metadata": {},
   "source": [
    "3. Read in the data stored in the csv file"
   ]
  },
  {
   "cell_type": "code",
   "execution_count": 3,
   "metadata": {},
   "outputs": [],
   "source": [
    "train_label_data = pd.read_csv(train_labels_file)"
   ]
  },
  {
   "cell_type": "code",
   "execution_count": 4,
   "metadata": {},
   "outputs": [],
   "source": [
    "image_dir = os.path.abspath('./image_set')\n",
    "if not os.path.exists(image_dir):\n",
    "    os.mkdir(image_dir)\n",
    "\n",
    "data_dir = os.path.abspath('/data/train')"
   ]
  },
  {
   "cell_type": "code",
   "execution_count": 5,
   "metadata": {},
   "outputs": [],
   "source": [
    "import glob"
   ]
  },
  {
   "cell_type": "code",
   "execution_count": 6,
   "metadata": {},
   "outputs": [],
   "source": [
    "byte_files = glob.glob(data_dir+'/*.bytes')"
   ]
  },
  {
   "cell_type": "code",
   "execution_count": 7,
   "metadata": {},
   "outputs": [],
   "source": [
    "byte_files = byte_files[:(len(byte_files) // 2)]"
   ]
  },
  {
   "cell_type": "code",
   "execution_count": 8,
   "metadata": {},
   "outputs": [
    {
     "data": {
      "text/plain": [
       "['/data/train/a0IC5NMWt9HkBdfOZ8nK.bytes',\n",
       " '/data/train/D5Xw4lat8OPszQYGLn3c.bytes',\n",
       " '/data/train/6KYwD9A0nHtT2GmcVgES.bytes',\n",
       " '/data/train/B5M1QJjfpUbcaG3kYX4m.bytes',\n",
       " '/data/train/9kMOTJlI0c5aU6xzYhXg.bytes']"
      ]
     },
     "execution_count": 8,
     "metadata": {},
     "output_type": "execute_result"
    }
   ],
   "source": [
    "byte_files[:5]"
   ]
  },
  {
   "cell_type": "code",
   "execution_count": 11,
   "metadata": {},
   "outputs": [],
   "source": [
    "for file in byte_files:\n",
    "    img = byte2img.convert(file)\n",
    "    filename = os.path.splitext(os.path.basename(file))[0]\n",
    "    img.save(os.path.join(image_dir, (filename+'.png')))\n",
    "    "
   ]
  },
  {
   "cell_type": "code",
   "execution_count": null,
   "metadata": {},
   "outputs": [],
   "source": []
  }
 ],
 "metadata": {
  "kernelspec": {
   "display_name": "Python 3",
   "language": "python",
   "name": "python3"
  },
  "language_info": {
   "codemirror_mode": {
    "name": "ipython",
    "version": 3
   },
   "file_extension": ".py",
   "mimetype": "text/x-python",
   "name": "python",
   "nbconvert_exporter": "python",
   "pygments_lexer": "ipython3",
   "version": "3.6.6"
  }
 },
 "nbformat": 4,
 "nbformat_minor": 2
}
