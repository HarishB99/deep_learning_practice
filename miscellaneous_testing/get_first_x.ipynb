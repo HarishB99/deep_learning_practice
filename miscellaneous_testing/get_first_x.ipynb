{
 "cells": [
  {
   "cell_type": "markdown",
   "metadata": {},
   "source": [
    "## Get First {x} number of images"
   ]
  },
  {
   "cell_type": "markdown",
   "metadata": {},
   "source": [
    "This python program retrieves the first 300 samples of bytecodes of each malware family from the available training data set and plots these bytecodes into images. (It does not resize them)"
   ]
  },
  {
   "cell_type": "code",
   "execution_count": 1,
   "metadata": {},
   "outputs": [],
   "source": [
    "import pandas as pd\n",
    "import os, subprocess\n",
    "from random import shuffle\n",
    "import convert_bytes_to_image as byte2img\n",
    "from PIL import Image"
   ]
  },
  {
   "cell_type": "code",
   "execution_count": 2,
   "metadata": {},
   "outputs": [],
   "source": [
    "train_labels_file = os.path.abspath('./trainLabels.csv')"
   ]
  },
  {
   "cell_type": "code",
   "execution_count": 3,
   "metadata": {},
   "outputs": [],
   "source": [
    "train_label_data = pd.read_csv(train_labels_file)"
   ]
  },
  {
   "cell_type": "code",
   "execution_count": 4,
   "metadata": {},
   "outputs": [],
   "source": [
    "ramnit_train_set = []\n",
    "lollipop_train_set = []\n",
    "kelihos_ver3_set = []\n",
    "vundo_set = []\n",
    "tracur_set = []\n",
    "kelihos_ver1_set = []\n",
    "obfuscator_acy_set = []\n",
    "gatak_set = []\n",
    "for value, label in train_label_data.get_values():\n",
    "    if label == 1:\n",
    "        ramnit_train_set.append(value)\n",
    "    elif label == 2:\n",
    "        lollipop_train_set.append(value)\n",
    "    elif label == 3:\n",
    "        kelihos_ver3_set.append(value)\n",
    "    elif label == 4:\n",
    "        vundo_set.append(value)\n",
    "    elif label == 6:\n",
    "        tracur_set.append(value)\n",
    "    elif label == 7:\n",
    "        kelihos_ver1_set.append(value)\n",
    "    elif label == 8:\n",
    "        obfuscator_acy_set.append(value)\n",
    "    elif label == 9:\n",
    "        gatak_set.append(value)\n",
    "    else:\n",
    "        if label != 5:\n",
    "            print('Does not belong to any class: ', label, ',', value)"
   ]
  },
  {
   "cell_type": "code",
   "execution_count": 5,
   "metadata": {
    "scrolled": true
   },
   "outputs": [
    {
     "name": "stdout",
     "output_type": "stream",
     "text": [
      "ramnit_train_set:   -- 1541\n",
      "lollipop_train_set: -- 2478\n",
      "kelihos_ver3_set:   -- 2942\n",
      "vundo_set:          -- 475\n",
      "tracur_set:         -- 751\n",
      "kelihos_ver1_set:   -- 398\n",
      "obfuscator_acy_set: -- 1228\n",
      "gatak_set:          -- 1013\n",
      "\n",
      "\n",
      "Total:              -- 10826\n"
     ]
    }
   ],
   "source": [
    "print('ramnit_train_set:   --', len(ramnit_train_set))\n",
    "print('lollipop_train_set: --', len(lollipop_train_set))\n",
    "print('kelihos_ver3_set:   --', len(kelihos_ver3_set))\n",
    "print('vundo_set:          --', len(vundo_set))\n",
    "# print('simda_set:          --', len(simda_set))\n",
    "print('tracur_set:         --', len(tracur_set))\n",
    "print('kelihos_ver1_set:   --', len(kelihos_ver1_set))\n",
    "print('obfuscator_acy_set: --', len(obfuscator_acy_set))\n",
    "print('gatak_set:          --', len(gatak_set))\n",
    "print('\\n')\n",
    "print('Total:              --', str(len(ramnit_train_set) + len(lollipop_train_set)\n",
    "                 + len(kelihos_ver3_set) + len(vundo_set)  # + len(simda_set)\n",
    "                 + len(tracur_set) + len(kelihos_ver1_set)\n",
    "                 + len(obfuscator_acy_set) + len(gatak_set)))"
   ]
  },
  {
   "cell_type": "code",
   "execution_count": 6,
   "metadata": {},
   "outputs": [],
   "source": [
    "ramnit_train_first_300 = ramnit_train_set[:300]\n",
    "lollipop_train_first_300 = lollipop_train_set[:300]\n",
    "kelihos_ver3_first_300 = kelihos_ver3_set[:300]\n",
    "vundo_first_300 = vundo_set[:300]\n",
    "#simda_first_300 = simda_set[:300]\n",
    "tracur_first_300 = tracur_set[:300]\n",
    "kelihos_ver1_first_300 = kelihos_ver1_set[:300]\n",
    "obfuscator_acy_first_300 = obfuscator_acy_set[:300]\n",
    "gatak_first_300 = gatak_set[:300]"
   ]
  },
  {
   "cell_type": "code",
   "execution_count": 7,
   "metadata": {},
   "outputs": [],
   "source": [
    "image_dir = os.path.abspath('./images_first_300')\n",
    "if not os.path.exists(image_dir):\n",
    "    os.mkdir(image_dir)\n",
    "\n",
    "data_dir = os.path.abspath('/data/train')"
   ]
  },
  {
   "cell_type": "code",
   "execution_count": 8,
   "metadata": {},
   "outputs": [],
   "source": [
    "ramnit_image_dir = os.path.join(image_dir, '1_ramnit')\n",
    "if not os.path.exists(ramnit_image_dir):\n",
    "    os.mkdir(ramnit_image_dir)\n",
    "    \n",
    "lollipop_image_dir = os.path.join(image_dir, '2_lollipop')\n",
    "if not os.path.exists(lollipop_image_dir):\n",
    "    os.mkdir(lollipop_image_dir)\n",
    "\n",
    "kelihos_ver3_image_dir = os.path.join(image_dir, '3_kelihos_ver3')\n",
    "if not os.path.exists(kelihos_ver3_image_dir):\n",
    "    os.mkdir(kelihos_ver3_image_dir)\n",
    "    \n",
    "vundo_image_dir = os.path.join(image_dir, '4_vundo')\n",
    "if not os.path.exists(vundo_image_dir):\n",
    "    os.mkdir(vundo_image_dir)\n",
    "\n",
    "# simda_image_dir = os.path.join(image_dir, '5_simda')\n",
    "# if not os.path.exists(simda_image_dir):\n",
    "#     os.mkdir(simda_image_dir)\n",
    "\n",
    "tracur_image_dir = os.path.join(image_dir, '6_tracur')\n",
    "if not os.path.exists(tracur_image_dir):\n",
    "    os.mkdir(tracur_image_dir)\n",
    "\n",
    "kelihos_ver1_image_dir = os.path.join(image_dir, '7_kelihos_ver1')\n",
    "if not os.path.exists(kelihos_ver1_image_dir):\n",
    "    os.mkdir(kelihos_ver1_image_dir)\n",
    "\n",
    "obfuscator_acy_image_dir = os.path.join(image_dir, '8_obfuscator_acy')\n",
    "if not os.path.exists(obfuscator_acy_image_dir):\n",
    "    os.mkdir(obfuscator_acy_image_dir)\n",
    "\n",
    "gatak_image_dir = os.path.join(image_dir, '9_gatak')\n",
    "if not os.path.exists(gatak_image_dir):\n",
    "    os.mkdir(gatak_image_dir)\n"
   ]
  },
  {
   "cell_type": "code",
   "execution_count": 9,
   "metadata": {},
   "outputs": [],
   "source": [
    "for file in ramnit_train_first_300:\n",
    "    filename = os.path.join(data_dir, (file+'.bytes'))\n",
    "    img_arr = byte2img.convert(filename)\n",
    "    img = Image.fromarray(img_arr)\n",
    "    img.save(os.path.join(ramnit_image_dir, ('ramnit-'+file+'.png')))\n",
    "    "
   ]
  },
  {
   "cell_type": "code",
   "execution_count": 10,
   "metadata": {},
   "outputs": [],
   "source": [
    "for file in lollipop_train_first_300:\n",
    "    filename = os.path.join(data_dir, (file+'.bytes'))\n",
    "    img_arr = byte2img.convert(filename)\n",
    "    img = Image.fromarray(img_arr)\n",
    "    img.save(os.path.join(lollipop_image_dir, ('lollipop-'+file+'.png')))\n"
   ]
  },
  {
   "cell_type": "code",
   "execution_count": 11,
   "metadata": {},
   "outputs": [],
   "source": [
    "for file in kelihos_ver3_first_300:\n",
    "    filename = os.path.join(data_dir, (file+'.bytes'))\n",
    "    img_arr = byte2img.convert(filename)\n",
    "    img = Image.fromarray(img_arr)\n",
    "    img.save(os.path.join(kelihos_ver3_image_dir, ('kelihos-ver3-'+file+'.png')))\n",
    "    "
   ]
  },
  {
   "cell_type": "code",
   "execution_count": 12,
   "metadata": {},
   "outputs": [],
   "source": [
    "for file in vundo_first_300:\n",
    "    filename = os.path.join(data_dir, (file+'.bytes'))\n",
    "    img_arr = byte2img.convert(filename)\n",
    "    img = Image.fromarray(img_arr)\n",
    "    img.save(os.path.join(vundo_image_dir, ('vundo-'+file+'.png')))\n"
   ]
  },
  {
   "cell_type": "code",
   "execution_count": 13,
   "metadata": {},
   "outputs": [],
   "source": [
    "# for file in simda_first_300:\n",
    "#     filename = os.path.join(data_dir, (file+'.bytes'))\n",
    "#     img_arr = byte2img.convert(filename)\n",
    "#     img = Image.fromarray(img_arr)\n",
    "#     img.save(os.path.join(simda_image_dir, ('simda-'+file+'.png')))\n"
   ]
  },
  {
   "cell_type": "code",
   "execution_count": 14,
   "metadata": {},
   "outputs": [],
   "source": [
    "for file in tracur_first_300:\n",
    "    filename = os.path.join(data_dir, (file+'.bytes'))\n",
    "    img_arr = byte2img.convert(filename)\n",
    "    img = Image.fromarray(img_arr)\n",
    "    img.save(os.path.join(tracur_image_dir, ('tracur-'+file+'.png')))\n"
   ]
  },
  {
   "cell_type": "code",
   "execution_count": 15,
   "metadata": {},
   "outputs": [],
   "source": [
    "for file in kelihos_ver1_first_300:\n",
    "    filename = os.path.join(data_dir, (file+'.bytes'))\n",
    "    img_arr = byte2img.convert(filename)\n",
    "    img = Image.fromarray(img_arr)\n",
    "    img.save(os.path.join(kelihos_ver1_image_dir, ('kelihos-ver1-'+file+'.png')))\n"
   ]
  },
  {
   "cell_type": "code",
   "execution_count": 16,
   "metadata": {},
   "outputs": [],
   "source": [
    "for file in obfuscator_acy_first_300:\n",
    "    filename = os.path.join(data_dir, (file+'.bytes'))\n",
    "    img_arr = byte2img.convert(filename)\n",
    "    img = Image.fromarray(img_arr)\n",
    "    img.save(os.path.join(obfuscator_acy_image_dir, ('obfuscator-acy-'+file+'.png')))\n"
   ]
  },
  {
   "cell_type": "code",
   "execution_count": 17,
   "metadata": {},
   "outputs": [],
   "source": [
    "for file in gatak_first_300:\n",
    "    filename = os.path.join(data_dir, (file+'.bytes'))\n",
    "    img_arr = byte2img.convert(filename)\n",
    "    img = Image.fromarray(img_arr)\n",
    "    img.save(os.path.join(gatak_image_dir, ('gatak-'+file+'.png')))\n",
    "    "
   ]
  }
 ],
 "metadata": {
  "kernelspec": {
   "display_name": "Python 3",
   "language": "python",
   "name": "python3"
  },
  "language_info": {
   "codemirror_mode": {
    "name": "ipython",
    "version": 3
   },
   "file_extension": ".py",
   "mimetype": "text/x-python",
   "name": "python",
   "nbconvert_exporter": "python",
   "pygments_lexer": "ipython3",
   "version": "3.6.6"
  }
 },
 "nbformat": 4,
 "nbformat_minor": 2
}
