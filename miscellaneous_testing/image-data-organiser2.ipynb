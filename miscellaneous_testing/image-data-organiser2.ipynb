{
 "cells": [
  {
   "cell_type": "markdown",
   "metadata": {},
   "source": [
    "## image-data-organiser2.py"
   ]
  },
  {
   "cell_type": "markdown",
   "metadata": {},
   "source": [
    "1. Import pandas and os\n",
    "    \n",
    "    The 'pandas' module is used to read in .csv files\n",
    "    The 'os' module is used to access files"
   ]
  },
  {
   "cell_type": "code",
   "execution_count": 1,
   "metadata": {},
   "outputs": [
    {
     "name": "stderr",
     "output_type": "stream",
     "text": [
      "Using TensorFlow backend.\n"
     ]
    }
   ],
   "source": [
    "import pandas as pd\n",
    "import os, subprocess, sys\n",
    "from glob import glob\n",
    "from random import shuffle\n",
    "from PIL import Image\n",
    "\n",
    "sys.path.insert(0, os.path.abspath('./utils/'))\n",
    "import util"
   ]
  },
  {
   "cell_type": "markdown",
   "metadata": {},
   "source": [
    "2. Store the absolute path of the file, 'trainLabels.csv', which contains the malware file labels, and is stored in the same directory as this interactive python notebook file"
   ]
  },
  {
   "cell_type": "code",
   "execution_count": 2,
   "metadata": {},
   "outputs": [],
   "source": [
    "train_labels_file = os.path.abspath('./trainLabels.csv')"
   ]
  },
  {
   "cell_type": "markdown",
   "metadata": {},
   "source": [
    "3. Read in the data stored in the csv file"
   ]
  },
  {
   "cell_type": "code",
   "execution_count": 3,
   "metadata": {},
   "outputs": [],
   "source": [
    "train_label_data = pd.read_csv(train_labels_file)"
   ]
  },
  {
   "cell_type": "code",
   "execution_count": 4,
   "metadata": {},
   "outputs": [],
   "source": [
    "image_dir = os.path.abspath('./images_set')\n",
    "if not os.path.exists(image_dir):\n",
    "    os.mkdir(image_dir)\n",
    "\n",
    "data_dir = os.path.abspath('/data/train')"
   ]
  },
  {
   "cell_type": "code",
   "execution_count": 5,
   "metadata": {},
   "outputs": [],
   "source": [
    "train_dir = os.path.join(image_dir, 'train')\n",
    "if not os.path.exists(train_dir):\n",
    "    os.mkdir(train_dir)\n",
    "\n",
    "test_dir = os.path.join(image_dir, 'test')\n",
    "if not os.path.exists(test_dir):\n",
    "    os.mkdir(test_dir)"
   ]
  },
  {
   "cell_type": "code",
   "execution_count": 6,
   "metadata": {},
   "outputs": [],
   "source": [
    "byte_files = []\n",
    "with open('./files_order') as f:\n",
    "    byte_files = [os.path.join(data_dir, (line.strip()+'.bytes')) for line in f]"
   ]
  },
  {
   "cell_type": "code",
   "execution_count": 7,
   "metadata": {},
   "outputs": [],
   "source": [
    "train_size = len(byte_files) // 10 * 7"
   ]
  },
  {
   "cell_type": "code",
   "execution_count": 8,
   "metadata": {},
   "outputs": [],
   "source": [
    "byte_files_train = byte_files[:train_size]"
   ]
  },
  {
   "cell_type": "code",
   "execution_count": 9,
   "metadata": {},
   "outputs": [],
   "source": [
    "byte_files_test = byte_files[train_size:]"
   ]
  },
  {
   "cell_type": "code",
   "execution_count": 10,
   "metadata": {},
   "outputs": [],
   "source": [
    "def convert_byte2img(file, dest_dir):\n",
    "    img = util.byte2img(file)\n",
    "    filename = os.path.splitext(os.path.basename(file))[0]\n",
    "    img.save(os.path.join(dest_dir, (filename+'.png')))\n"
   ]
  },
  {
   "cell_type": "code",
   "execution_count": null,
   "metadata": {},
   "outputs": [],
   "source": [
    "for file in byte_files_train: convert_byte2img(file, train_dir)"
   ]
  },
  {
   "cell_type": "code",
   "execution_count": null,
   "metadata": {},
   "outputs": [],
   "source": [
    "for file in byte_files_test: convert_byte2img(file, test_dir)"
   ]
  },
  {
   "cell_type": "code",
   "execution_count": 12,
   "metadata": {},
   "outputs": [],
   "source": [
    "byte_files_train = [os.path.splitext(os.path.basename(file))[0]+'.png' for file in byte_files_train]\n",
    "byte_files_test = [os.path.splitext(os.path.basename(file))[0]+'.png' for file in byte_files_test]"
   ]
  },
  {
   "cell_type": "code",
   "execution_count": 13,
   "metadata": {},
   "outputs": [],
   "source": [
    "dataset_dir = os.path.abspath('./dataset')\n",
    "if not os.path.exists(dataset_dir):\n",
    "    os.mkdir(dataset_dir)\n",
    "\n",
    "dataset_train = os.path.join(dataset_dir, 'train')\n",
    "if not os.path.exists(dataset_train):\n",
    "    os.mkdir(dataset_train)\n",
    "\n",
    "dataset_test = os.path.join(dataset_dir, 'test')\n",
    "if not os.path.exists(dataset_test):\n",
    "    os.mkdir(dataset_test)"
   ]
  },
  {
   "cell_type": "code",
   "execution_count": 14,
   "metadata": {},
   "outputs": [],
   "source": [
    "files_train = byte_files_train[:(len(byte_files_train) // 2)]\n",
    "files_test = byte_files_train[(len(byte_files_train) // 2):]"
   ]
  },
  {
   "cell_type": "code",
   "execution_count": 15,
   "metadata": {},
   "outputs": [],
   "source": [
    "for filename in files_train:\n",
    "    util.resize_from_file(os.path.join(train_dir, filename), dataset_train)"
   ]
  },
  {
   "cell_type": "code",
   "execution_count": 16,
   "metadata": {},
   "outputs": [],
   "source": [
    "for filename in files_test:\n",
    "    util.resize_from_file(os.path.join(train_dir, filename), dataset_test)"
   ]
  },
  {
   "cell_type": "code",
   "execution_count": 17,
   "metadata": {},
   "outputs": [],
   "source": [
    "dataset_major_test = os.path.join(dataset_dir, 'major_test')\n",
    "if not os.path.exists(dataset_major_test):\n",
    "    os.mkdir(dataset_major_test)\n",
    "\n",
    "for filename in byte_files_test:\n",
    "    util.resize_from_file(os.path.join(test_dir, filename), dataset_major_test)"
   ]
  }
 ],
 "metadata": {
  "kernelspec": {
   "display_name": "Python 3",
   "language": "python",
   "name": "python3"
  },
  "language_info": {
   "codemirror_mode": {
    "name": "ipython",
    "version": 3
   },
   "file_extension": ".py",
   "mimetype": "text/x-python",
   "name": "python",
   "nbconvert_exporter": "python",
   "pygments_lexer": "ipython3",
   "version": "3.6.6"
  }
 },
 "nbformat": 4,
 "nbformat_minor": 2
}
