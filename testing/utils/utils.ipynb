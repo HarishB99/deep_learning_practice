{
 "cells": [
  {
   "cell_type": "markdown",
   "metadata": {},
   "source": [
    "## utils.py"
   ]
  },
  {
   "cell_type": "code",
   "execution_count": 1,
   "metadata": {
    "scrolled": true
   },
   "outputs": [
    {
     "name": "stderr",
     "output_type": "stream",
     "text": [
      "Using TensorFlow backend.\n"
     ]
    }
   ],
   "source": [
    "import os, array, itertools, sys, traceback, logging\n",
    "import numpy as np\n",
    "from PIL import Image\n",
    "from keras.preprocessing import image\n",
    "from Crypto import Random\n",
    "from Crypto.Cipher import AES\n",
    "import binascii"
   ]
  },
  {
   "cell_type": "code",
   "execution_count": 2,
   "metadata": {},
   "outputs": [
    {
     "name": "stdout",
     "output_type": "stream",
     "text": [
      "16\n"
     ]
    }
   ],
   "source": [
    "arr = []\n",
    "with open('/data/train/05rJTUWYAKNegBk2wE8X.bytes', 'r') as f:\n",
    "    for line in f:\n",
    "        vals = line.split()\n",
    "        del vals[0]\n",
    "        arr.append(vals)\n",
    "\n",
    "max_len = max([len(vals) for vals in arr])\n",
    "\n",
    "new_arr = []\n",
    "for vals in arr:\n",
    "    new_arr.append([val.replace('?', '0') for val in vals])\n",
    "\n",
    "for vals in new_arr:\n",
    "    if '?' in vals:\n",
    "        print(vals)\n",
    "        \n",
    "for vals in new_arr:\n",
    "    if len(vals) < max_len:\n",
    "        vals += ['00'] * (max_len - len(vals))\n",
    "        \n",
    "print(min([len(vals) for vals in new_arr]))\n",
    "\n",
    "hexstring = ''.join(list(itertools.chain.from_iterable(new_arr)))"
   ]
  },
  {
   "cell_type": "code",
   "execution_count": 3,
   "metadata": {},
   "outputs": [
    {
     "data": {
      "text/plain": [
       "1613824"
      ]
     },
     "execution_count": 3,
     "metadata": {},
     "output_type": "execute_result"
    }
   ],
   "source": [
    "len(hexstring)"
   ]
  },
  {
   "cell_type": "code",
   "execution_count": 4,
   "metadata": {},
   "outputs": [],
   "source": [
    "byte_arr = bytearray.fromhex(hexstring)"
   ]
  },
  {
   "cell_type": "code",
   "execution_count": 5,
   "metadata": {},
   "outputs": [],
   "source": [
    "import random, struct"
   ]
  },
  {
   "cell_type": "code",
   "execution_count": 6,
   "metadata": {},
   "outputs": [],
   "source": [
    "iv = ''.join(chr(random.randint(0, 0xFF)) for i in range(16))\n",
    "encryptor = AES.new('0123456789abcdef', AES.MODE_CBC, IV=os.urandom(16))\n",
    "cipher_bytes = encryptor.encrypt(bytes(byte_arr))"
   ]
  },
  {
   "cell_type": "code",
   "execution_count": 7,
   "metadata": {},
   "outputs": [],
   "source": [
    "width = 1024\n",
    "cipher_arr = bytearray(cipher_bytes)\n",
    "rem = len(cipher_arr) % width\n",
    "byte_arr_len = len(cipher_arr) - rem\n",
    "cipher_arr = cipher_arr[:byte_arr_len]\n",
    "cipher_arr = np.asarray(cipher_arr)\n",
    "np_arr = np.reshape(cipher_arr, (len(cipher_arr)//width, width))\n",
    "np_arr = np.uint8(np_arr)\n",
    "img = Image.fromarray(np_arr)"
   ]
  },
  {
   "cell_type": "markdown",
   "metadata": {},
   "source": [
    "load_image_as_np\n",
    "- Loads an image from the filesystem as a 3D numpy array\n",
    "- params\n",
    "    - filename - the path to the image file to be loaded\n",
    "- return\n",
    "    - a 3D numpy array representing the loaded image"
   ]
  },
  {
   "cell_type": "code",
   "execution_count": 8,
   "metadata": {},
   "outputs": [],
   "source": [
    "# def load_image_as_np(filename):\n",
    "#     \"\"\"\n",
    "#         - Loads an image from the filesystem as a 3D numpy array\n",
    "#         - params\n",
    "#             - filename - the path to the image file to be loaded\n",
    "#         - return\n",
    "#             - a 3D numpy array representing the loaded image\n",
    "#     \"\"\"\n",
    "#     try:\n",
    "#         img = image.load_img(filename, color_mode='grayscale')\n",
    "#         return np.atleast_3d(img)\n",
    "#     except Exception as error:\n",
    "#         logging.error(traceback.format_exc())"
   ]
  },
  {
   "cell_type": "markdown",
   "metadata": {},
   "source": [
    "resize_from_file\n",
    "- Resize an existing image from the filesystem to the specified size and save it back to the filesystem\n",
    "- params\n",
    "    - filename - the path to the image file to be resized\n",
    "    - dest - the path to the image file to write to (The directory should exist - The image need not exist)\n",
    "    - size - the dimension to resize the image to in the format (width, height) - default is 64 by 64\n",
    "- return\n",
    "    - None"
   ]
  },
  {
   "cell_type": "code",
   "execution_count": 9,
   "metadata": {},
   "outputs": [],
   "source": [
    "# def resize_from_file(filename, dest, size=(64, 64)):\n",
    "#     \"\"\"\n",
    "#         - Resize an existing image from the filesystem to the specified size and save it back to the filesystem\n",
    "#         - params\n",
    "#             - filename - the path to the image file to be resized\n",
    "#             - dest - the path of the directory to save the image file to (This directory should exist)\n",
    "#             - size - the dimension to resize the image to in the format (width, height) - default is 64 by 64\n",
    "#         - return\n",
    "#             - None\n",
    "#     \"\"\"\n",
    "#     try:\n",
    "#         imgname = os.path.basename(filename)\n",
    "#         img = image.load_img(filename, color_mode='grayscale')\n",
    "#         img = img.resize(size, Image.LANCZOS)\n",
    "#         img.save(os.path.join(dest, imgname))\n",
    "#     except Exception as error:\n",
    "#         logging.error(traceback.format_exc())"
   ]
  },
  {
   "cell_type": "markdown",
   "metadata": {},
   "source": [
    "resize_from_img\n",
    "- Resize an existing PIL Image instance to the specified size and save it to the filesystem\n",
    "- params\n",
    "    - img - An instance of the PIL Image\n",
    "    - imgname - the path to the image file to write to (The directory should exist - The image need not exist)\n",
    "    - size - the dimension to resize the image to in the format (width, height) - default is 64 by 64\n",
    "- return\n",
    "    - None"
   ]
  },
  {
   "cell_type": "code",
   "execution_count": 10,
   "metadata": {},
   "outputs": [],
   "source": [
    "def resize_from_img(img, imgname, size=(128, 128)):\n",
    "    \"\"\"\n",
    "        - Resize an existing PIL Image instance to the specified size and save it to the filesystem\n",
    "        - params\n",
    "            - img - An instance of the PIL Image\n",
    "            - imgname - the path to the image file to write to (The directory should exist - The image need not exist)\n",
    "            - size - the dimension to resize the image to in the format (width, height) - default is 64 by 64\n",
    "        - return\n",
    "            - None\n",
    "    \"\"\"\n",
    "    try:\n",
    "        img = img.resize(size, Image.LANCZOS)\n",
    "        img.save(imgname)\n",
    "    except Exception as error:\n",
    "        logging.error(traceback.format_exc())"
   ]
  },
  {
   "cell_type": "code",
   "execution_count": 11,
   "metadata": {},
   "outputs": [],
   "source": [
    "resize_from_img(img, './encrypted-05rJTUWYAKNegBk2wE8X.png')"
   ]
  },
  {
   "cell_type": "code",
   "execution_count": 12,
   "metadata": {},
   "outputs": [],
   "source": [
    "# cipher_arr[1000:]"
   ]
  },
  {
   "cell_type": "code",
   "execution_count": null,
   "metadata": {},
   "outputs": [],
   "source": []
  }
 ],
 "metadata": {
  "kernelspec": {
   "display_name": "Python 3",
   "language": "python",
   "name": "python3"
  },
  "language_info": {
   "codemirror_mode": {
    "name": "ipython",
    "version": 3
   },
   "file_extension": ".py",
   "mimetype": "text/x-python",
   "name": "python",
   "nbconvert_exporter": "python",
   "pygments_lexer": "ipython3",
   "version": "3.6.6"
  }
 },
 "nbformat": 4,
 "nbformat_minor": 2
}
